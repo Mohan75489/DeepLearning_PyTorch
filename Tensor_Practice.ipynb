{
  "nbformat": 4,
  "nbformat_minor": 0,
  "metadata": {
    "colab": {
      "name": "Tensor_Practice.ipynb",
      "provenance": [],
      "authorship_tag": "ABX9TyOFK/yO7ZaEceSDEJVbURFS",
      "include_colab_link": true
    },
    "kernelspec": {
      "name": "python3",
      "display_name": "Python 3"
    },
    "language_info": {
      "name": "python"
    }
  },
  "cells": [
    {
      "cell_type": "markdown",
      "metadata": {
        "id": "view-in-github",
        "colab_type": "text"
      },
      "source": [
        "<a href=\"https://colab.research.google.com/github/Mohan75489/DeepLearning_PyTorch/blob/main/Tensor_Practice.ipynb\" target=\"_parent\"><img src=\"https://colab.research.google.com/assets/colab-badge.svg\" alt=\"Open In Colab\"/></a>"
      ]
    },
    {
      "cell_type": "code",
      "source": [
        "import torch"
      ],
      "metadata": {
        "id": "lQkUNum8Ihrj"
      },
      "execution_count": 1,
      "outputs": []
    },
    {
      "cell_type": "code",
      "source": [
        "#first tensor\n",
        "t0 = torch.tensor(4.)"
      ],
      "metadata": {
        "id": "f2cuPcX2IuUR"
      },
      "execution_count": 2,
      "outputs": []
    },
    {
      "cell_type": "code",
      "source": [
        "t0"
      ],
      "metadata": {
        "colab": {
          "base_uri": "https://localhost:8080/"
        },
        "id": "mcwfUVorI3ef",
        "outputId": "92e75889-eb13-4347-a954-740f404b5aad"
      },
      "execution_count": 3,
      "outputs": [
        {
          "output_type": "execute_result",
          "data": {
            "text/plain": [
              "tensor(4.)"
            ]
          },
          "metadata": {},
          "execution_count": 3
        }
      ]
    },
    {
      "cell_type": "code",
      "source": [
        "#2D tensor\n",
        "t2 = torch.tensor([[1.,2,3],[6,5,4]],requires_grad=True)\n",
        "#3D tensor\n",
        "t3 = torch.tensor([[[7,8,9],[10.,11,12]],[[14.,52,41],[15.,26,42.]]])\n",
        "t3"
      ],
      "metadata": {
        "colab": {
          "base_uri": "https://localhost:8080/"
        },
        "id": "oRO-BY2rI5bH",
        "outputId": "b6342bb9-5434-40cf-d51d-7439c78d0c24"
      },
      "execution_count": 4,
      "outputs": [
        {
          "output_type": "execute_result",
          "data": {
            "text/plain": [
              "tensor([[[ 7.,  8.,  9.],\n",
              "         [10., 11., 12.]],\n",
              "\n",
              "        [[14., 52., 41.],\n",
              "         [15., 26., 42.]]])"
            ]
          },
          "metadata": {},
          "execution_count": 4
        }
      ]
    },
    {
      "cell_type": "code",
      "source": [
        "t2"
      ],
      "metadata": {
        "colab": {
          "base_uri": "https://localhost:8080/"
        },
        "id": "ChjNWUNFJ6Sa",
        "outputId": "f70f14e9-813f-436d-97e1-e855b7c9c9e5"
      },
      "execution_count": 5,
      "outputs": [
        {
          "output_type": "execute_result",
          "data": {
            "text/plain": [
              "tensor([[1., 2., 3.],\n",
              "        [6., 5., 4.]], requires_grad=True)"
            ]
          },
          "metadata": {},
          "execution_count": 5
        }
      ]
    },
    {
      "cell_type": "code",
      "source": [
        "#finding shape of tesor\n",
        "t3.shape"
      ],
      "metadata": {
        "colab": {
          "base_uri": "https://localhost:8080/"
        },
        "id": "s61taaIUKFcA",
        "outputId": "61a23085-1117-42b9-d6ec-5152e77ac005"
      },
      "execution_count": 6,
      "outputs": [
        {
          "output_type": "execute_result",
          "data": {
            "text/plain": [
              "torch.Size([2, 2, 3])"
            ]
          },
          "metadata": {},
          "execution_count": 6
        }
      ]
    },
    {
      "cell_type": "code",
      "source": [
        "#reshaping the tensor\n",
        "#multiplicating value should be same while reshaping\n",
        "t4=t3.reshape(6,2)\n",
        "t4"
      ],
      "metadata": {
        "colab": {
          "base_uri": "https://localhost:8080/"
        },
        "id": "rdmImMFTKcPc",
        "outputId": "330a8376-3678-4a28-cacf-4e6c06840456"
      },
      "execution_count": 7,
      "outputs": [
        {
          "output_type": "execute_result",
          "data": {
            "text/plain": [
              "tensor([[ 7.,  8.],\n",
              "        [ 9., 10.],\n",
              "        [11., 12.],\n",
              "        [14., 52.],\n",
              "        [41., 15.],\n",
              "        [26., 42.]])"
            ]
          },
          "metadata": {},
          "execution_count": 7
        }
      ]
    },
    {
      "cell_type": "code",
      "source": [
        "#numpy interoperability\n",
        "import numpy as np"
      ],
      "metadata": {
        "id": "BRD9YNkSK2v8"
      },
      "execution_count": 8,
      "outputs": []
    },
    {
      "cell_type": "code",
      "source": [
        "#tensors in torch and array in numpy are interchangable\n",
        "a = np.array([[2.,2],[7.,4]])\n",
        "a"
      ],
      "metadata": {
        "colab": {
          "base_uri": "https://localhost:8080/"
        },
        "id": "9MLr3NnKLkgy",
        "outputId": "45533ef7-8e40-4ca1-9833-b5ba18690385"
      },
      "execution_count": 9,
      "outputs": [
        {
          "output_type": "execute_result",
          "data": {
            "text/plain": [
              "array([[2., 2.],\n",
              "       [7., 4.]])"
            ]
          },
          "metadata": {},
          "execution_count": 9
        }
      ]
    },
    {
      "cell_type": "code",
      "source": [
        "#numpy array to torch tensor coversion\n",
        "b = torch.from_numpy(a)\n",
        "b"
      ],
      "metadata": {
        "colab": {
          "base_uri": "https://localhost:8080/"
        },
        "id": "d2RDz_9YL0B1",
        "outputId": "c4353405-0cad-40d4-d507-692a4cc3bc01"
      },
      "execution_count": 10,
      "outputs": [
        {
          "output_type": "execute_result",
          "data": {
            "text/plain": [
              "tensor([[2., 2.],\n",
              "        [7., 4.]], dtype=torch.float64)"
            ]
          },
          "metadata": {},
          "execution_count": 10
        }
      ]
    },
    {
      "cell_type": "code",
      "source": [
        "#data types of torch and numpy are appears to be same but the aren't\n",
        "a.dtype,b.dtype"
      ],
      "metadata": {
        "colab": {
          "base_uri": "https://localhost:8080/"
        },
        "id": "5XrYnHq1MOvC",
        "outputId": "70d58929-d8e5-41c8-b0ee-76fc55ded705"
      },
      "execution_count": 11,
      "outputs": [
        {
          "output_type": "execute_result",
          "data": {
            "text/plain": [
              "(dtype('float64'), torch.float64)"
            ]
          },
          "metadata": {},
          "execution_count": 11
        }
      ]
    },
    {
      "cell_type": "code",
      "source": [
        "#conversion of torch tensor to numpy array\n",
        "c = b.numpy()\n",
        "c"
      ],
      "metadata": {
        "colab": {
          "base_uri": "https://localhost:8080/"
        },
        "id": "9NLwi4IoMcMJ",
        "outputId": "e71e1404-e79f-414b-ef61-08d04b88d6d4"
      },
      "execution_count": 12,
      "outputs": [
        {
          "output_type": "execute_result",
          "data": {
            "text/plain": [
              "array([[2., 2.],\n",
              "       [7., 4.]])"
            ]
          },
          "metadata": {},
          "execution_count": 12
        }
      ]
    },
    {
      "cell_type": "markdown",
      "source": [
        "Reading and preporcessing is done through numpy library of Python.\n",
        "But, torch is better for ML/DL problems because of it's ability to calculate Autograd adn operability on GPUs."
      ],
      "metadata": {
        "id": "Y3zNoO85NIAZ"
      }
    },
    {
      "cell_type": "code",
      "source": [
        "#arthemetic operations on tensor\n",
        "t1 = t2+t3\n",
        "t1"
      ],
      "metadata": {
        "colab": {
          "base_uri": "https://localhost:8080/"
        },
        "id": "Kvwx0zEWMouo",
        "outputId": "fdcf56bf-f264-4ab0-b2e7-e9ce52c6e9f0"
      },
      "execution_count": 13,
      "outputs": [
        {
          "output_type": "execute_result",
          "data": {
            "text/plain": [
              "tensor([[[ 8., 10., 12.],\n",
              "         [16., 16., 16.]],\n",
              "\n",
              "        [[15., 54., 44.],\n",
              "         [21., 31., 46.]]], grad_fn=<AddBackward0>)"
            ]
          },
          "metadata": {},
          "execution_count": 13
        }
      ]
    },
    {
      "cell_type": "code",
      "source": [
        "t2.shape"
      ],
      "metadata": {
        "colab": {
          "base_uri": "https://localhost:8080/"
        },
        "id": "w4xKXLclOocJ",
        "outputId": "17d9c911-a94e-4430-80a4-0beafddacf5c"
      },
      "execution_count": 14,
      "outputs": [
        {
          "output_type": "execute_result",
          "data": {
            "text/plain": [
              "torch.Size([2, 3])"
            ]
          },
          "metadata": {},
          "execution_count": 14
        }
      ]
    },
    {
      "cell_type": "code",
      "source": [
        "t4.shape"
      ],
      "metadata": {
        "colab": {
          "base_uri": "https://localhost:8080/"
        },
        "id": "UAmHafohOrVl",
        "outputId": "7b248499-c5d3-41b6-c024-320bf67a59cf"
      },
      "execution_count": 15,
      "outputs": [
        {
          "output_type": "execute_result",
          "data": {
            "text/plain": [
              "torch.Size([6, 2])"
            ]
          },
          "metadata": {},
          "execution_count": 15
        }
      ]
    },
    {
      "cell_type": "code",
      "source": [
        "#for concatenation shape should of same shape\n",
        "t5 = torch.cat([t2,t4],dim=6)\n",
        "t5"
      ],
      "metadata": {
        "colab": {
          "base_uri": "https://localhost:8080/",
          "height": 200
        },
        "id": "Fr1v7WRqNzKo",
        "outputId": "7e65f08a-e900-4c23-a3cd-db78b420c7eb"
      },
      "execution_count": 21,
      "outputs": [
        {
          "output_type": "error",
          "ename": "IndexError",
          "evalue": "ignored",
          "traceback": [
            "\u001b[0;31m---------------------------------------------------------------------------\u001b[0m",
            "\u001b[0;31mIndexError\u001b[0m                                Traceback (most recent call last)",
            "\u001b[0;32m<ipython-input-21-c1255c8c490f>\u001b[0m in \u001b[0;36m<module>\u001b[0;34m()\u001b[0m\n\u001b[1;32m      1\u001b[0m \u001b[0;31m#for concatenation shape should of same shape\u001b[0m\u001b[0;34m\u001b[0m\u001b[0;34m\u001b[0m\u001b[0;34m\u001b[0m\u001b[0m\n\u001b[0;32m----> 2\u001b[0;31m \u001b[0mt5\u001b[0m \u001b[0;34m=\u001b[0m \u001b[0mtorch\u001b[0m\u001b[0;34m.\u001b[0m\u001b[0mcat\u001b[0m\u001b[0;34m(\u001b[0m\u001b[0;34m[\u001b[0m\u001b[0mt2\u001b[0m\u001b[0;34m,\u001b[0m\u001b[0mt4\u001b[0m\u001b[0;34m]\u001b[0m\u001b[0;34m,\u001b[0m\u001b[0mdim\u001b[0m\u001b[0;34m=\u001b[0m\u001b[0;36m6\u001b[0m\u001b[0;34m)\u001b[0m\u001b[0;34m\u001b[0m\u001b[0;34m\u001b[0m\u001b[0m\n\u001b[0m\u001b[1;32m      3\u001b[0m \u001b[0mt5\u001b[0m\u001b[0;34m\u001b[0m\u001b[0;34m\u001b[0m\u001b[0m\n",
            "\u001b[0;31mIndexError\u001b[0m: Dimension out of range (expected to be in range of [-2, 1], but got 6)"
          ]
        }
      ]
    },
    {
      "cell_type": "code",
      "source": [
        "t6 = torch.tensor([[5,6,7.],[91,23.,4]])\n",
        "t6.shape"
      ],
      "metadata": {
        "colab": {
          "base_uri": "https://localhost:8080/"
        },
        "id": "PLc7reOPPGF9",
        "outputId": "5c084edd-af79-42cf-afcb-1b5d3f327345"
      },
      "execution_count": 22,
      "outputs": [
        {
          "output_type": "execute_result",
          "data": {
            "text/plain": [
              "torch.Size([2, 3])"
            ]
          },
          "metadata": {},
          "execution_count": 22
        }
      ]
    },
    {
      "cell_type": "code",
      "source": [
        "t5 = torch.cat((t2,t6))\n",
        "t5"
      ],
      "metadata": {
        "colab": {
          "base_uri": "https://localhost:8080/"
        },
        "id": "w4q-MrfTOKoI",
        "outputId": "6a6a3d06-26eb-4e4d-b506-9c9aa47790df"
      },
      "execution_count": 23,
      "outputs": [
        {
          "output_type": "execute_result",
          "data": {
            "text/plain": [
              "tensor([[ 1.,  2.,  3.],\n",
              "        [ 6.,  5.,  4.],\n",
              "        [ 5.,  6.,  7.],\n",
              "        [91., 23.,  4.]], grad_fn=<CatBackward0>)"
            ]
          },
          "metadata": {},
          "execution_count": 23
        }
      ]
    },
    {
      "cell_type": "code",
      "source": [
        "#repitative tensor with certain shape\n",
        "t7 = torch.full((2,2),5.,requires_grad=True)\n",
        "t7"
      ],
      "metadata": {
        "colab": {
          "base_uri": "https://localhost:8080/"
        },
        "id": "0Nn89R0wP1PG",
        "outputId": "c2aa902f-e5c3-4037-f5a3-72f07e89c250"
      },
      "execution_count": 24,
      "outputs": [
        {
          "output_type": "execute_result",
          "data": {
            "text/plain": [
              "tensor([[5., 5.],\n",
              "        [5., 5.]], requires_grad=True)"
            ]
          },
          "metadata": {},
          "execution_count": 24
        }
      ]
    },
    {
      "cell_type": "code",
      "source": [
        "t8 = torch.tensor(5., requires_grad=True)\n",
        "t9 = torch.tensor(4.)\n",
        "t10 = torch.tensor(2., requires_grad=True)"
      ],
      "metadata": {
        "id": "euUvxES2Vl7d"
      },
      "execution_count": 25,
      "outputs": []
    },
    {
      "cell_type": "code",
      "source": [
        "t11 = t8 * t9 + t10"
      ],
      "metadata": {
        "id": "sFa13gQBUJxs"
      },
      "execution_count": 26,
      "outputs": []
    },
    {
      "cell_type": "code",
      "source": [
        "# gradients can only be possible for SCALAR outputs\n",
        "t11.backward()"
      ],
      "metadata": {
        "id": "zUNYk5tbVWBp"
      },
      "execution_count": 27,
      "outputs": []
    },
    {
      "cell_type": "code",
      "source": [
        "print(t8.grad)\n",
        "print(t9.grad)\n",
        "print(t10.grad)"
      ],
      "metadata": {
        "colab": {
          "base_uri": "https://localhost:8080/"
        },
        "id": "V_4YyD6QWR8L",
        "outputId": "cade38f0-ca52-498f-9879-51051ebe110f"
      },
      "execution_count": 28,
      "outputs": [
        {
          "output_type": "stream",
          "name": "stdout",
          "text": [
            "tensor(4.)\n",
            "None\n",
            "tensor(1.)\n"
          ]
        }
      ]
    },
    {
      "cell_type": "code",
      "source": [
        "#other PyTorch functions\n",
        "torch.is_tensor(t1)"
      ],
      "metadata": {
        "colab": {
          "base_uri": "https://localhost:8080/"
        },
        "id": "A2vDPhtcWYjR",
        "outputId": "4f882385-77f2-4e10-c778-7bfab8d2ec05"
      },
      "execution_count": 29,
      "outputs": [
        {
          "output_type": "execute_result",
          "data": {
            "text/plain": [
              "True"
            ]
          },
          "metadata": {},
          "execution_count": 29
        }
      ]
    },
    {
      "cell_type": "code",
      "source": [
        "torch.is_storage(t2)"
      ],
      "metadata": {
        "colab": {
          "base_uri": "https://localhost:8080/"
        },
        "id": "uNSZuLNIW2Ml",
        "outputId": "5b9938ef-1d68-4bfd-8b82-eb2bb01698e3"
      },
      "execution_count": 30,
      "outputs": [
        {
          "output_type": "execute_result",
          "data": {
            "text/plain": [
              "False"
            ]
          },
          "metadata": {},
          "execution_count": 30
        }
      ]
    },
    {
      "cell_type": "code",
      "source": [
        "#length of the tensor (multiplication of shape values)\n",
        "torch.numel(t7)"
      ],
      "metadata": {
        "colab": {
          "base_uri": "https://localhost:8080/"
        },
        "id": "6878l5qHXDrk",
        "outputId": "57b274ab-3669-4e11-f3a5-2ed4374dd8fd"
      },
      "execution_count": 31,
      "outputs": [
        {
          "output_type": "execute_result",
          "data": {
            "text/plain": [
              "4"
            ]
          },
          "metadata": {},
          "execution_count": 31
        }
      ]
    },
    {
      "cell_type": "code",
      "source": [
        "torch.set_printoptions(t0)"
      ],
      "metadata": {
        "id": "5zwpaXkFXP4s"
      },
      "execution_count": 32,
      "outputs": []
    },
    {
      "cell_type": "code",
      "source": [
        "t0"
      ],
      "metadata": {
        "colab": {
          "base_uri": "https://localhost:8080/"
        },
        "id": "ubFhppm4XiGY",
        "outputId": "c37a306a-f6a0-494f-e508-7f0cc682ce08"
      },
      "execution_count": 33,
      "outputs": [
        {
          "output_type": "execute_result",
          "data": {
            "text/plain": [
              "tensor(4.)"
            ]
          },
          "metadata": {},
          "execution_count": 33
        }
      ]
    },
    {
      "cell_type": "code",
      "source": [
        "t1"
      ],
      "metadata": {
        "id": "ctw0xItXl8Yz",
        "outputId": "03d35a7f-1b19-482a-f2bf-2bc6e6c83b4f",
        "colab": {
          "base_uri": "https://localhost:8080/"
        }
      },
      "execution_count": 37,
      "outputs": [
        {
          "output_type": "execute_result",
          "data": {
            "text/plain": [
              "tensor([[[ 8., 10., 12.],\n",
              "         [16., 16., 16.]],\n",
              "\n",
              "        [[15., 54., 44.],\n",
              "         [21., 31., 46.]]], grad_fn=<AddBackward0>)"
            ]
          },
          "metadata": {},
          "execution_count": 37
        }
      ]
    },
    {
      "cell_type": "code",
      "source": [
        "#dim range is from -3 to 2\n",
        "t8 = torch.cat([t1,t1,t1],dim=-3)\n",
        "t8"
      ],
      "metadata": {
        "id": "E6R98LkTYepd",
        "colab": {
          "base_uri": "https://localhost:8080/"
        },
        "outputId": "9e6592a0-2166-4e53-fb2f-d6bd829b9184"
      },
      "execution_count": 78,
      "outputs": [
        {
          "output_type": "execute_result",
          "data": {
            "text/plain": [
              "tensor([[[ 8., 10., 12.],\n",
              "         [16., 16., 16.]],\n",
              "\n",
              "        [[15., 54., 44.],\n",
              "         [21., 31., 46.]],\n",
              "\n",
              "        [[ 8., 10., 12.],\n",
              "         [16., 16., 16.]],\n",
              "\n",
              "        [[15., 54., 44.],\n",
              "         [21., 31., 46.]],\n",
              "\n",
              "        [[ 8., 10., 12.],\n",
              "         [16., 16., 16.]],\n",
              "\n",
              "        [[15., 54., 44.],\n",
              "         [21., 31., 46.]]], grad_fn=<CatBackward0>)"
            ]
          },
          "metadata": {},
          "execution_count": 78
        }
      ]
    },
    {
      "cell_type": "code",
      "source": [
        "t1.sum()"
      ],
      "metadata": {
        "id": "Uis3oyQ0mYZI",
        "outputId": "ea043246-9eb4-4cbe-c817-75feddab65e1",
        "colab": {
          "base_uri": "https://localhost:8080/"
        }
      },
      "execution_count": 67,
      "outputs": [
        {
          "output_type": "execute_result",
          "data": {
            "text/plain": [
              "tensor(289., grad_fn=<SumBackward0>)"
            ]
          },
          "metadata": {},
          "execution_count": 67
        }
      ]
    },
    {
      "cell_type": "code",
      "source": [
        "#taking items from tensors, only for scalar tensors\n",
        "t1.sum().item()"
      ],
      "metadata": {
        "id": "tvyFkCU9pN9Q",
        "outputId": "c2370137-5e63-4989-b804-25e9cce3acd3",
        "colab": {
          "base_uri": "https://localhost:8080/"
        }
      },
      "execution_count": 69,
      "outputs": [
        {
          "output_type": "execute_result",
          "data": {
            "text/plain": [
              "289.0"
            ]
          },
          "metadata": {},
          "execution_count": 69
        }
      ]
    },
    {
      "cell_type": "code",
      "source": [
        "#in place operators \"_\"\n",
        "t8.copy_(t0)\n",
        "t8"
      ],
      "metadata": {
        "id": "Ogr3WsxIpjl4",
        "outputId": "ca4df7aa-4794-4a11-da8a-c7fa7816ca14",
        "colab": {
          "base_uri": "https://localhost:8080/"
        }
      },
      "execution_count": 80,
      "outputs": [
        {
          "output_type": "execute_result",
          "data": {
            "text/plain": [
              "tensor([[[4., 4., 4.],\n",
              "         [4., 4., 4.]],\n",
              "\n",
              "        [[4., 4., 4.],\n",
              "         [4., 4., 4.]],\n",
              "\n",
              "        [[4., 4., 4.],\n",
              "         [4., 4., 4.]],\n",
              "\n",
              "        [[4., 4., 4.],\n",
              "         [4., 4., 4.]],\n",
              "\n",
              "        [[4., 4., 4.],\n",
              "         [4., 4., 4.]],\n",
              "\n",
              "        [[4., 4., 4.],\n",
              "         [4., 4., 4.]]], grad_fn=<CopyBackwards>)"
            ]
          },
          "metadata": {},
          "execution_count": 80
        }
      ]
    },
    {
      "cell_type": "markdown",
      "source": [
        "To run on GPU we need to call CUDA"
      ],
      "metadata": {
        "id": "5IU_F8H4rt7q"
      }
    },
    {
      "cell_type": "code",
      "source": [
        "t12 = torch.arange(1,20,1)\n",
        "t12"
      ],
      "metadata": {
        "id": "Oe43-2j2tafr",
        "outputId": "c1ed2dd5-bb4f-43e6-c0ef-c43d06850371",
        "colab": {
          "base_uri": "https://localhost:8080/"
        }
      },
      "execution_count": 100,
      "outputs": [
        {
          "output_type": "execute_result",
          "data": {
            "text/plain": [
              "tensor([ 1,  2,  3,  4,  5,  6,  7,  8,  9, 10, 11, 12, 13, 14, 15, 16, 17, 18,\n",
              "        19])"
            ]
          },
          "metadata": {},
          "execution_count": 100
        }
      ]
    },
    {
      "cell_type": "code",
      "source": [
        "torch.set_num_threads(2)"
      ],
      "metadata": {
        "id": "3qYqSGzKuEkE"
      },
      "execution_count": 130,
      "outputs": []
    },
    {
      "cell_type": "code",
      "source": [
        "torch.get_num_threads()"
      ],
      "metadata": {
        "id": "eUJhi9BYum4M",
        "outputId": "0ac4eab5-1683-476f-def2-7235c65b8448",
        "colab": {
          "base_uri": "https://localhost:8080/"
        }
      },
      "execution_count": 131,
      "outputs": [
        {
          "output_type": "execute_result",
          "data": {
            "text/plain": [
              "2"
            ]
          },
          "metadata": {},
          "execution_count": 131
        }
      ]
    },
    {
      "cell_type": "code",
      "source": [
        ""
      ],
      "metadata": {
        "id": "mdOLoCzWxpnh"
      },
      "execution_count": null,
      "outputs": []
    }
  ]
}