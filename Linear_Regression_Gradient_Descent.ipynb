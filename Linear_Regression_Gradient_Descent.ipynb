{
  "nbformat": 4,
  "nbformat_minor": 0,
  "metadata": {
    "colab": {
      "name": "Linear Regression_Gradient Descent.ipynb",
      "provenance": [],
      "collapsed_sections": [],
      "authorship_tag": "ABX9TyM1ZJOOSta1SHt0tsZd32DV",
      "include_colab_link": true
    },
    "kernelspec": {
      "name": "python3",
      "display_name": "Python 3"
    },
    "language_info": {
      "name": "python"
    }
  },
  "cells": [
    {
      "cell_type": "markdown",
      "metadata": {
        "id": "view-in-github",
        "colab_type": "text"
      },
      "source": [
        "<a href=\"https://colab.research.google.com/github/Mohan75489/Mohan75489/blob/main/Linear_Regression_Gradient_Descent.ipynb\" target=\"_parent\"><img src=\"https://colab.research.google.com/assets/colab-badge.svg\" alt=\"Open In Colab\"/></a>"
      ]
    },
    {
      "cell_type": "code",
      "execution_count": 6,
      "metadata": {
        "colab": {
          "base_uri": "https://localhost:8080/",
          "height": 53
        },
        "id": "q4uflc11Z4-q",
        "outputId": "23c58d0f-1465-4dd4-f9f4-99ef0629383b"
      },
      "outputs": [
        {
          "output_type": "execute_result",
          "data": {
            "application/vnd.google.colaboratory.intrinsic+json": {
              "type": "string"
            },
            "text/plain": [
              "'DataPoint1: 73,62,44 gives 56,70\\nDataPoint1: 90,84,60 gives 82,104\\nDataPoint1: 71,155,58 gives 117,143\\nDataPoint1: 109,40,32 gives 20,42\\nDataPoint1: 69,99,74 gives 106,123'"
            ]
          },
          "metadata": {},
          "execution_count": 6
        }
      ],
      "source": [
        "#Predicting a dimension model\n",
        "#2 dependent & 3 independent variables for a data point\n",
        "'''DataPoint1: 73,62,44 gives 56,70\n",
        "DataPoint1: 90,84,60 gives 82,104\n",
        "DataPoint1: 71,155,58 gives 117,143\n",
        "DataPoint1: 109,40,32 gives 20,42\n",
        "DataPoint1: 69,99,74 gives 106,123'''"
      ]
    },
    {
      "cell_type": "code",
      "source": [
        "#consider it as linear regression problem\n",
        "#outputs (dependent variable) depends on each input(independent variables) with certain wait and a bias\n",
        "'''Dim1=w11*dim1+w12*dim2+w13*dim3+b1\n",
        "Dim2=w21*dim1+w22*dim2+w23*dim3+b2'''"
      ],
      "metadata": {
        "colab": {
          "base_uri": "https://localhost:8080/",
          "height": 35
        },
        "id": "Wci0pnKWaqCK",
        "outputId": "f1d946b7-d271-486f-f9fc-b8d9342e66cf"
      },
      "execution_count": 7,
      "outputs": [
        {
          "output_type": "execute_result",
          "data": {
            "application/vnd.google.colaboratory.intrinsic+json": {
              "type": "string"
            },
            "text/plain": [
              "'Dim1=w11*dim1+w12*dim2+w13*dim3\\nDim2=w21*dim1+w22*dim2+w23*dim3'"
            ]
          },
          "metadata": {},
          "execution_count": 7
        }
      ]
    },
    {
      "cell_type": "code",
      "source": [
        "#importing both numpy and PyTorch librarires\n",
        "import torch\n",
        "import numpy as np"
      ],
      "metadata": {
        "id": "T4jeOAnNdeB9"
      },
      "execution_count": 8,
      "outputs": []
    },
    {
      "cell_type": "markdown",
      "source": [
        "Keeping one data point for checking model predictions.\n",
        "Remaining 4 data points for training the model."
      ],
      "metadata": {
        "id": "2mE_KNord_Pt"
      }
    },
    {
      "cell_type": "code",
      "source": [
        "#taking inputs as numpy arrays and conversion to torch tensors\n",
        "inputs = np.array([[73,62,44],[90,84,60],[71,155,58],[109,40,32]],dtype='float32')\n",
        "targets = np.array([[56,70],[82,104],[117,143],[20,42]],dtype='float32')\n",
        "inputs = torch.from_numpy(inputs)\n",
        "targets = torch.from_numpy(targets)\n",
        "print(inputs)\n",
        "print(targets)"
      ],
      "metadata": {
        "colab": {
          "base_uri": "https://localhost:8080/"
        },
        "id": "F-EVsYOzdQR5",
        "outputId": "4df21477-3dfb-4a23-9fb3-549d5b52f7d1"
      },
      "execution_count": 11,
      "outputs": [
        {
          "output_type": "stream",
          "name": "stdout",
          "text": [
            "tensor([[ 73.,  62.,  44.],\n",
            "        [ 90.,  84.,  60.],\n",
            "        [ 71., 155.,  58.],\n",
            "        [109.,  40.,  32.]])\n",
            "tensor([[ 56.,  70.],\n",
            "        [ 82., 104.],\n",
            "        [117., 143.],\n",
            "        [ 20.,  42.]])\n"
          ]
        }
      ]
    },
    {
      "cell_type": "code",
      "source": [
        "#creating random weights and biases\n",
        "w = torch.randn(3,2, requires_grad=True) #beacause 3 rows and 2 columns\n",
        "b = torch.randn(2, requires_grad=True) #because 2 rows and 1 column\n",
        "print(w)\n",
        "print(b)"
      ],
      "metadata": {
        "colab": {
          "base_uri": "https://localhost:8080/"
        },
        "id": "-QS3Aicje2Rg",
        "outputId": "5dd390eb-e133-4f32-b0e5-53235fc261ef"
      },
      "execution_count": 14,
      "outputs": [
        {
          "output_type": "stream",
          "name": "stdout",
          "text": [
            "tensor([[-0.5931,  0.0968],\n",
            "        [-0.2538,  0.5006],\n",
            "        [-1.5394, -1.3149]], requires_grad=True)\n",
            "tensor([2.8887, 0.5801], requires_grad=True)\n"
          ]
        }
      ]
    },
    {
      "cell_type": "code",
      "source": [
        "#creating a function to take inputs\n",
        "def model(x):\n",
        "    return x @ w +b"
      ],
      "metadata": {
        "id": "bY8MQohofi03"
      },
      "execution_count": 16,
      "outputs": []
    },
    {
      "cell_type": "code",
      "source": [
        "#predicting first time (obviously too much far from actual values)\n",
        "predict = model(inputs)\n",
        "print(predict)"
      ],
      "metadata": {
        "colab": {
          "base_uri": "https://localhost:8080/"
        },
        "id": "vjHQk1KlgrCA",
        "outputId": "74f2ea75-5a68-4cdb-92df-d2432a6eb399"
      },
      "execution_count": 17,
      "outputs": [
        {
          "output_type": "stream",
          "name": "stdout",
          "text": [
            "tensor([[-123.8778,  -19.1739],\n",
            "        [-164.1746,  -27.5541],\n",
            "        [-167.8459,    8.7773],\n",
            "        [-121.1746,  -10.9233]], grad_fn=<AddBackward0>)\n"
          ]
        }
      ]
    },
    {
      "cell_type": "code",
      "source": [
        "#error or loss function (using mean sqaure error)\n",
        "def mse(t1,t2):\n",
        "      diff=t1-t2\n",
        "      return torch.sum(diff*diff)/diff.numel()"
      ],
      "metadata": {
        "id": "dCxYnqCohQK9"
      },
      "execution_count": 18,
      "outputs": []
    },
    {
      "cell_type": "code",
      "source": [
        "#calculating loss using mse function created\n",
        "loss = mse(predict,targets)\n",
        "print(loss)"
      ],
      "metadata": {
        "colab": {
          "base_uri": "https://localhost:8080/"
        },
        "id": "IWZnm82vh9k3",
        "outputId": "20051cbf-6dec-412d-a939-361889061607"
      },
      "execution_count": 19,
      "outputs": [
        {
          "output_type": "stream",
          "name": "stdout",
          "text": [
            "tensor(30012.5566, grad_fn=<DivBackward0>)\n"
          ]
        }
      ]
    },
    {
      "cell_type": "code",
      "source": [
        "#loss is near to zero means model is predicting well (current model is too far from good)\n",
        "#compute gradients, it's slope of loss function with respect to it's dependents (weights and biases).\n",
        "loss.backward()\n",
        "print(w)\n",
        "print(w.grad)"
      ],
      "metadata": {
        "colab": {
          "base_uri": "https://localhost:8080/"
        },
        "id": "ZSuKfGmViLqS",
        "outputId": "4cc3fd42-f661-4d0f-a950-14d14f033129"
      },
      "execution_count": 20,
      "outputs": [
        {
          "output_type": "stream",
          "name": "stdout",
          "text": [
            "tensor([[-0.5931,  0.0968],\n",
            "        [-0.2538,  0.5006],\n",
            "        [-1.5394, -1.3149]], requires_grad=True)\n",
            "tensor([[-17724.7188,  -8412.0029],\n",
            "        [-20407.2969,  -9875.1934],\n",
            "        [-10930.9365,  -5323.8394]])\n"
          ]
        }
      ]
    },
    {
      "cell_type": "code",
      "source": [
        ""
      ],
      "metadata": {
        "id": "r-71iRA-kWC-"
      },
      "execution_count": null,
      "outputs": []
    }
  ]
}