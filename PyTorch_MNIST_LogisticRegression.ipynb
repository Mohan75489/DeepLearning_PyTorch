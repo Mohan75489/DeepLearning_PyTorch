{
  "nbformat": 4,
  "nbformat_minor": 0,
  "metadata": {
    "colab": {
      "name": "PyTorch_MNIST_LogisticRegression",
      "provenance": [],
      "authorship_tag": "ABX9TyNnfYIukflYu0A3firWpgUA",
      "include_colab_link": true
    },
    "kernelspec": {
      "name": "python3",
      "display_name": "Python 3"
    },
    "language_info": {
      "name": "python"
    },
    "widgets": {
      "application/vnd.jupyter.widget-state+json": {
        "bcc070a3797b45a2b2e28ace829f6daa": {
          "model_module": "@jupyter-widgets/controls",
          "model_name": "HBoxModel",
          "model_module_version": "1.5.0",
          "state": {
            "_view_name": "HBoxView",
            "_dom_classes": [],
            "_model_name": "HBoxModel",
            "_view_module": "@jupyter-widgets/controls",
            "_model_module_version": "1.5.0",
            "_view_count": null,
            "_view_module_version": "1.5.0",
            "box_style": "",
            "layout": "IPY_MODEL_7234878d63e141b28b56d8e86bdacbd3",
            "_model_module": "@jupyter-widgets/controls",
            "children": [
              "IPY_MODEL_861ab837d5d24f1a9cd0867643d372a6",
              "IPY_MODEL_e11c769d6a3a4e798d1c321353bbc92e",
              "IPY_MODEL_e9e24535ebb94ba580c9e5602fadadbd"
            ]
          }
        },
        "7234878d63e141b28b56d8e86bdacbd3": {
          "model_module": "@jupyter-widgets/base",
          "model_name": "LayoutModel",
          "model_module_version": "1.2.0",
          "state": {
            "_view_name": "LayoutView",
            "grid_template_rows": null,
            "right": null,
            "justify_content": null,
            "_view_module": "@jupyter-widgets/base",
            "overflow": null,
            "_model_module_version": "1.2.0",
            "_view_count": null,
            "flex_flow": null,
            "width": null,
            "min_width": null,
            "border": null,
            "align_items": null,
            "bottom": null,
            "_model_module": "@jupyter-widgets/base",
            "top": null,
            "grid_column": null,
            "overflow_y": null,
            "overflow_x": null,
            "grid_auto_flow": null,
            "grid_area": null,
            "grid_template_columns": null,
            "flex": null,
            "_model_name": "LayoutModel",
            "justify_items": null,
            "grid_row": null,
            "max_height": null,
            "align_content": null,
            "visibility": null,
            "align_self": null,
            "height": null,
            "min_height": null,
            "padding": null,
            "grid_auto_rows": null,
            "grid_gap": null,
            "max_width": null,
            "order": null,
            "_view_module_version": "1.2.0",
            "grid_template_areas": null,
            "object_position": null,
            "object_fit": null,
            "grid_auto_columns": null,
            "margin": null,
            "display": null,
            "left": null
          }
        },
        "861ab837d5d24f1a9cd0867643d372a6": {
          "model_module": "@jupyter-widgets/controls",
          "model_name": "HTMLModel",
          "model_module_version": "1.5.0",
          "state": {
            "_view_name": "HTMLView",
            "style": "IPY_MODEL_99b05a6c903a4205aafb6cca7fb4aa2d",
            "_dom_classes": [],
            "description": "",
            "_model_name": "HTMLModel",
            "placeholder": "​",
            "_view_module": "@jupyter-widgets/controls",
            "_model_module_version": "1.5.0",
            "value": "",
            "_view_count": null,
            "_view_module_version": "1.5.0",
            "description_tooltip": null,
            "_model_module": "@jupyter-widgets/controls",
            "layout": "IPY_MODEL_aa5ac5063c6645acb8e7010a549ec116"
          }
        },
        "e11c769d6a3a4e798d1c321353bbc92e": {
          "model_module": "@jupyter-widgets/controls",
          "model_name": "FloatProgressModel",
          "model_module_version": "1.5.0",
          "state": {
            "_view_name": "ProgressView",
            "style": "IPY_MODEL_754e803e2e3d427ebf3df4e7086c8691",
            "_dom_classes": [],
            "description": "",
            "_model_name": "FloatProgressModel",
            "bar_style": "success",
            "max": 9912422,
            "_view_module": "@jupyter-widgets/controls",
            "_model_module_version": "1.5.0",
            "value": 9912422,
            "_view_count": null,
            "_view_module_version": "1.5.0",
            "orientation": "horizontal",
            "min": 0,
            "description_tooltip": null,
            "_model_module": "@jupyter-widgets/controls",
            "layout": "IPY_MODEL_6453828a673c43d291673896ebe330b3"
          }
        },
        "e9e24535ebb94ba580c9e5602fadadbd": {
          "model_module": "@jupyter-widgets/controls",
          "model_name": "HTMLModel",
          "model_module_version": "1.5.0",
          "state": {
            "_view_name": "HTMLView",
            "style": "IPY_MODEL_28b4cc4a4ccd4983aa85967cfaf05139",
            "_dom_classes": [],
            "description": "",
            "_model_name": "HTMLModel",
            "placeholder": "​",
            "_view_module": "@jupyter-widgets/controls",
            "_model_module_version": "1.5.0",
            "value": " 9913344/? [00:00&lt;00:00, 15380017.97it/s]",
            "_view_count": null,
            "_view_module_version": "1.5.0",
            "description_tooltip": null,
            "_model_module": "@jupyter-widgets/controls",
            "layout": "IPY_MODEL_3a3c0003a87342cc9187da0e000463bb"
          }
        },
        "99b05a6c903a4205aafb6cca7fb4aa2d": {
          "model_module": "@jupyter-widgets/controls",
          "model_name": "DescriptionStyleModel",
          "model_module_version": "1.5.0",
          "state": {
            "_view_name": "StyleView",
            "_model_name": "DescriptionStyleModel",
            "description_width": "",
            "_view_module": "@jupyter-widgets/base",
            "_model_module_version": "1.5.0",
            "_view_count": null,
            "_view_module_version": "1.2.0",
            "_model_module": "@jupyter-widgets/controls"
          }
        },
        "aa5ac5063c6645acb8e7010a549ec116": {
          "model_module": "@jupyter-widgets/base",
          "model_name": "LayoutModel",
          "model_module_version": "1.2.0",
          "state": {
            "_view_name": "LayoutView",
            "grid_template_rows": null,
            "right": null,
            "justify_content": null,
            "_view_module": "@jupyter-widgets/base",
            "overflow": null,
            "_model_module_version": "1.2.0",
            "_view_count": null,
            "flex_flow": null,
            "width": null,
            "min_width": null,
            "border": null,
            "align_items": null,
            "bottom": null,
            "_model_module": "@jupyter-widgets/base",
            "top": null,
            "grid_column": null,
            "overflow_y": null,
            "overflow_x": null,
            "grid_auto_flow": null,
            "grid_area": null,
            "grid_template_columns": null,
            "flex": null,
            "_model_name": "LayoutModel",
            "justify_items": null,
            "grid_row": null,
            "max_height": null,
            "align_content": null,
            "visibility": null,
            "align_self": null,
            "height": null,
            "min_height": null,
            "padding": null,
            "grid_auto_rows": null,
            "grid_gap": null,
            "max_width": null,
            "order": null,
            "_view_module_version": "1.2.0",
            "grid_template_areas": null,
            "object_position": null,
            "object_fit": null,
            "grid_auto_columns": null,
            "margin": null,
            "display": null,
            "left": null
          }
        },
        "754e803e2e3d427ebf3df4e7086c8691": {
          "model_module": "@jupyter-widgets/controls",
          "model_name": "ProgressStyleModel",
          "model_module_version": "1.5.0",
          "state": {
            "_view_name": "StyleView",
            "_model_name": "ProgressStyleModel",
            "description_width": "",
            "_view_module": "@jupyter-widgets/base",
            "_model_module_version": "1.5.0",
            "_view_count": null,
            "_view_module_version": "1.2.0",
            "bar_color": null,
            "_model_module": "@jupyter-widgets/controls"
          }
        },
        "6453828a673c43d291673896ebe330b3": {
          "model_module": "@jupyter-widgets/base",
          "model_name": "LayoutModel",
          "model_module_version": "1.2.0",
          "state": {
            "_view_name": "LayoutView",
            "grid_template_rows": null,
            "right": null,
            "justify_content": null,
            "_view_module": "@jupyter-widgets/base",
            "overflow": null,
            "_model_module_version": "1.2.0",
            "_view_count": null,
            "flex_flow": null,
            "width": null,
            "min_width": null,
            "border": null,
            "align_items": null,
            "bottom": null,
            "_model_module": "@jupyter-widgets/base",
            "top": null,
            "grid_column": null,
            "overflow_y": null,
            "overflow_x": null,
            "grid_auto_flow": null,
            "grid_area": null,
            "grid_template_columns": null,
            "flex": null,
            "_model_name": "LayoutModel",
            "justify_items": null,
            "grid_row": null,
            "max_height": null,
            "align_content": null,
            "visibility": null,
            "align_self": null,
            "height": null,
            "min_height": null,
            "padding": null,
            "grid_auto_rows": null,
            "grid_gap": null,
            "max_width": null,
            "order": null,
            "_view_module_version": "1.2.0",
            "grid_template_areas": null,
            "object_position": null,
            "object_fit": null,
            "grid_auto_columns": null,
            "margin": null,
            "display": null,
            "left": null
          }
        },
        "28b4cc4a4ccd4983aa85967cfaf05139": {
          "model_module": "@jupyter-widgets/controls",
          "model_name": "DescriptionStyleModel",
          "model_module_version": "1.5.0",
          "state": {
            "_view_name": "StyleView",
            "_model_name": "DescriptionStyleModel",
            "description_width": "",
            "_view_module": "@jupyter-widgets/base",
            "_model_module_version": "1.5.0",
            "_view_count": null,
            "_view_module_version": "1.2.0",
            "_model_module": "@jupyter-widgets/controls"
          }
        },
        "3a3c0003a87342cc9187da0e000463bb": {
          "model_module": "@jupyter-widgets/base",
          "model_name": "LayoutModel",
          "model_module_version": "1.2.0",
          "state": {
            "_view_name": "LayoutView",
            "grid_template_rows": null,
            "right": null,
            "justify_content": null,
            "_view_module": "@jupyter-widgets/base",
            "overflow": null,
            "_model_module_version": "1.2.0",
            "_view_count": null,
            "flex_flow": null,
            "width": null,
            "min_width": null,
            "border": null,
            "align_items": null,
            "bottom": null,
            "_model_module": "@jupyter-widgets/base",
            "top": null,
            "grid_column": null,
            "overflow_y": null,
            "overflow_x": null,
            "grid_auto_flow": null,
            "grid_area": null,
            "grid_template_columns": null,
            "flex": null,
            "_model_name": "LayoutModel",
            "justify_items": null,
            "grid_row": null,
            "max_height": null,
            "align_content": null,
            "visibility": null,
            "align_self": null,
            "height": null,
            "min_height": null,
            "padding": null,
            "grid_auto_rows": null,
            "grid_gap": null,
            "max_width": null,
            "order": null,
            "_view_module_version": "1.2.0",
            "grid_template_areas": null,
            "object_position": null,
            "object_fit": null,
            "grid_auto_columns": null,
            "margin": null,
            "display": null,
            "left": null
          }
        },
        "0f3f4b9a19e348d0a2fcc17ca67b9ec7": {
          "model_module": "@jupyter-widgets/controls",
          "model_name": "HBoxModel",
          "model_module_version": "1.5.0",
          "state": {
            "_view_name": "HBoxView",
            "_dom_classes": [],
            "_model_name": "HBoxModel",
            "_view_module": "@jupyter-widgets/controls",
            "_model_module_version": "1.5.0",
            "_view_count": null,
            "_view_module_version": "1.5.0",
            "box_style": "",
            "layout": "IPY_MODEL_80a369c6a5744864929102d4db43a860",
            "_model_module": "@jupyter-widgets/controls",
            "children": [
              "IPY_MODEL_48abd29b45ba42b696750f7824b19ced",
              "IPY_MODEL_2180b6acb266437499124a3597e9f0ee",
              "IPY_MODEL_8083c6c2ae21479dab053e551da5ecba"
            ]
          }
        },
        "80a369c6a5744864929102d4db43a860": {
          "model_module": "@jupyter-widgets/base",
          "model_name": "LayoutModel",
          "model_module_version": "1.2.0",
          "state": {
            "_view_name": "LayoutView",
            "grid_template_rows": null,
            "right": null,
            "justify_content": null,
            "_view_module": "@jupyter-widgets/base",
            "overflow": null,
            "_model_module_version": "1.2.0",
            "_view_count": null,
            "flex_flow": null,
            "width": null,
            "min_width": null,
            "border": null,
            "align_items": null,
            "bottom": null,
            "_model_module": "@jupyter-widgets/base",
            "top": null,
            "grid_column": null,
            "overflow_y": null,
            "overflow_x": null,
            "grid_auto_flow": null,
            "grid_area": null,
            "grid_template_columns": null,
            "flex": null,
            "_model_name": "LayoutModel",
            "justify_items": null,
            "grid_row": null,
            "max_height": null,
            "align_content": null,
            "visibility": null,
            "align_self": null,
            "height": null,
            "min_height": null,
            "padding": null,
            "grid_auto_rows": null,
            "grid_gap": null,
            "max_width": null,
            "order": null,
            "_view_module_version": "1.2.0",
            "grid_template_areas": null,
            "object_position": null,
            "object_fit": null,
            "grid_auto_columns": null,
            "margin": null,
            "display": null,
            "left": null
          }
        },
        "48abd29b45ba42b696750f7824b19ced": {
          "model_module": "@jupyter-widgets/controls",
          "model_name": "HTMLModel",
          "model_module_version": "1.5.0",
          "state": {
            "_view_name": "HTMLView",
            "style": "IPY_MODEL_90c5e75b3d1843fa855c16c245af052c",
            "_dom_classes": [],
            "description": "",
            "_model_name": "HTMLModel",
            "placeholder": "​",
            "_view_module": "@jupyter-widgets/controls",
            "_model_module_version": "1.5.0",
            "value": "",
            "_view_count": null,
            "_view_module_version": "1.5.0",
            "description_tooltip": null,
            "_model_module": "@jupyter-widgets/controls",
            "layout": "IPY_MODEL_730e4b45b6f6451aae03510dea2ec0bc"
          }
        },
        "2180b6acb266437499124a3597e9f0ee": {
          "model_module": "@jupyter-widgets/controls",
          "model_name": "FloatProgressModel",
          "model_module_version": "1.5.0",
          "state": {
            "_view_name": "ProgressView",
            "style": "IPY_MODEL_fa1dcab4412b47ecb7ea0bac9b8d2651",
            "_dom_classes": [],
            "description": "",
            "_model_name": "FloatProgressModel",
            "bar_style": "success",
            "max": 28881,
            "_view_module": "@jupyter-widgets/controls",
            "_model_module_version": "1.5.0",
            "value": 28881,
            "_view_count": null,
            "_view_module_version": "1.5.0",
            "orientation": "horizontal",
            "min": 0,
            "description_tooltip": null,
            "_model_module": "@jupyter-widgets/controls",
            "layout": "IPY_MODEL_361513e8b66149ae9a259f9e56eb7eab"
          }
        },
        "8083c6c2ae21479dab053e551da5ecba": {
          "model_module": "@jupyter-widgets/controls",
          "model_name": "HTMLModel",
          "model_module_version": "1.5.0",
          "state": {
            "_view_name": "HTMLView",
            "style": "IPY_MODEL_c83ab0ef150146cc93705e30fc1c3081",
            "_dom_classes": [],
            "description": "",
            "_model_name": "HTMLModel",
            "placeholder": "​",
            "_view_module": "@jupyter-widgets/controls",
            "_model_module_version": "1.5.0",
            "value": " 29696/? [00:00&lt;00:00, 517212.38it/s]",
            "_view_count": null,
            "_view_module_version": "1.5.0",
            "description_tooltip": null,
            "_model_module": "@jupyter-widgets/controls",
            "layout": "IPY_MODEL_c4fd10b6f4ad4a798e58d833d8c29ffe"
          }
        },
        "90c5e75b3d1843fa855c16c245af052c": {
          "model_module": "@jupyter-widgets/controls",
          "model_name": "DescriptionStyleModel",
          "model_module_version": "1.5.0",
          "state": {
            "_view_name": "StyleView",
            "_model_name": "DescriptionStyleModel",
            "description_width": "",
            "_view_module": "@jupyter-widgets/base",
            "_model_module_version": "1.5.0",
            "_view_count": null,
            "_view_module_version": "1.2.0",
            "_model_module": "@jupyter-widgets/controls"
          }
        },
        "730e4b45b6f6451aae03510dea2ec0bc": {
          "model_module": "@jupyter-widgets/base",
          "model_name": "LayoutModel",
          "model_module_version": "1.2.0",
          "state": {
            "_view_name": "LayoutView",
            "grid_template_rows": null,
            "right": null,
            "justify_content": null,
            "_view_module": "@jupyter-widgets/base",
            "overflow": null,
            "_model_module_version": "1.2.0",
            "_view_count": null,
            "flex_flow": null,
            "width": null,
            "min_width": null,
            "border": null,
            "align_items": null,
            "bottom": null,
            "_model_module": "@jupyter-widgets/base",
            "top": null,
            "grid_column": null,
            "overflow_y": null,
            "overflow_x": null,
            "grid_auto_flow": null,
            "grid_area": null,
            "grid_template_columns": null,
            "flex": null,
            "_model_name": "LayoutModel",
            "justify_items": null,
            "grid_row": null,
            "max_height": null,
            "align_content": null,
            "visibility": null,
            "align_self": null,
            "height": null,
            "min_height": null,
            "padding": null,
            "grid_auto_rows": null,
            "grid_gap": null,
            "max_width": null,
            "order": null,
            "_view_module_version": "1.2.0",
            "grid_template_areas": null,
            "object_position": null,
            "object_fit": null,
            "grid_auto_columns": null,
            "margin": null,
            "display": null,
            "left": null
          }
        },
        "fa1dcab4412b47ecb7ea0bac9b8d2651": {
          "model_module": "@jupyter-widgets/controls",
          "model_name": "ProgressStyleModel",
          "model_module_version": "1.5.0",
          "state": {
            "_view_name": "StyleView",
            "_model_name": "ProgressStyleModel",
            "description_width": "",
            "_view_module": "@jupyter-widgets/base",
            "_model_module_version": "1.5.0",
            "_view_count": null,
            "_view_module_version": "1.2.0",
            "bar_color": null,
            "_model_module": "@jupyter-widgets/controls"
          }
        },
        "361513e8b66149ae9a259f9e56eb7eab": {
          "model_module": "@jupyter-widgets/base",
          "model_name": "LayoutModel",
          "model_module_version": "1.2.0",
          "state": {
            "_view_name": "LayoutView",
            "grid_template_rows": null,
            "right": null,
            "justify_content": null,
            "_view_module": "@jupyter-widgets/base",
            "overflow": null,
            "_model_module_version": "1.2.0",
            "_view_count": null,
            "flex_flow": null,
            "width": null,
            "min_width": null,
            "border": null,
            "align_items": null,
            "bottom": null,
            "_model_module": "@jupyter-widgets/base",
            "top": null,
            "grid_column": null,
            "overflow_y": null,
            "overflow_x": null,
            "grid_auto_flow": null,
            "grid_area": null,
            "grid_template_columns": null,
            "flex": null,
            "_model_name": "LayoutModel",
            "justify_items": null,
            "grid_row": null,
            "max_height": null,
            "align_content": null,
            "visibility": null,
            "align_self": null,
            "height": null,
            "min_height": null,
            "padding": null,
            "grid_auto_rows": null,
            "grid_gap": null,
            "max_width": null,
            "order": null,
            "_view_module_version": "1.2.0",
            "grid_template_areas": null,
            "object_position": null,
            "object_fit": null,
            "grid_auto_columns": null,
            "margin": null,
            "display": null,
            "left": null
          }
        },
        "c83ab0ef150146cc93705e30fc1c3081": {
          "model_module": "@jupyter-widgets/controls",
          "model_name": "DescriptionStyleModel",
          "model_module_version": "1.5.0",
          "state": {
            "_view_name": "StyleView",
            "_model_name": "DescriptionStyleModel",
            "description_width": "",
            "_view_module": "@jupyter-widgets/base",
            "_model_module_version": "1.5.0",
            "_view_count": null,
            "_view_module_version": "1.2.0",
            "_model_module": "@jupyter-widgets/controls"
          }
        },
        "c4fd10b6f4ad4a798e58d833d8c29ffe": {
          "model_module": "@jupyter-widgets/base",
          "model_name": "LayoutModel",
          "model_module_version": "1.2.0",
          "state": {
            "_view_name": "LayoutView",
            "grid_template_rows": null,
            "right": null,
            "justify_content": null,
            "_view_module": "@jupyter-widgets/base",
            "overflow": null,
            "_model_module_version": "1.2.0",
            "_view_count": null,
            "flex_flow": null,
            "width": null,
            "min_width": null,
            "border": null,
            "align_items": null,
            "bottom": null,
            "_model_module": "@jupyter-widgets/base",
            "top": null,
            "grid_column": null,
            "overflow_y": null,
            "overflow_x": null,
            "grid_auto_flow": null,
            "grid_area": null,
            "grid_template_columns": null,
            "flex": null,
            "_model_name": "LayoutModel",
            "justify_items": null,
            "grid_row": null,
            "max_height": null,
            "align_content": null,
            "visibility": null,
            "align_self": null,
            "height": null,
            "min_height": null,
            "padding": null,
            "grid_auto_rows": null,
            "grid_gap": null,
            "max_width": null,
            "order": null,
            "_view_module_version": "1.2.0",
            "grid_template_areas": null,
            "object_position": null,
            "object_fit": null,
            "grid_auto_columns": null,
            "margin": null,
            "display": null,
            "left": null
          }
        },
        "28a9434e42834ffaa06c19014236ed19": {
          "model_module": "@jupyter-widgets/controls",
          "model_name": "HBoxModel",
          "model_module_version": "1.5.0",
          "state": {
            "_view_name": "HBoxView",
            "_dom_classes": [],
            "_model_name": "HBoxModel",
            "_view_module": "@jupyter-widgets/controls",
            "_model_module_version": "1.5.0",
            "_view_count": null,
            "_view_module_version": "1.5.0",
            "box_style": "",
            "layout": "IPY_MODEL_c1f64086e1a6462ca93f2f6d33fd2d8b",
            "_model_module": "@jupyter-widgets/controls",
            "children": [
              "IPY_MODEL_e93ca8c002cc4f108e3ba82cb40cd41d",
              "IPY_MODEL_b163e3687bde4d25bc40ecbb9549ac68",
              "IPY_MODEL_2a897ea4eef540ea9b6e19b343fa8779"
            ]
          }
        },
        "c1f64086e1a6462ca93f2f6d33fd2d8b": {
          "model_module": "@jupyter-widgets/base",
          "model_name": "LayoutModel",
          "model_module_version": "1.2.0",
          "state": {
            "_view_name": "LayoutView",
            "grid_template_rows": null,
            "right": null,
            "justify_content": null,
            "_view_module": "@jupyter-widgets/base",
            "overflow": null,
            "_model_module_version": "1.2.0",
            "_view_count": null,
            "flex_flow": null,
            "width": null,
            "min_width": null,
            "border": null,
            "align_items": null,
            "bottom": null,
            "_model_module": "@jupyter-widgets/base",
            "top": null,
            "grid_column": null,
            "overflow_y": null,
            "overflow_x": null,
            "grid_auto_flow": null,
            "grid_area": null,
            "grid_template_columns": null,
            "flex": null,
            "_model_name": "LayoutModel",
            "justify_items": null,
            "grid_row": null,
            "max_height": null,
            "align_content": null,
            "visibility": null,
            "align_self": null,
            "height": null,
            "min_height": null,
            "padding": null,
            "grid_auto_rows": null,
            "grid_gap": null,
            "max_width": null,
            "order": null,
            "_view_module_version": "1.2.0",
            "grid_template_areas": null,
            "object_position": null,
            "object_fit": null,
            "grid_auto_columns": null,
            "margin": null,
            "display": null,
            "left": null
          }
        },
        "e93ca8c002cc4f108e3ba82cb40cd41d": {
          "model_module": "@jupyter-widgets/controls",
          "model_name": "HTMLModel",
          "model_module_version": "1.5.0",
          "state": {
            "_view_name": "HTMLView",
            "style": "IPY_MODEL_9b0d073ea49240a5ba8aa964fd421ae4",
            "_dom_classes": [],
            "description": "",
            "_model_name": "HTMLModel",
            "placeholder": "​",
            "_view_module": "@jupyter-widgets/controls",
            "_model_module_version": "1.5.0",
            "value": "",
            "_view_count": null,
            "_view_module_version": "1.5.0",
            "description_tooltip": null,
            "_model_module": "@jupyter-widgets/controls",
            "layout": "IPY_MODEL_8a34fb0a2c984ce2820be4cde7d96000"
          }
        },
        "b163e3687bde4d25bc40ecbb9549ac68": {
          "model_module": "@jupyter-widgets/controls",
          "model_name": "FloatProgressModel",
          "model_module_version": "1.5.0",
          "state": {
            "_view_name": "ProgressView",
            "style": "IPY_MODEL_14e1dfc2e0064baba5a6cf8677007af0",
            "_dom_classes": [],
            "description": "",
            "_model_name": "FloatProgressModel",
            "bar_style": "success",
            "max": 1648877,
            "_view_module": "@jupyter-widgets/controls",
            "_model_module_version": "1.5.0",
            "value": 1648877,
            "_view_count": null,
            "_view_module_version": "1.5.0",
            "orientation": "horizontal",
            "min": 0,
            "description_tooltip": null,
            "_model_module": "@jupyter-widgets/controls",
            "layout": "IPY_MODEL_6271c888f1d74ae5b042e744c8f4407d"
          }
        },
        "2a897ea4eef540ea9b6e19b343fa8779": {
          "model_module": "@jupyter-widgets/controls",
          "model_name": "HTMLModel",
          "model_module_version": "1.5.0",
          "state": {
            "_view_name": "HTMLView",
            "style": "IPY_MODEL_dc544bf211cb4c3288fe7e9c67dc596a",
            "_dom_classes": [],
            "description": "",
            "_model_name": "HTMLModel",
            "placeholder": "​",
            "_view_module": "@jupyter-widgets/controls",
            "_model_module_version": "1.5.0",
            "value": " 1649664/? [00:00&lt;00:00, 20850235.39it/s]",
            "_view_count": null,
            "_view_module_version": "1.5.0",
            "description_tooltip": null,
            "_model_module": "@jupyter-widgets/controls",
            "layout": "IPY_MODEL_582814d3c2874d69971d6e949043bcee"
          }
        },
        "9b0d073ea49240a5ba8aa964fd421ae4": {
          "model_module": "@jupyter-widgets/controls",
          "model_name": "DescriptionStyleModel",
          "model_module_version": "1.5.0",
          "state": {
            "_view_name": "StyleView",
            "_model_name": "DescriptionStyleModel",
            "description_width": "",
            "_view_module": "@jupyter-widgets/base",
            "_model_module_version": "1.5.0",
            "_view_count": null,
            "_view_module_version": "1.2.0",
            "_model_module": "@jupyter-widgets/controls"
          }
        },
        "8a34fb0a2c984ce2820be4cde7d96000": {
          "model_module": "@jupyter-widgets/base",
          "model_name": "LayoutModel",
          "model_module_version": "1.2.0",
          "state": {
            "_view_name": "LayoutView",
            "grid_template_rows": null,
            "right": null,
            "justify_content": null,
            "_view_module": "@jupyter-widgets/base",
            "overflow": null,
            "_model_module_version": "1.2.0",
            "_view_count": null,
            "flex_flow": null,
            "width": null,
            "min_width": null,
            "border": null,
            "align_items": null,
            "bottom": null,
            "_model_module": "@jupyter-widgets/base",
            "top": null,
            "grid_column": null,
            "overflow_y": null,
            "overflow_x": null,
            "grid_auto_flow": null,
            "grid_area": null,
            "grid_template_columns": null,
            "flex": null,
            "_model_name": "LayoutModel",
            "justify_items": null,
            "grid_row": null,
            "max_height": null,
            "align_content": null,
            "visibility": null,
            "align_self": null,
            "height": null,
            "min_height": null,
            "padding": null,
            "grid_auto_rows": null,
            "grid_gap": null,
            "max_width": null,
            "order": null,
            "_view_module_version": "1.2.0",
            "grid_template_areas": null,
            "object_position": null,
            "object_fit": null,
            "grid_auto_columns": null,
            "margin": null,
            "display": null,
            "left": null
          }
        },
        "14e1dfc2e0064baba5a6cf8677007af0": {
          "model_module": "@jupyter-widgets/controls",
          "model_name": "ProgressStyleModel",
          "model_module_version": "1.5.0",
          "state": {
            "_view_name": "StyleView",
            "_model_name": "ProgressStyleModel",
            "description_width": "",
            "_view_module": "@jupyter-widgets/base",
            "_model_module_version": "1.5.0",
            "_view_count": null,
            "_view_module_version": "1.2.0",
            "bar_color": null,
            "_model_module": "@jupyter-widgets/controls"
          }
        },
        "6271c888f1d74ae5b042e744c8f4407d": {
          "model_module": "@jupyter-widgets/base",
          "model_name": "LayoutModel",
          "model_module_version": "1.2.0",
          "state": {
            "_view_name": "LayoutView",
            "grid_template_rows": null,
            "right": null,
            "justify_content": null,
            "_view_module": "@jupyter-widgets/base",
            "overflow": null,
            "_model_module_version": "1.2.0",
            "_view_count": null,
            "flex_flow": null,
            "width": null,
            "min_width": null,
            "border": null,
            "align_items": null,
            "bottom": null,
            "_model_module": "@jupyter-widgets/base",
            "top": null,
            "grid_column": null,
            "overflow_y": null,
            "overflow_x": null,
            "grid_auto_flow": null,
            "grid_area": null,
            "grid_template_columns": null,
            "flex": null,
            "_model_name": "LayoutModel",
            "justify_items": null,
            "grid_row": null,
            "max_height": null,
            "align_content": null,
            "visibility": null,
            "align_self": null,
            "height": null,
            "min_height": null,
            "padding": null,
            "grid_auto_rows": null,
            "grid_gap": null,
            "max_width": null,
            "order": null,
            "_view_module_version": "1.2.0",
            "grid_template_areas": null,
            "object_position": null,
            "object_fit": null,
            "grid_auto_columns": null,
            "margin": null,
            "display": null,
            "left": null
          }
        },
        "dc544bf211cb4c3288fe7e9c67dc596a": {
          "model_module": "@jupyter-widgets/controls",
          "model_name": "DescriptionStyleModel",
          "model_module_version": "1.5.0",
          "state": {
            "_view_name": "StyleView",
            "_model_name": "DescriptionStyleModel",
            "description_width": "",
            "_view_module": "@jupyter-widgets/base",
            "_model_module_version": "1.5.0",
            "_view_count": null,
            "_view_module_version": "1.2.0",
            "_model_module": "@jupyter-widgets/controls"
          }
        },
        "582814d3c2874d69971d6e949043bcee": {
          "model_module": "@jupyter-widgets/base",
          "model_name": "LayoutModel",
          "model_module_version": "1.2.0",
          "state": {
            "_view_name": "LayoutView",
            "grid_template_rows": null,
            "right": null,
            "justify_content": null,
            "_view_module": "@jupyter-widgets/base",
            "overflow": null,
            "_model_module_version": "1.2.0",
            "_view_count": null,
            "flex_flow": null,
            "width": null,
            "min_width": null,
            "border": null,
            "align_items": null,
            "bottom": null,
            "_model_module": "@jupyter-widgets/base",
            "top": null,
            "grid_column": null,
            "overflow_y": null,
            "overflow_x": null,
            "grid_auto_flow": null,
            "grid_area": null,
            "grid_template_columns": null,
            "flex": null,
            "_model_name": "LayoutModel",
            "justify_items": null,
            "grid_row": null,
            "max_height": null,
            "align_content": null,
            "visibility": null,
            "align_self": null,
            "height": null,
            "min_height": null,
            "padding": null,
            "grid_auto_rows": null,
            "grid_gap": null,
            "max_width": null,
            "order": null,
            "_view_module_version": "1.2.0",
            "grid_template_areas": null,
            "object_position": null,
            "object_fit": null,
            "grid_auto_columns": null,
            "margin": null,
            "display": null,
            "left": null
          }
        },
        "d9ecdecf95944b699ec14c9f04b6ae39": {
          "model_module": "@jupyter-widgets/controls",
          "model_name": "HBoxModel",
          "model_module_version": "1.5.0",
          "state": {
            "_view_name": "HBoxView",
            "_dom_classes": [],
            "_model_name": "HBoxModel",
            "_view_module": "@jupyter-widgets/controls",
            "_model_module_version": "1.5.0",
            "_view_count": null,
            "_view_module_version": "1.5.0",
            "box_style": "",
            "layout": "IPY_MODEL_32eb465612234144a1abecb230df21e7",
            "_model_module": "@jupyter-widgets/controls",
            "children": [
              "IPY_MODEL_57e30d1a49314398a16ab47ff72e467c",
              "IPY_MODEL_26ba394c22b9488fabef2fbebb46004c",
              "IPY_MODEL_1417172a62a1475485b4cf09d1c2f1df"
            ]
          }
        },
        "32eb465612234144a1abecb230df21e7": {
          "model_module": "@jupyter-widgets/base",
          "model_name": "LayoutModel",
          "model_module_version": "1.2.0",
          "state": {
            "_view_name": "LayoutView",
            "grid_template_rows": null,
            "right": null,
            "justify_content": null,
            "_view_module": "@jupyter-widgets/base",
            "overflow": null,
            "_model_module_version": "1.2.0",
            "_view_count": null,
            "flex_flow": null,
            "width": null,
            "min_width": null,
            "border": null,
            "align_items": null,
            "bottom": null,
            "_model_module": "@jupyter-widgets/base",
            "top": null,
            "grid_column": null,
            "overflow_y": null,
            "overflow_x": null,
            "grid_auto_flow": null,
            "grid_area": null,
            "grid_template_columns": null,
            "flex": null,
            "_model_name": "LayoutModel",
            "justify_items": null,
            "grid_row": null,
            "max_height": null,
            "align_content": null,
            "visibility": null,
            "align_self": null,
            "height": null,
            "min_height": null,
            "padding": null,
            "grid_auto_rows": null,
            "grid_gap": null,
            "max_width": null,
            "order": null,
            "_view_module_version": "1.2.0",
            "grid_template_areas": null,
            "object_position": null,
            "object_fit": null,
            "grid_auto_columns": null,
            "margin": null,
            "display": null,
            "left": null
          }
        },
        "57e30d1a49314398a16ab47ff72e467c": {
          "model_module": "@jupyter-widgets/controls",
          "model_name": "HTMLModel",
          "model_module_version": "1.5.0",
          "state": {
            "_view_name": "HTMLView",
            "style": "IPY_MODEL_71b8a9bd025f410e9bdf8df7c4eb2302",
            "_dom_classes": [],
            "description": "",
            "_model_name": "HTMLModel",
            "placeholder": "​",
            "_view_module": "@jupyter-widgets/controls",
            "_model_module_version": "1.5.0",
            "value": "",
            "_view_count": null,
            "_view_module_version": "1.5.0",
            "description_tooltip": null,
            "_model_module": "@jupyter-widgets/controls",
            "layout": "IPY_MODEL_6a62c169040c461e8e8466a7975e4a45"
          }
        },
        "26ba394c22b9488fabef2fbebb46004c": {
          "model_module": "@jupyter-widgets/controls",
          "model_name": "FloatProgressModel",
          "model_module_version": "1.5.0",
          "state": {
            "_view_name": "ProgressView",
            "style": "IPY_MODEL_546063abb2f44e3abb726a84ff7a5d65",
            "_dom_classes": [],
            "description": "",
            "_model_name": "FloatProgressModel",
            "bar_style": "success",
            "max": 4542,
            "_view_module": "@jupyter-widgets/controls",
            "_model_module_version": "1.5.0",
            "value": 4542,
            "_view_count": null,
            "_view_module_version": "1.5.0",
            "orientation": "horizontal",
            "min": 0,
            "description_tooltip": null,
            "_model_module": "@jupyter-widgets/controls",
            "layout": "IPY_MODEL_268ecffb23d9499ba4ae3916153bb05f"
          }
        },
        "1417172a62a1475485b4cf09d1c2f1df": {
          "model_module": "@jupyter-widgets/controls",
          "model_name": "HTMLModel",
          "model_module_version": "1.5.0",
          "state": {
            "_view_name": "HTMLView",
            "style": "IPY_MODEL_787ae3261220422a9cfd28a95a257e35",
            "_dom_classes": [],
            "description": "",
            "_model_name": "HTMLModel",
            "placeholder": "​",
            "_view_module": "@jupyter-widgets/controls",
            "_model_module_version": "1.5.0",
            "value": " 5120/? [00:00&lt;00:00, 140760.45it/s]",
            "_view_count": null,
            "_view_module_version": "1.5.0",
            "description_tooltip": null,
            "_model_module": "@jupyter-widgets/controls",
            "layout": "IPY_MODEL_a4527ccd9ad14c2f99a17465502c2e9a"
          }
        },
        "71b8a9bd025f410e9bdf8df7c4eb2302": {
          "model_module": "@jupyter-widgets/controls",
          "model_name": "DescriptionStyleModel",
          "model_module_version": "1.5.0",
          "state": {
            "_view_name": "StyleView",
            "_model_name": "DescriptionStyleModel",
            "description_width": "",
            "_view_module": "@jupyter-widgets/base",
            "_model_module_version": "1.5.0",
            "_view_count": null,
            "_view_module_version": "1.2.0",
            "_model_module": "@jupyter-widgets/controls"
          }
        },
        "6a62c169040c461e8e8466a7975e4a45": {
          "model_module": "@jupyter-widgets/base",
          "model_name": "LayoutModel",
          "model_module_version": "1.2.0",
          "state": {
            "_view_name": "LayoutView",
            "grid_template_rows": null,
            "right": null,
            "justify_content": null,
            "_view_module": "@jupyter-widgets/base",
            "overflow": null,
            "_model_module_version": "1.2.0",
            "_view_count": null,
            "flex_flow": null,
            "width": null,
            "min_width": null,
            "border": null,
            "align_items": null,
            "bottom": null,
            "_model_module": "@jupyter-widgets/base",
            "top": null,
            "grid_column": null,
            "overflow_y": null,
            "overflow_x": null,
            "grid_auto_flow": null,
            "grid_area": null,
            "grid_template_columns": null,
            "flex": null,
            "_model_name": "LayoutModel",
            "justify_items": null,
            "grid_row": null,
            "max_height": null,
            "align_content": null,
            "visibility": null,
            "align_self": null,
            "height": null,
            "min_height": null,
            "padding": null,
            "grid_auto_rows": null,
            "grid_gap": null,
            "max_width": null,
            "order": null,
            "_view_module_version": "1.2.0",
            "grid_template_areas": null,
            "object_position": null,
            "object_fit": null,
            "grid_auto_columns": null,
            "margin": null,
            "display": null,
            "left": null
          }
        },
        "546063abb2f44e3abb726a84ff7a5d65": {
          "model_module": "@jupyter-widgets/controls",
          "model_name": "ProgressStyleModel",
          "model_module_version": "1.5.0",
          "state": {
            "_view_name": "StyleView",
            "_model_name": "ProgressStyleModel",
            "description_width": "",
            "_view_module": "@jupyter-widgets/base",
            "_model_module_version": "1.5.0",
            "_view_count": null,
            "_view_module_version": "1.2.0",
            "bar_color": null,
            "_model_module": "@jupyter-widgets/controls"
          }
        },
        "268ecffb23d9499ba4ae3916153bb05f": {
          "model_module": "@jupyter-widgets/base",
          "model_name": "LayoutModel",
          "model_module_version": "1.2.0",
          "state": {
            "_view_name": "LayoutView",
            "grid_template_rows": null,
            "right": null,
            "justify_content": null,
            "_view_module": "@jupyter-widgets/base",
            "overflow": null,
            "_model_module_version": "1.2.0",
            "_view_count": null,
            "flex_flow": null,
            "width": null,
            "min_width": null,
            "border": null,
            "align_items": null,
            "bottom": null,
            "_model_module": "@jupyter-widgets/base",
            "top": null,
            "grid_column": null,
            "overflow_y": null,
            "overflow_x": null,
            "grid_auto_flow": null,
            "grid_area": null,
            "grid_template_columns": null,
            "flex": null,
            "_model_name": "LayoutModel",
            "justify_items": null,
            "grid_row": null,
            "max_height": null,
            "align_content": null,
            "visibility": null,
            "align_self": null,
            "height": null,
            "min_height": null,
            "padding": null,
            "grid_auto_rows": null,
            "grid_gap": null,
            "max_width": null,
            "order": null,
            "_view_module_version": "1.2.0",
            "grid_template_areas": null,
            "object_position": null,
            "object_fit": null,
            "grid_auto_columns": null,
            "margin": null,
            "display": null,
            "left": null
          }
        },
        "787ae3261220422a9cfd28a95a257e35": {
          "model_module": "@jupyter-widgets/controls",
          "model_name": "DescriptionStyleModel",
          "model_module_version": "1.5.0",
          "state": {
            "_view_name": "StyleView",
            "_model_name": "DescriptionStyleModel",
            "description_width": "",
            "_view_module": "@jupyter-widgets/base",
            "_model_module_version": "1.5.0",
            "_view_count": null,
            "_view_module_version": "1.2.0",
            "_model_module": "@jupyter-widgets/controls"
          }
        },
        "a4527ccd9ad14c2f99a17465502c2e9a": {
          "model_module": "@jupyter-widgets/base",
          "model_name": "LayoutModel",
          "model_module_version": "1.2.0",
          "state": {
            "_view_name": "LayoutView",
            "grid_template_rows": null,
            "right": null,
            "justify_content": null,
            "_view_module": "@jupyter-widgets/base",
            "overflow": null,
            "_model_module_version": "1.2.0",
            "_view_count": null,
            "flex_flow": null,
            "width": null,
            "min_width": null,
            "border": null,
            "align_items": null,
            "bottom": null,
            "_model_module": "@jupyter-widgets/base",
            "top": null,
            "grid_column": null,
            "overflow_y": null,
            "overflow_x": null,
            "grid_auto_flow": null,
            "grid_area": null,
            "grid_template_columns": null,
            "flex": null,
            "_model_name": "LayoutModel",
            "justify_items": null,
            "grid_row": null,
            "max_height": null,
            "align_content": null,
            "visibility": null,
            "align_self": null,
            "height": null,
            "min_height": null,
            "padding": null,
            "grid_auto_rows": null,
            "grid_gap": null,
            "max_width": null,
            "order": null,
            "_view_module_version": "1.2.0",
            "grid_template_areas": null,
            "object_position": null,
            "object_fit": null,
            "grid_auto_columns": null,
            "margin": null,
            "display": null,
            "left": null
          }
        }
      }
    }
  },
  "cells": [
    {
      "cell_type": "markdown",
      "metadata": {
        "id": "view-in-github",
        "colab_type": "text"
      },
      "source": [
        "<a href=\"https://colab.research.google.com/github/Mohan75489/DeepLearning_PyTorch/blob/main/PyTorch_MNIST_LogisticRegression.ipynb\" target=\"_parent\"><img src=\"https://colab.research.google.com/assets/colab-badge.svg\" alt=\"Open In Colab\"/></a>"
      ]
    },
    {
      "cell_type": "code",
      "execution_count": 1,
      "metadata": {
        "id": "Y3sKSxii9zmS"
      },
      "outputs": [],
      "source": [
        "#Import all required libraries\n",
        "import torch\n",
        "import torchvision\n",
        "from torchvision.datasets import MNIST"
      ]
    },
    {
      "cell_type": "code",
      "source": [
        "#downloading training dataset\n",
        "dataset = MNIST(root = 'data/', download=True)"
      ],
      "metadata": {
        "id": "e4Tb2sJ8-H_a",
        "colab": {
          "base_uri": "https://localhost:8080/",
          "height": 423,
          "referenced_widgets": [
            "bcc070a3797b45a2b2e28ace829f6daa",
            "7234878d63e141b28b56d8e86bdacbd3",
            "861ab837d5d24f1a9cd0867643d372a6",
            "e11c769d6a3a4e798d1c321353bbc92e",
            "e9e24535ebb94ba580c9e5602fadadbd",
            "99b05a6c903a4205aafb6cca7fb4aa2d",
            "aa5ac5063c6645acb8e7010a549ec116",
            "754e803e2e3d427ebf3df4e7086c8691",
            "6453828a673c43d291673896ebe330b3",
            "28b4cc4a4ccd4983aa85967cfaf05139",
            "3a3c0003a87342cc9187da0e000463bb",
            "0f3f4b9a19e348d0a2fcc17ca67b9ec7",
            "80a369c6a5744864929102d4db43a860",
            "48abd29b45ba42b696750f7824b19ced",
            "2180b6acb266437499124a3597e9f0ee",
            "8083c6c2ae21479dab053e551da5ecba",
            "90c5e75b3d1843fa855c16c245af052c",
            "730e4b45b6f6451aae03510dea2ec0bc",
            "fa1dcab4412b47ecb7ea0bac9b8d2651",
            "361513e8b66149ae9a259f9e56eb7eab",
            "c83ab0ef150146cc93705e30fc1c3081",
            "c4fd10b6f4ad4a798e58d833d8c29ffe",
            "28a9434e42834ffaa06c19014236ed19",
            "c1f64086e1a6462ca93f2f6d33fd2d8b",
            "e93ca8c002cc4f108e3ba82cb40cd41d",
            "b163e3687bde4d25bc40ecbb9549ac68",
            "2a897ea4eef540ea9b6e19b343fa8779",
            "9b0d073ea49240a5ba8aa964fd421ae4",
            "8a34fb0a2c984ce2820be4cde7d96000",
            "14e1dfc2e0064baba5a6cf8677007af0",
            "6271c888f1d74ae5b042e744c8f4407d",
            "dc544bf211cb4c3288fe7e9c67dc596a",
            "582814d3c2874d69971d6e949043bcee",
            "d9ecdecf95944b699ec14c9f04b6ae39",
            "32eb465612234144a1abecb230df21e7",
            "57e30d1a49314398a16ab47ff72e467c",
            "26ba394c22b9488fabef2fbebb46004c",
            "1417172a62a1475485b4cf09d1c2f1df",
            "71b8a9bd025f410e9bdf8df7c4eb2302",
            "6a62c169040c461e8e8466a7975e4a45",
            "546063abb2f44e3abb726a84ff7a5d65",
            "268ecffb23d9499ba4ae3916153bb05f",
            "787ae3261220422a9cfd28a95a257e35",
            "a4527ccd9ad14c2f99a17465502c2e9a"
          ]
        },
        "outputId": "da3bdf75-2dec-40b1-fa29-6fa0335ddc26"
      },
      "execution_count": 2,
      "outputs": [
        {
          "output_type": "stream",
          "name": "stdout",
          "text": [
            "Downloading http://yann.lecun.com/exdb/mnist/train-images-idx3-ubyte.gz\n",
            "Downloading http://yann.lecun.com/exdb/mnist/train-images-idx3-ubyte.gz to data/MNIST/raw/train-images-idx3-ubyte.gz\n"
          ]
        },
        {
          "output_type": "display_data",
          "data": {
            "application/vnd.jupyter.widget-view+json": {
              "model_id": "bcc070a3797b45a2b2e28ace829f6daa",
              "version_minor": 0,
              "version_major": 2
            },
            "text/plain": [
              "  0%|          | 0/9912422 [00:00<?, ?it/s]"
            ]
          },
          "metadata": {}
        },
        {
          "output_type": "stream",
          "name": "stdout",
          "text": [
            "Extracting data/MNIST/raw/train-images-idx3-ubyte.gz to data/MNIST/raw\n",
            "\n",
            "Downloading http://yann.lecun.com/exdb/mnist/train-labels-idx1-ubyte.gz\n",
            "Downloading http://yann.lecun.com/exdb/mnist/train-labels-idx1-ubyte.gz to data/MNIST/raw/train-labels-idx1-ubyte.gz\n"
          ]
        },
        {
          "output_type": "display_data",
          "data": {
            "application/vnd.jupyter.widget-view+json": {
              "model_id": "0f3f4b9a19e348d0a2fcc17ca67b9ec7",
              "version_minor": 0,
              "version_major": 2
            },
            "text/plain": [
              "  0%|          | 0/28881 [00:00<?, ?it/s]"
            ]
          },
          "metadata": {}
        },
        {
          "output_type": "stream",
          "name": "stdout",
          "text": [
            "Extracting data/MNIST/raw/train-labels-idx1-ubyte.gz to data/MNIST/raw\n",
            "\n",
            "Downloading http://yann.lecun.com/exdb/mnist/t10k-images-idx3-ubyte.gz\n",
            "Downloading http://yann.lecun.com/exdb/mnist/t10k-images-idx3-ubyte.gz to data/MNIST/raw/t10k-images-idx3-ubyte.gz\n"
          ]
        },
        {
          "output_type": "display_data",
          "data": {
            "application/vnd.jupyter.widget-view+json": {
              "model_id": "28a9434e42834ffaa06c19014236ed19",
              "version_minor": 0,
              "version_major": 2
            },
            "text/plain": [
              "  0%|          | 0/1648877 [00:00<?, ?it/s]"
            ]
          },
          "metadata": {}
        },
        {
          "output_type": "stream",
          "name": "stdout",
          "text": [
            "Extracting data/MNIST/raw/t10k-images-idx3-ubyte.gz to data/MNIST/raw\n",
            "\n",
            "Downloading http://yann.lecun.com/exdb/mnist/t10k-labels-idx1-ubyte.gz\n",
            "Downloading http://yann.lecun.com/exdb/mnist/t10k-labels-idx1-ubyte.gz to data/MNIST/raw/t10k-labels-idx1-ubyte.gz\n"
          ]
        },
        {
          "output_type": "display_data",
          "data": {
            "application/vnd.jupyter.widget-view+json": {
              "model_id": "d9ecdecf95944b699ec14c9f04b6ae39",
              "version_minor": 0,
              "version_major": 2
            },
            "text/plain": [
              "  0%|          | 0/4542 [00:00<?, ?it/s]"
            ]
          },
          "metadata": {}
        },
        {
          "output_type": "stream",
          "name": "stdout",
          "text": [
            "Extracting data/MNIST/raw/t10k-labels-idx1-ubyte.gz to data/MNIST/raw\n",
            "\n"
          ]
        }
      ]
    },
    {
      "cell_type": "code",
      "source": [
        "#to check the loaded dataset length\n",
        "len(dataset)"
      ],
      "metadata": {
        "colab": {
          "base_uri": "https://localhost:8080/"
        },
        "id": "yXQl0SRV-i1z",
        "outputId": "0ab4809d-dacd-4190-b4dc-a82de6a7d42c"
      },
      "execution_count": 3,
      "outputs": [
        {
          "output_type": "execute_result",
          "data": {
            "text/plain": [
              "60000"
            ]
          },
          "metadata": {},
          "execution_count": 3
        }
      ]
    },
    {
      "cell_type": "code",
      "source": [
        "#checking test data length and we don't want to train using this. This is only for showing efficiency of built model.\n",
        "test_dataset = MNIST(root='data/',train=False)\n",
        "len(test_dataset)"
      ],
      "metadata": {
        "colab": {
          "base_uri": "https://localhost:8080/"
        },
        "id": "fVbhaS_0-wpr",
        "outputId": "bebd7e80-4fdb-4241-c0c2-067c7980063d"
      },
      "execution_count": 4,
      "outputs": [
        {
          "output_type": "execute_result",
          "data": {
            "text/plain": [
              "10000"
            ]
          },
          "metadata": {},
          "execution_count": 4
        }
      ]
    },
    {
      "cell_type": "code",
      "source": [
        "#checking a random sample\n",
        "dataset[5]"
      ],
      "metadata": {
        "colab": {
          "base_uri": "https://localhost:8080/"
        },
        "id": "cbfJidZk_L98",
        "outputId": "a4bd9234-cd4d-48b4-a19e-1d76f11cbcf1"
      },
      "execution_count": 5,
      "outputs": [
        {
          "output_type": "execute_result",
          "data": {
            "text/plain": [
              "(<PIL.Image.Image image mode=L size=28x28 at 0x7F704B365A10>, 2)"
            ]
          },
          "metadata": {},
          "execution_count": 5
        }
      ]
    },
    {
      "cell_type": "markdown",
      "source": [
        "- First part is image. It's part of a python library is called Pillow (python interpreted of image)\n",
        "- Second part, is the size of the image.\n",
        "-Third part, is the label/value in the image."
      ],
      "metadata": {
        "id": "h5Zx3j696-Rg"
      }
    },
    {
      "cell_type": "code",
      "source": [
        "#to view the image, importing matplotlib\n",
        "import matplotlib.pyplot as plt\n",
        "#to show plots in the notebook, instead of pop-up (anything that begins with % sign is called magic command)\n",
        "%matplotlib inline "
      ],
      "metadata": {
        "id": "WkxSQuw6_YHW"
      },
      "execution_count": 6,
      "outputs": []
    },
    {
      "cell_type": "code",
      "source": [
        "#plotting an image from the dataset. Note image and lable properties of image in dataset.\n",
        "image, label = dataset[7]\n",
        "plt.imshow(image, cmap='gray')\n",
        "print('Label:',label)"
      ],
      "metadata": {
        "colab": {
          "base_uri": "https://localhost:8080/",
          "height": 282
        },
        "id": "TMkFumtz_6Xd",
        "outputId": "8b6208aa-65dc-4a32-b666-430b81eaf3a5"
      },
      "execution_count": 7,
      "outputs": [
        {
          "output_type": "stream",
          "name": "stdout",
          "text": [
            "Label: 3\n"
          ]
        },
        {
          "output_type": "display_data",
          "data": {
            "image/png": "[encoded data removed]",
            "text/plain": [
              "<Figure size 432x288 with 1 Axes>"
            ]
          },
          "metadata": {
            "needs_background": "light"
          }
        }
      ]
    },
    {
      "cell_type": "code",
      "source": [
        "#PyTorch operates in tensors, it doesn't know images. It requires transformation of images to tensors.\n",
        "import torchvision.transforms as transforms"
      ],
      "metadata": {
        "id": "HgfIMi1rAcKY"
      },
      "execution_count": 8,
      "outputs": []
    },
    {
      "cell_type": "code",
      "source": [
        "#tranforming dataset to tensors for training, and redefining it. and making it available for training.\n",
        "dataset = MNIST(root = 'data/', train=True, transform = transforms.ToTensor())"
      ],
      "metadata": {
        "id": "_UyiGBfnBA_3"
      },
      "execution_count": 9,
      "outputs": []
    },
    {
      "cell_type": "code",
      "source": [
        "#printing tranformed tensor to view shape\n",
        "img_tensor, label = dataset[0]\n",
        "print(img_tensor.shape,label)"
      ],
      "metadata": {
        "colab": {
          "base_uri": "https://localhost:8080/"
        },
        "id": "sCZVBdaQByTn",
        "outputId": "d00ee84e-b4b5-4878-c73d-338264975dba"
      },
      "execution_count": 10,
      "outputs": [
        {
          "output_type": "stream",
          "name": "stdout",
          "text": [
            "torch.Size([1, 28, 28]) 5\n"
          ]
        }
      ]
    },
    {
      "cell_type": "markdown",
      "source": [
        "- Image is converted into 3D tensor, 1 represents colour, 28 and 28 represent x and y dimension.\n",
        "- So, each pixel is conveted into an element of tensor.\n",
        "- First one is colour channel, for colured image it have 3 parts (Red, Green, Blue)."
      ],
      "metadata": {
        "id": "fdeAQommCswW"
      }
    },
    {
      "cell_type": "code",
      "source": [
        "#looking a some pixels from a specific image.\n",
        "print(img_tensor[:,10:15,10:15])\n",
        "#To understand colour variation. \n",
        "print(torch.max(img_tensor),torch.min(img_tensor))"
      ],
      "metadata": {
        "colab": {
          "base_uri": "https://localhost:8080/"
        },
        "id": "6FrHATieCqpX",
        "outputId": "badcda8a-70da-4595-d670-70b6a99ff738"
      },
      "execution_count": 11,
      "outputs": [
        {
          "output_type": "stream",
          "name": "stdout",
          "text": [
            "tensor([[[0.0039, 0.6039, 0.9922, 0.3529, 0.0000],\n",
            "         [0.0000, 0.5451, 0.9922, 0.7451, 0.0078],\n",
            "         [0.0000, 0.0431, 0.7451, 0.9922, 0.2745],\n",
            "         [0.0000, 0.0000, 0.1373, 0.9451, 0.8824],\n",
            "         [0.0000, 0.0000, 0.0000, 0.3176, 0.9412]]])\n",
            "tensor(1.) tensor(0.)\n"
          ]
        }
      ]
    },
    {
      "cell_type": "markdown",
      "source": [
        "- Element represent colur of pixel.\n",
        "- 1 is for Black and 0 is for White, everything in between are shades of gray."
      ],
      "metadata": {
        "id": "1w7yZmJDDjgH"
      }
    },
    {
      "cell_type": "code",
      "source": [
        "#plotting a 10-15 vertical and horizontal elements of tensor\n",
        "plt.imshow(img_tensor[0,10:15,10:15],cmap='gray')"
      ],
      "metadata": {
        "colab": {
          "base_uri": "https://localhost:8080/",
          "height": 282
        },
        "id": "xZtCXOoVDhPc",
        "outputId": "72cca897-4b56-44de-a724-967b5842c0ec"
      },
      "execution_count": 63,
      "outputs": [
        {
          "output_type": "execute_result",
          "data": {
            "text/plain": [
              "<matplotlib.image.AxesImage at 0x7f704a5dd290>"
            ]
          },
          "metadata": {},
          "execution_count": 63
        },
        {
          "output_type": "display_data",
          "data": {
            "image/png": "[encoded data removed]",
            "text/plain": [
              "<Figure size 432x288 with 1 Axes>"
            ]
          },
          "metadata": {
            "needs_background": "light"
          }
        }
      ]
    },
    {
      "cell_type": "code",
      "source": [
        "#splitting the data into 3 sets.\n",
        "#training dataset, some 50000 images of 60000.\n",
        "#validation dataset, remaining 10000 images of 60000.\n",
        "#test dataset, which is given separately in MNIST, 10000.\n",
        "\n",
        "#splitting 60000 between training and validation set randomly.\n",
        "from torch.utils.data import random_split\n",
        "train_ds, val_ds = random_split(dataset,[50000,10000])\n",
        "len(train_ds), len(val_ds)"
      ],
      "metadata": {
        "colab": {
          "base_uri": "https://localhost:8080/"
        },
        "id": "DDDDW3fwE32M",
        "outputId": "c82dbe0b-a704-4af0-b918-68cc8d61b765"
      },
      "execution_count": 13,
      "outputs": [
        {
          "output_type": "execute_result",
          "data": {
            "text/plain": [
              "(50000, 10000)"
            ]
          },
          "metadata": {},
          "execution_count": 13
        }
      ]
    },
    {
      "cell_type": "code",
      "source": [
        "#dataloding in batches, training dataset with shuffle on. Validation set no shuffling needed, at least for now.\n",
        "from torch.utils.data import DataLoader\n",
        "#smaller batches reduces time to calculate gradients.\n",
        "batch_size = 125\n",
        "train_loader = DataLoader(train_ds,batch_size,shuffle=True)\n",
        "val_loader = DataLoader(val_ds, batch_size)"
      ],
      "metadata": {
        "id": "r93HI9p9GKm7"
      },
      "execution_count": 14,
      "outputs": []
    },
    {
      "cell_type": "markdown",
      "source": [
        "- nn.linear expects vector input as 2D tensor.\n",
        "- Each image is group of pixels/element in the tensor.\n",
        "- Other way of saying above point, number of inputs=number of pixels in image.\n",
        "- All images in MNIST are 28x28 pixels (or) 784 inputs.\n",
        "- We are predicting which class the image belongs to (0-9) (or) output would be\n",
        "a tensor with 10 elements (10 outputs)."
      ],
      "metadata": {
        "id": "XBg1IYY9BF5w"
      }
    },
    {
      "cell_type": "code",
      "source": [
        "#creating a model.\n",
        "import torch.nn as nn\n",
        "input_size = 28*28\n",
        "num_classes = 10\n",
        "#logestic-regression model for a image.\n",
        "model = nn.Linear(input_size, num_classes)"
      ],
      "metadata": {
        "id": "NkXh8PmEBEou"
      },
      "execution_count": 15,
      "outputs": []
    },
    {
      "cell_type": "code",
      "source": [
        "#printing model weight shape.\n",
        "print(model.weight.shape)\n",
        "#printing intial weight tensor.\n",
        "print(model.weight)\n",
        "#printing model bias shape.\n",
        "print(model.bias.shape)\n",
        "#printing initial bias tensor.\n",
        "model.bias"
      ],
      "metadata": {
        "id": "duAV_F2eCZ3Y",
        "outputId": "e42d3702-c8b8-43c8-a4cd-49d0b0d94b17",
        "colab": {
          "base_uri": "https://localhost:8080/"
        }
      },
      "execution_count": 16,
      "outputs": [
        {
          "output_type": "stream",
          "name": "stdout",
          "text": [
            "torch.Size([10, 784])\n",
            "Parameter containing:\n",
            "tensor([[-0.0334, -0.0333,  0.0009,  ..., -0.0274, -0.0289, -0.0185],\n",
            "        [-0.0294, -0.0357, -0.0151,  ..., -0.0003,  0.0206, -0.0287],\n",
            "        [-0.0147, -0.0292, -0.0058,  ...,  0.0126,  0.0276,  0.0047],\n",
            "        ...,\n",
            "        [-0.0242,  0.0020, -0.0056,  ..., -0.0162, -0.0012,  0.0171],\n",
            "        [ 0.0146, -0.0184,  0.0067,  ...,  0.0321,  0.0228, -0.0145],\n",
            "        [ 0.0031,  0.0010,  0.0076,  ...,  0.0228, -0.0106,  0.0148]],\n",
            "       requires_grad=True)\n",
            "torch.Size([10])\n"
          ]
        },
        {
          "output_type": "execute_result",
          "data": {
            "text/plain": [
              "Parameter containing:\n",
              "tensor([ 0.0246,  0.0243, -0.0280,  0.0142,  0.0034,  0.0175,  0.0306, -0.0080,\n",
              "        -0.0242, -0.0304], requires_grad=True)"
            ]
          },
          "metadata": {},
          "execution_count": 16
        }
      ]
    },
    {
      "cell_type": "code",
      "source": [
        "#passing image to developed model in batches.\n",
        "for images, labels in train_loader:\n",
        "    print(labels)\n",
        "    print(images.shape)\n",
        "    outputs = model(images)\n",
        "    print(outputs)\n",
        "    break"
      ],
      "metadata": {
        "id": "GBl7pySdC-AS",
        "outputId": "0321a859-15dc-4706-d081-55b7b3ec71ea",
        "colab": {
          "base_uri": "https://localhost:8080/",
          "height": 502
        }
      },
      "execution_count": 17,
      "outputs": [
        {
          "output_type": "stream",
          "name": "stdout",
          "text": [
            "tensor([4, 6, 0, 8, 8, 3, 2, 8, 2, 2, 1, 9, 4, 4, 3, 1, 5, 3, 8, 5, 1, 1, 2, 0,\n",
            "        4, 0, 9, 2, 9, 8, 0, 8, 3, 7, 7, 1, 8, 2, 6, 7, 7, 5, 3, 1, 2, 5, 8, 1,\n",
            "        9, 9, 3, 2, 5, 4, 4, 2, 7, 0, 3, 5, 5, 3, 5, 6, 7, 5, 3, 1, 5, 0, 1, 9,\n",
            "        1, 4, 0, 9, 6, 0, 8, 6, 0, 6, 2, 7, 2, 8, 5, 7, 0, 1, 3, 7, 3, 0, 8, 5,\n",
            "        9, 8, 9, 5, 5, 2, 2, 6, 7, 1, 7, 0, 3, 1, 0, 4, 4, 5, 7, 9, 4, 7, 5, 0,\n",
            "        4, 3, 5, 0, 6])\n",
            "torch.Size([125, 1, 28, 28])\n"
          ]
        },
        {
          "output_type": "error",
          "ename": "RuntimeError",
          "evalue": "ignored",
          "traceback": [
            "\u001b[0;31m---------------------------------------------------------------------------\u001b[0m",
            "\u001b[0;31mRuntimeError\u001b[0m                              Traceback (most recent call last)",
            "\u001b[0;32m<ipython-input-17-ddfa31222a83>\u001b[0m in \u001b[0;36m<module>\u001b[0;34m()\u001b[0m\n\u001b[1;32m      3\u001b[0m     \u001b[0mprint\u001b[0m\u001b[0;34m(\u001b[0m\u001b[0mlabels\u001b[0m\u001b[0;34m)\u001b[0m\u001b[0;34m\u001b[0m\u001b[0;34m\u001b[0m\u001b[0m\n\u001b[1;32m      4\u001b[0m     \u001b[0mprint\u001b[0m\u001b[0;34m(\u001b[0m\u001b[0mimages\u001b[0m\u001b[0;34m.\u001b[0m\u001b[0mshape\u001b[0m\u001b[0;34m)\u001b[0m\u001b[0;34m\u001b[0m\u001b[0;34m\u001b[0m\u001b[0m\n\u001b[0;32m----> 5\u001b[0;31m     \u001b[0moutputs\u001b[0m \u001b[0;34m=\u001b[0m \u001b[0mmodel\u001b[0m\u001b[0;34m(\u001b[0m\u001b[0mimages\u001b[0m\u001b[0;34m)\u001b[0m\u001b[0;34m\u001b[0m\u001b[0;34m\u001b[0m\u001b[0m\n\u001b[0m\u001b[1;32m      6\u001b[0m     \u001b[0mprint\u001b[0m\u001b[0;34m(\u001b[0m\u001b[0moutputs\u001b[0m\u001b[0;34m)\u001b[0m\u001b[0;34m\u001b[0m\u001b[0;34m\u001b[0m\u001b[0m\n\u001b[1;32m      7\u001b[0m     \u001b[0;32mbreak\u001b[0m\u001b[0;34m\u001b[0m\u001b[0;34m\u001b[0m\u001b[0m\n",
            "\u001b[0;32m/usr/local/lib/python3.7/dist-packages/torch/nn/modules/module.py\u001b[0m in \u001b[0;36m_call_impl\u001b[0;34m(self, *input, **kwargs)\u001b[0m\n\u001b[1;32m   1100\u001b[0m         if not (self._backward_hooks or self._forward_hooks or self._forward_pre_hooks or _global_backward_hooks\n\u001b[1;32m   1101\u001b[0m                 or _global_forward_hooks or _global_forward_pre_hooks):\n\u001b[0;32m-> 1102\u001b[0;31m             \u001b[0;32mreturn\u001b[0m \u001b[0mforward_call\u001b[0m\u001b[0;34m(\u001b[0m\u001b[0;34m*\u001b[0m\u001b[0minput\u001b[0m\u001b[0;34m,\u001b[0m \u001b[0;34m**\u001b[0m\u001b[0mkwargs\u001b[0m\u001b[0;34m)\u001b[0m\u001b[0;34m\u001b[0m\u001b[0;34m\u001b[0m\u001b[0m\n\u001b[0m\u001b[1;32m   1103\u001b[0m         \u001b[0;31m# Do not call functions when jit is used\u001b[0m\u001b[0;34m\u001b[0m\u001b[0;34m\u001b[0m\u001b[0;34m\u001b[0m\u001b[0m\n\u001b[1;32m   1104\u001b[0m         \u001b[0mfull_backward_hooks\u001b[0m\u001b[0;34m,\u001b[0m \u001b[0mnon_full_backward_hooks\u001b[0m \u001b[0;34m=\u001b[0m \u001b[0;34m[\u001b[0m\u001b[0;34m]\u001b[0m\u001b[0;34m,\u001b[0m \u001b[0;34m[\u001b[0m\u001b[0;34m]\u001b[0m\u001b[0;34m\u001b[0m\u001b[0;34m\u001b[0m\u001b[0m\n",
            "\u001b[0;32m/usr/local/lib/python3.7/dist-packages/torch/nn/modules/linear.py\u001b[0m in \u001b[0;36mforward\u001b[0;34m(self, input)\u001b[0m\n\u001b[1;32m    101\u001b[0m \u001b[0;34m\u001b[0m\u001b[0m\n\u001b[1;32m    102\u001b[0m     \u001b[0;32mdef\u001b[0m \u001b[0mforward\u001b[0m\u001b[0;34m(\u001b[0m\u001b[0mself\u001b[0m\u001b[0;34m,\u001b[0m \u001b[0minput\u001b[0m\u001b[0;34m:\u001b[0m \u001b[0mTensor\u001b[0m\u001b[0;34m)\u001b[0m \u001b[0;34m->\u001b[0m \u001b[0mTensor\u001b[0m\u001b[0;34m:\u001b[0m\u001b[0;34m\u001b[0m\u001b[0;34m\u001b[0m\u001b[0m\n\u001b[0;32m--> 103\u001b[0;31m         \u001b[0;32mreturn\u001b[0m \u001b[0mF\u001b[0m\u001b[0;34m.\u001b[0m\u001b[0mlinear\u001b[0m\u001b[0;34m(\u001b[0m\u001b[0minput\u001b[0m\u001b[0;34m,\u001b[0m \u001b[0mself\u001b[0m\u001b[0;34m.\u001b[0m\u001b[0mweight\u001b[0m\u001b[0;34m,\u001b[0m \u001b[0mself\u001b[0m\u001b[0;34m.\u001b[0m\u001b[0mbias\u001b[0m\u001b[0;34m)\u001b[0m\u001b[0;34m\u001b[0m\u001b[0;34m\u001b[0m\u001b[0m\n\u001b[0m\u001b[1;32m    104\u001b[0m \u001b[0;34m\u001b[0m\u001b[0m\n\u001b[1;32m    105\u001b[0m     \u001b[0;32mdef\u001b[0m \u001b[0mextra_repr\u001b[0m\u001b[0;34m(\u001b[0m\u001b[0mself\u001b[0m\u001b[0;34m)\u001b[0m \u001b[0;34m->\u001b[0m \u001b[0mstr\u001b[0m\u001b[0;34m:\u001b[0m\u001b[0;34m\u001b[0m\u001b[0;34m\u001b[0m\u001b[0m\n",
            "\u001b[0;32m/usr/local/lib/python3.7/dist-packages/torch/nn/functional.py\u001b[0m in \u001b[0;36mlinear\u001b[0;34m(input, weight, bias)\u001b[0m\n\u001b[1;32m   1846\u001b[0m     \u001b[0;32mif\u001b[0m \u001b[0mhas_torch_function_variadic\u001b[0m\u001b[0;34m(\u001b[0m\u001b[0minput\u001b[0m\u001b[0;34m,\u001b[0m \u001b[0mweight\u001b[0m\u001b[0;34m,\u001b[0m \u001b[0mbias\u001b[0m\u001b[0;34m)\u001b[0m\u001b[0;34m:\u001b[0m\u001b[0;34m\u001b[0m\u001b[0;34m\u001b[0m\u001b[0m\n\u001b[1;32m   1847\u001b[0m         \u001b[0;32mreturn\u001b[0m \u001b[0mhandle_torch_function\u001b[0m\u001b[0;34m(\u001b[0m\u001b[0mlinear\u001b[0m\u001b[0;34m,\u001b[0m \u001b[0;34m(\u001b[0m\u001b[0minput\u001b[0m\u001b[0;34m,\u001b[0m \u001b[0mweight\u001b[0m\u001b[0;34m,\u001b[0m \u001b[0mbias\u001b[0m\u001b[0;34m)\u001b[0m\u001b[0;34m,\u001b[0m \u001b[0minput\u001b[0m\u001b[0;34m,\u001b[0m \u001b[0mweight\u001b[0m\u001b[0;34m,\u001b[0m \u001b[0mbias\u001b[0m\u001b[0;34m=\u001b[0m\u001b[0mbias\u001b[0m\u001b[0;34m)\u001b[0m\u001b[0;34m\u001b[0m\u001b[0;34m\u001b[0m\u001b[0m\n\u001b[0;32m-> 1848\u001b[0;31m     \u001b[0;32mreturn\u001b[0m \u001b[0mtorch\u001b[0m\u001b[0;34m.\u001b[0m\u001b[0m_C\u001b[0m\u001b[0;34m.\u001b[0m\u001b[0m_nn\u001b[0m\u001b[0;34m.\u001b[0m\u001b[0mlinear\u001b[0m\u001b[0;34m(\u001b[0m\u001b[0minput\u001b[0m\u001b[0;34m,\u001b[0m \u001b[0mweight\u001b[0m\u001b[0;34m,\u001b[0m \u001b[0mbias\u001b[0m\u001b[0;34m)\u001b[0m\u001b[0;34m\u001b[0m\u001b[0;34m\u001b[0m\u001b[0m\n\u001b[0m\u001b[1;32m   1849\u001b[0m \u001b[0;34m\u001b[0m\u001b[0m\n\u001b[1;32m   1850\u001b[0m \u001b[0;34m\u001b[0m\u001b[0m\n",
            "\u001b[0;31mRuntimeError\u001b[0m: mat1 and mat2 shapes cannot be multiplied (3500x28 and 784x10)"
          ]
        }
      ]
    },
    {
      "cell_type": "markdown",
      "source": [
        "- We followed same procedure as linear regression, but error occured because we are asking linear regression for \"125\" or batch size times.\n",
        "- We know each image has 784 inputs and 10 outputs.\n",
        "- We discussed nn.lineaar can handle 2D tensors only."
      ],
      "metadata": {
        "id": "TJ3gJu8DD07L"
      }
    },
    {
      "cell_type": "code",
      "source": [
        "#target is to rehape input/images to 2D tensor.\n",
        "#we can use reshape operation of tensor.\n",
        "images.reshape(125,784).shape"
      ],
      "metadata": {
        "id": "N6PMucnlDuxx",
        "outputId": "338af91e-afdd-45d4-ae40-2074abe4c622",
        "colab": {
          "base_uri": "https://localhost:8080/"
        }
      },
      "execution_count": 19,
      "outputs": [
        {
          "output_type": "execute_result",
          "data": {
            "text/plain": [
              "torch.Size([125, 784])"
            ]
          },
          "metadata": {},
          "execution_count": 19
        }
      ]
    },
    {
      "cell_type": "markdown",
      "source": [
        "- It is not practical to do it/pass it for each different batch sizes. User can give any batch sie.\n",
        "- Technique is to extend existing nn.Module calss to add customized classes to work in this notebook."
      ],
      "metadata": {
        "id": "T7nsTMIfGL63"
      }
    },
    {
      "cell_type": "code",
      "source": [
        "#Adding customized class extension for nn.Module.\n",
        "class MnistModel(nn.Module):\n",
        "  #Constructor of class init\n",
        "  #self is current batch. default fuction.\n",
        "  #special line to make init is calss under nn.Module\n",
        "    def __init__(self): #double underscore structure is important.\n",
        "        super().__init__()\n",
        "        self.linear = nn.Linear(input_size,num_classes)\n",
        "    #init class function\n",
        "    def forward(self,xb):\n",
        "          #-1 is the key here, based on passed bacth size it can autocaculate it. \n",
        "          #limitation is we need to give inputs/should know image size.\n",
        "          xb = xb.reshape(-1,784)\n",
        "          out = self.linear(xb)\n",
        "          return out\n",
        "\n",
        "#redefining the model to this Mnistmodel\n",
        "model = MnistModel()"
      ],
      "metadata": {
        "id": "Y1wGD368FEnX"
      },
      "execution_count": 20,
      "outputs": []
    },
    {
      "cell_type": "code",
      "source": [
        "print(model.linear.weight.shape,model.linear.bias.shape)\n",
        "list(model.parameters())"
      ],
      "metadata": {
        "colab": {
          "base_uri": "https://localhost:8080/"
        },
        "id": "BgcQwpgzt_rT",
        "outputId": "f3af8f85-31ac-4348-ec08-c32b7ae5f0b0"
      },
      "execution_count": 21,
      "outputs": [
        {
          "output_type": "stream",
          "name": "stdout",
          "text": [
            "torch.Size([10, 784]) torch.Size([10])\n"
          ]
        },
        {
          "output_type": "execute_result",
          "data": {
            "text/plain": [
              "[Parameter containing:\n",
              " tensor([[-0.0070, -0.0028, -0.0070,  ..., -0.0348,  0.0053,  0.0093],\n",
              "         [ 0.0046, -0.0112, -0.0138,  ...,  0.0094, -0.0345,  0.0007],\n",
              "         [-0.0201, -0.0224, -0.0244,  ...,  0.0207,  0.0267, -0.0291],\n",
              "         ...,\n",
              "         [ 0.0162, -0.0136, -0.0070,  ..., -0.0298,  0.0305,  0.0038],\n",
              "         [ 0.0064,  0.0209, -0.0235,  ..., -0.0346,  0.0046,  0.0282],\n",
              "         [ 0.0120,  0.0207, -0.0254,  ...,  0.0248,  0.0224, -0.0256]],\n",
              "        requires_grad=True), Parameter containing:\n",
              " tensor([ 0.0076,  0.0020, -0.0227,  0.0287,  0.0127,  0.0142, -0.0094, -0.0230,\n",
              "          0.0347,  0.0086], requires_grad=True)]"
            ]
          },
          "metadata": {},
          "execution_count": 21
        }
      ]
    },
    {
      "cell_type": "code",
      "source": [
        "#passing images to built model\n",
        "for images, labels in train_loader:\n",
        "    outputs = model(images) #prints probabilities of each class\n",
        "    print(images.shape)\n",
        "    break\n",
        "print('outputs.shape:',outputs.shape)\n",
        "print('Sample outputs:\\n',outputs[:2].data)"
      ],
      "metadata": {
        "id": "T9c3YxMJJ1i4",
        "colab": {
          "base_uri": "https://localhost:8080/"
        },
        "outputId": "4490467b-b872-4e58-8de5-3838f4aab6de"
      },
      "execution_count": 22,
      "outputs": [
        {
          "output_type": "stream",
          "name": "stdout",
          "text": [
            "torch.Size([125, 1, 28, 28])\n",
            "outputs.shape: torch.Size([125, 10])\n",
            "Sample outputs:\n",
            " tensor([[ 0.0646,  0.0033,  0.0681,  0.1848, -0.0538, -0.0390, -0.0473,  0.1406,\n",
            "         -0.0707, -0.0689],\n",
            "        [ 0.0709,  0.0293, -0.0928,  0.2768, -0.2528,  0.2266, -0.2150,  0.1610,\n",
            "         -0.1659, -0.0723]])\n"
          ]
        }
      ]
    },
    {
      "cell_type": "markdown",
      "source": [
        "- These probabilities are not mathametically correct.\n",
        "- Probability cannot be -ve.\n",
        "- Sum of probabiliites is 1.\n",
        "- SoftMax function S = e^prob/sum(e^prob).\n",
        "- SoftMax also pushes highest probability towards 1."
      ],
      "metadata": {
        "id": "2rDD4GxDvWUI"
      }
    },
    {
      "cell_type": "code",
      "source": [
        "#importing functional module\n",
        "import torch.nn.functional as F"
      ],
      "metadata": {
        "id": "1rKrNOays6Go"
      },
      "execution_count": 23,
      "outputs": []
    },
    {
      "cell_type": "code",
      "source": [
        "#printing outputs\n",
        "outputs[:3]"
      ],
      "metadata": {
        "colab": {
          "base_uri": "https://localhost:8080/"
        },
        "id": "MYjtxxOxxlKk",
        "outputId": "0843b61a-29b0-497e-cb80-95aca3793420"
      },
      "execution_count": 25,
      "outputs": [
        {
          "output_type": "execute_result",
          "data": {
            "text/plain": [
              "tensor([[ 0.0646,  0.0033,  0.0681,  0.1848, -0.0538, -0.0390, -0.0473,  0.1406,\n",
              "         -0.0707, -0.0689],\n",
              "        [ 0.0709,  0.0293, -0.0928,  0.2768, -0.2528,  0.2266, -0.2150,  0.1610,\n",
              "         -0.1659, -0.0723],\n",
              "        [ 0.0184, -0.0412,  0.0210,  0.1942, -0.3555, -0.1015, -0.1139,  0.4070,\n",
              "         -0.2714, -0.1897]], grad_fn=<SliceBackward0>)"
            ]
          },
          "metadata": {},
          "execution_count": 25
        }
      ]
    },
    {
      "cell_type": "code",
      "source": [
        "#Applying softmax for rach output row/image output\n",
        "probs = F.softmax(outputs,dim=1)\n",
        "#printing probabilities of first 3 image outputs\n",
        "print(\"Sample probabilities:\\n\",probs[:3].data)\n",
        "#for check: adding up probabilities of a image outputs\n",
        "print(\"Sum:\",torch.sum(probs[3]).item())"
      ],
      "metadata": {
        "colab": {
          "base_uri": "https://localhost:8080/"
        },
        "id": "2oBQTMIqx41f",
        "outputId": "75ec375a-5047-45b0-f135-be84d04ce229"
      },
      "execution_count": 26,
      "outputs": [
        {
          "output_type": "stream",
          "name": "stdout",
          "text": [
            "Sample probabilities:\n",
            " tensor([[0.1043, 0.0981, 0.1047, 0.1177, 0.0927, 0.0941, 0.0933, 0.1126, 0.0911,\n",
            "         0.0913],\n",
            "        [0.1060, 0.1017, 0.0900, 0.1303, 0.0767, 0.1239, 0.0797, 0.1160, 0.0837,\n",
            "         0.0919],\n",
            "        [0.1039, 0.0979, 0.1042, 0.1239, 0.0715, 0.0922, 0.0910, 0.1533, 0.0778,\n",
            "         0.0844]])\n",
            "Sum: 1.0\n"
          ]
        }
      ]
    },
    {
      "cell_type": "markdown",
      "source": [
        "- Softmax sum gives near values of 1, if not exact.\n",
        "- Note: model is only 11.77% sure that first image is 3. Not great!!!"
      ],
      "metadata": {
        "id": "UtO0AuTUz7Q0"
      }
    },
    {
      "cell_type": "code",
      "source": [
        "preds = torch.max(probs,dim=1)\n",
        "print(preds)"
      ],
      "metadata": {
        "colab": {
          "base_uri": "https://localhost:8080/"
        },
        "id": "PmxqHvu5z4s-",
        "outputId": "193c2516-819c-4791-deb5-3799040fd700"
      },
      "execution_count": 27,
      "outputs": [
        {
          "output_type": "stream",
          "name": "stdout",
          "text": [
            "torch.return_types.max(\n",
            "values=tensor([0.1177, 0.1303, 0.1533, 0.1484, 0.1407, 0.1366, 0.1278, 0.1250, 0.1275,\n",
            "        0.1305, 0.1535, 0.1350, 0.1286, 0.1459, 0.1441, 0.1341, 0.1535, 0.1243,\n",
            "        0.1231, 0.1335, 0.1199, 0.1277, 0.1295, 0.1158, 0.1170, 0.1284, 0.1167,\n",
            "        0.1193, 0.1303, 0.1263, 0.1378, 0.1422, 0.1325, 0.1331, 0.1425, 0.1463,\n",
            "        0.1665, 0.1215, 0.1308, 0.1592, 0.1208, 0.1255, 0.1182, 0.1411, 0.1191,\n",
            "        0.1495, 0.1361, 0.1514, 0.1290, 0.1205, 0.1212, 0.1506, 0.1490, 0.1503,\n",
            "        0.1346, 0.1233, 0.1282, 0.1300, 0.1281, 0.1528, 0.1537, 0.1277, 0.1776,\n",
            "        0.1532, 0.1285, 0.1452, 0.1421, 0.1564, 0.1311, 0.1377, 0.1602, 0.1277,\n",
            "        0.1423, 0.1700, 0.1211, 0.1419, 0.1138, 0.1307, 0.1675, 0.1247, 0.1207,\n",
            "        0.1450, 0.1462, 0.1279, 0.1215, 0.1214, 0.1407, 0.1617, 0.1201, 0.1501,\n",
            "        0.1285, 0.1432, 0.1167, 0.1239, 0.1358, 0.1313, 0.1298, 0.1371, 0.1509,\n",
            "        0.1234, 0.1355, 0.1129, 0.1300, 0.1156, 0.1336, 0.1147, 0.1176, 0.1526,\n",
            "        0.1220, 0.1204, 0.1287, 0.1542, 0.1708, 0.1335, 0.1384, 0.1232, 0.1445,\n",
            "        0.1439, 0.1542, 0.1314, 0.1258, 0.1448, 0.1492, 0.1309, 0.1286],\n",
            "       grad_fn=<MaxBackward0>),\n",
            "indices=tensor([3, 3, 7, 7, 7, 3, 7, 3, 7, 3, 7, 3, 5, 3, 7, 7, 7, 7, 6, 7, 3, 7, 7, 7,\n",
            "        3, 5, 7, 3, 7, 3, 7, 7, 7, 3, 7, 7, 7, 7, 7, 7, 7, 7, 3, 3, 0, 7, 3, 7,\n",
            "        7, 3, 7, 7, 7, 7, 7, 7, 5, 3, 7, 7, 7, 5, 7, 7, 7, 7, 7, 1, 3, 7, 7, 5,\n",
            "        7, 7, 2, 7, 3, 3, 7, 2, 7, 0, 3, 7, 3, 7, 3, 7, 7, 7, 2, 7, 7, 3, 7, 3,\n",
            "        7, 3, 7, 1, 3, 2, 7, 7, 7, 0, 3, 3, 0, 7, 7, 3, 7, 3, 7, 2, 7, 7, 7, 5,\n",
            "        7, 7, 7, 7, 7]))\n"
          ]
        }
      ]
    },
    {
      "cell_type": "code",
      "source": [
        "#auto-assigns values to max_probs and indices to preds\n",
        "max_probs, preds = torch.max(probs, dim=1)\n",
        "print(preds) #outputs of model\n",
        "print(max_probs)\n",
        "print(labels) #actual values"
      ],
      "metadata": {
        "colab": {
          "base_uri": "https://localhost:8080/"
        },
        "id": "18lWkR8b1cDs",
        "outputId": "907fca7d-6f15-499c-9ea3-b4443797c333"
      },
      "execution_count": 28,
      "outputs": [
        {
          "output_type": "stream",
          "name": "stdout",
          "text": [
            "tensor([3, 3, 7, 7, 7, 3, 7, 3, 7, 3, 7, 3, 5, 3, 7, 7, 7, 7, 6, 7, 3, 7, 7, 7,\n",
            "        3, 5, 7, 3, 7, 3, 7, 7, 7, 3, 7, 7, 7, 7, 7, 7, 7, 7, 3, 3, 0, 7, 3, 7,\n",
            "        7, 3, 7, 7, 7, 7, 7, 7, 5, 3, 7, 7, 7, 5, 7, 7, 7, 7, 7, 1, 3, 7, 7, 5,\n",
            "        7, 7, 2, 7, 3, 3, 7, 2, 7, 0, 3, 7, 3, 7, 3, 7, 7, 7, 2, 7, 7, 3, 7, 3,\n",
            "        7, 3, 7, 1, 3, 2, 7, 7, 7, 0, 3, 3, 0, 7, 7, 3, 7, 3, 7, 2, 7, 7, 7, 5,\n",
            "        7, 7, 7, 7, 7])\n",
            "tensor([0.1177, 0.1303, 0.1533, 0.1484, 0.1407, 0.1366, 0.1278, 0.1250, 0.1275,\n",
            "        0.1305, 0.1535, 0.1350, 0.1286, 0.1459, 0.1441, 0.1341, 0.1535, 0.1243,\n",
            "        0.1231, 0.1335, 0.1199, 0.1277, 0.1295, 0.1158, 0.1170, 0.1284, 0.1167,\n",
            "        0.1193, 0.1303, 0.1263, 0.1378, 0.1422, 0.1325, 0.1331, 0.1425, 0.1463,\n",
            "        0.1665, 0.1215, 0.1308, 0.1592, 0.1208, 0.1255, 0.1182, 0.1411, 0.1191,\n",
            "        0.1495, 0.1361, 0.1514, 0.1290, 0.1205, 0.1212, 0.1506, 0.1490, 0.1503,\n",
            "        0.1346, 0.1233, 0.1282, 0.1300, 0.1281, 0.1528, 0.1537, 0.1277, 0.1776,\n",
            "        0.1532, 0.1285, 0.1452, 0.1421, 0.1564, 0.1311, 0.1377, 0.1602, 0.1277,\n",
            "        0.1423, 0.1700, 0.1211, 0.1419, 0.1138, 0.1307, 0.1675, 0.1247, 0.1207,\n",
            "        0.1450, 0.1462, 0.1279, 0.1215, 0.1214, 0.1407, 0.1617, 0.1201, 0.1501,\n",
            "        0.1285, 0.1432, 0.1167, 0.1239, 0.1358, 0.1313, 0.1298, 0.1371, 0.1509,\n",
            "        0.1234, 0.1355, 0.1129, 0.1300, 0.1156, 0.1336, 0.1147, 0.1176, 0.1526,\n",
            "        0.1220, 0.1204, 0.1287, 0.1542, 0.1708, 0.1335, 0.1384, 0.1232, 0.1445,\n",
            "        0.1439, 0.1542, 0.1314, 0.1258, 0.1448, 0.1492, 0.1309, 0.1286],\n",
            "       grad_fn=<MaxBackward0>)\n",
            "tensor([1, 9, 9, 3, 9, 3, 7, 8, 1, 4, 9, 5, 4, 3, 9, 8, 9, 1, 7, 6, 8, 4, 8, 9,\n",
            "        1, 3, 3, 7, 8, 7, 6, 8, 4, 0, 4, 8, 4, 4, 1, 5, 7, 7, 1, 8, 2, 0, 9, 9,\n",
            "        0, 1, 3, 0, 7, 9, 7, 6, 7, 8, 0, 0, 5, 5, 7, 4, 0, 1, 9, 2, 7, 5, 5, 7,\n",
            "        9, 8, 3, 9, 1, 8, 0, 3, 3, 2, 9, 2, 8, 1, 8, 6, 8, 0, 3, 6, 1, 4, 8, 0,\n",
            "        6, 2, 3, 7, 8, 5, 7, 5, 7, 6, 1, 4, 0, 4, 3, 8, 6, 8, 6, 3, 3, 9, 0, 5,\n",
            "        5, 7, 0, 5, 5])\n"
          ]
        }
      ]
    },
    {
      "cell_type": "code",
      "source": [
        "#how many out of given batch correctly predicted\n",
        "torch.sum(preds==labels)"
      ],
      "metadata": {
        "colab": {
          "base_uri": "https://localhost:8080/"
        },
        "id": "3_Uw3Rm62Wa2",
        "outputId": "2996ed0c-e46e-4158-a5dd-ffaf764c96e1"
      },
      "execution_count": 29,
      "outputs": [
        {
          "output_type": "execute_result",
          "data": {
            "text/plain": [
              "tensor(14)"
            ]
          },
          "metadata": {},
          "execution_count": 29
        }
      ]
    },
    {
      "cell_type": "markdown",
      "source": [
        "- We need to evaluate model while it's training.\n",
        "- Finding accuracy (how many images are predicted correct) is good way to do that."
      ],
      "metadata": {
        "id": "a9zvy1aj3cZM"
      }
    },
    {
      "cell_type": "code",
      "source": [
        "#how much percentage accurate the model is predicting\n",
        "def accuracy(outputs,labels):\n",
        "  _,preds = torch.max(outputs, dim=1)\n",
        "  return torch.tensor(torch.sum(preds==labels).item()/len(preds))"
      ],
      "metadata": {
        "id": "dhOhbZJo3aFC"
      },
      "execution_count": 30,
      "outputs": []
    },
    {
      "cell_type": "code",
      "source": [
        "#current accuracy percentage\n",
        "accuracy(outputs,labels)"
      ],
      "metadata": {
        "colab": {
          "base_uri": "https://localhost:8080/"
        },
        "id": "wI2uAcSB4B5E",
        "outputId": "da142a29-a74c-4170-e2c4-bc62a8481458"
      },
      "execution_count": 31,
      "outputs": [
        {
          "output_type": "execute_result",
          "data": {
            "text/plain": [
              "tensor(0.1120)"
            ]
          },
          "metadata": {},
          "execution_count": 31
        }
      ]
    },
    {
      "cell_type": "markdown",
      "source": [
        "- Accuracy gives percpective about how many images are predicted correctly, but it disregards remaining images from the batch.\n",
        "- Even torch max picks only the highest prob value as prediction, but it is not always correct.\n",
        "- From above two points, it is clear that these two functions are not helpful to give feedback to model.\n",
        "- But this is helpful metrics, to make user/human uderstand the model performance.\n",
        "- Since torch.max and accuracy disregards some values from outputs we can't do gradient on those.\n",
        "\n",
        "We need to define a loss function which can be gradable and gives correct feedback to model."
      ],
      "metadata": {
        "id": "K4syakPL40AI"
      }
    },
    {
      "cell_type": "markdown",
      "source": [
        "## cross_entropy as loss fuction\n",
        "What it does is,\n",
        "- It picks max probability for each value and applies logerthm to it.\n",
        "- Then it multiplies the value with (-1).\n",
        "- from above 2 steps, We can get what is the loss for each image.\n",
        "- Average of the losses will be calculated for batch, to get model loss.\n",
        "How it works???\n",
        "- log(1) = 0 and log(decimal) is high negative values always. Best probability is 1 and worst is 0.\n",
        "- If model is confident loss will be zero otherwise huge negative value.\n",
        "- we multiply with (-1) to get it positive.\n",
        "\n",
        "Key Note: cross_entropy fuction of torch auto-calculates probability for outputs, so only outputs should be passed to it. (no need to do SoftMax)"
      ],
      "metadata": {
        "id": "byWaesIH7aSo"
      }
    },
    {
      "cell_type": "code",
      "source": [
        "loss_fn = F.cross_entropy"
      ],
      "metadata": {
        "id": "Jsz95Mc_7WIh"
      },
      "execution_count": 32,
      "outputs": []
    },
    {
      "cell_type": "code",
      "source": [
        "#defining and printing intial loss\n",
        "loss = loss_fn(outputs, labels)\n",
        "print(loss)"
      ],
      "metadata": {
        "colab": {
          "base_uri": "https://localhost:8080/"
        },
        "id": "YHLJWnck4T4T",
        "outputId": "9c0b9f98-7aa8-4901-a472-94040373ae82"
      },
      "execution_count": 33,
      "outputs": [
        {
          "output_type": "stream",
          "name": "stdout",
          "text": [
            "tensor(2.3137, grad_fn=<NllLossBackward0>)\n"
          ]
        }
      ]
    },
    {
      "cell_type": "markdown",
      "source": [
        "## Idea of generic 'fit' function.\n",
        "- Each time some steps are generic. We need to build a genric fuction to accomodate that.\n",
        "- Functions used in this fit functions are defined specifically for this model, susequently."
      ],
      "metadata": {
        "id": "NP0-S1VhVg9J"
      }
    },
    {
      "cell_type": "code",
      "source": [
        "def fit(epochs, lr, model, train_loader, val_loader, opt_func = torch.optim.SGD):\n",
        "    optimizer = opt_func(model.parameters(), lr) #updating weights and biases\n",
        "    history = [ ] #for collecting epoch-wise results\n",
        "\n",
        "    for epoch in range(epochs):\n",
        "        #training phase\n",
        "        for batch in train_loader:\n",
        "            loss = model.training_step(batch)  #training_step is a function to be defined\n",
        "            loss.backward() #finding gradients\n",
        "            optimizer.step()\n",
        "            optimizer.zero_grad() #setting gradients to zero\n",
        "        #validation phase\n",
        "        result = evaluate(model, val_loader) #evaluate is a function to be defined\n",
        "        model.epoch_end(epoch, result)  #epoch_end to be defined\n",
        "        history.append(result)\n",
        "    return history"
      ],
      "metadata": {
        "id": "tIQBbwBu86jp"
      },
      "execution_count": 34,
      "outputs": []
    },
    {
      "cell_type": "markdown",
      "source": [
        "- epochs, lr, opt_func, batch_size are called hyper parameters, which developer need to choose.\n",
        "- Choosing correct hyper parameters itself an research."
      ],
      "metadata": {
        "id": "7Bvdo4GDKMy_"
      }
    },
    {
      "cell_type": "code",
      "source": [
        "#defining evaluate function\n",
        "def evaluate(model, val_loader):\n",
        "  #list comprehension -> modifying existing list\n",
        "    outputs = [model.validation_step(batch) for batch in val_loader] #validation_step function need to be defined\n",
        "    return model.validation_epoch_end(outputs) #validation_epoch_end function need to be deifned"
      ],
      "metadata": {
        "id": "sH1RtJ18KcCq"
      },
      "execution_count": 35,
      "outputs": []
    },
    {
      "cell_type": "code",
      "source": [
        "#re-defining MnistModel class\n",
        "class MnistModel(nn.Module):\n",
        "  #Constructor of class init\n",
        "  #self is current batch. default fuction.\n",
        "  #special line to make init is calss under nn.Module\n",
        "    def __init__(self): #double underscore structure is important.\n",
        "        super().__init__()\n",
        "        self.linear = nn.Linear(input_size, num_classes)\n",
        "    #init class function\n",
        "    def forward(self,xb):\n",
        "          #-1 is the key here, based on passed bacth size it can autocaculate it. \n",
        "          #limitation is we need to give inputs/should know image size.\n",
        "          xb = xb.reshape(-1,784)\n",
        "          out = self.linear(xb)\n",
        "          return out\n",
        "    def training_step(self, batch): #model and batch (training) is passed\n",
        "        images, labels = batch\n",
        "        out = self(images)\n",
        "        loss = F.cross_entropy(out, labels)\n",
        "        return loss\n",
        "    def validation_step(self, batch): #model and batch (validation) is passed\n",
        "        images, labels = batch\n",
        "        out = self(images)\n",
        "        loss = F.cross_entropy(out, labels)\n",
        "        acc = accuracy(out, labels)\n",
        "        return {'val_loss' : loss, 'val_acc' : acc} #dictionary of val_loss and val_acc for a batch\n",
        "\n",
        "    #gathering and finding mean for all batches validation set\n",
        "    def validation_epoch_end(self, outputs): #model and outputs of validation_step are passed\n",
        "        batch_losses = [x['val_loss'] for x in outputs]\n",
        "        epoch_loss = torch.stack(batch_losses).mean()\n",
        "        batch_acc = [x['val_acc'] for x in outputs]\n",
        "        epoch_acc = torch.stack(batch_acc).mean()\n",
        "        return {'val_loss':epoch_loss.item(),'val_acc': epoch_acc.item()}\n",
        "\n",
        "    def epoch_end(self, epoch, result): #model and results of validation_epoch_end are passed\n",
        "        print(\"Epoch [{}] , val_loss: {:.4f} , vall_acc:: {:.4f}\".format(epoch, result['val_loss'],result['val_acc']))\n",
        "\n",
        "#setting model as this MnistModel\n",
        "model = MnistModel()"
      ],
      "metadata": {
        "id": "cHx6JJwLLPqb"
      },
      "execution_count": 36,
      "outputs": []
    },
    {
      "cell_type": "code",
      "source": [
        "#evaluation model on validation set for the first time\n",
        "result0 = evaluate(model, val_loader)\n",
        "result0"
      ],
      "metadata": {
        "colab": {
          "base_uri": "https://localhost:8080/"
        },
        "id": "bI88DnMqQpZ2",
        "outputId": "77fd1947-67ce-48ae-9cc9-53086e8f3893"
      },
      "execution_count": 37,
      "outputs": [
        {
          "output_type": "execute_result",
          "data": {
            "text/plain": [
              "{'val_acc': 0.08559999614953995, 'val_loss': 2.3103623390197754}"
            ]
          },
          "metadata": {},
          "execution_count": 37
        }
      ]
    },
    {
      "cell_type": "code",
      "source": [
        "history1 = fit(5, 0.002, model, train_loader, val_loader)"
      ],
      "metadata": {
        "colab": {
          "base_uri": "https://localhost:8080/"
        },
        "id": "YkCwl1A3Qu8w",
        "outputId": "36662052-9b92-422f-e51e-01981d8c6386"
      },
      "execution_count": 38,
      "outputs": [
        {
          "output_type": "stream",
          "name": "stdout",
          "text": [
            "Epoch [0] , val_loss: 1.6620 , vall_acc:: 0.7511\n",
            "Epoch [1] , val_loss: 1.3091 , vall_acc:: 0.7905\n",
            "Epoch [2] , val_loss: 1.1029 , vall_acc:: 0.8086\n",
            "Epoch [3] , val_loss: 0.9713 , vall_acc:: 0.8217\n",
            "Epoch [4] , val_loss: 0.8804 , vall_acc:: 0.8302\n"
          ]
        }
      ]
    },
    {
      "cell_type": "code",
      "source": [
        "history2 = fit(5, 0.002, model, train_loader, val_loader)"
      ],
      "metadata": {
        "colab": {
          "base_uri": "https://localhost:8080/"
        },
        "id": "PTMc6V1USWHE",
        "outputId": "ee6eb402-5c5d-403c-d719-e09a0333109b"
      },
      "execution_count": 39,
      "outputs": [
        {
          "output_type": "stream",
          "name": "stdout",
          "text": [
            "Epoch [0] , val_loss: 0.8138 , vall_acc:: 0.8357\n",
            "Epoch [1] , val_loss: 0.7628 , vall_acc:: 0.8399\n",
            "Epoch [2] , val_loss: 0.7225 , vall_acc:: 0.8451\n",
            "Epoch [3] , val_loss: 0.6897 , vall_acc:: 0.8491\n",
            "Epoch [4] , val_loss: 0.6622 , vall_acc:: 0.8528\n"
          ]
        }
      ]
    },
    {
      "cell_type": "code",
      "source": [
        "history3 = fit(10, 0.0005, model, train_loader, val_loader)"
      ],
      "metadata": {
        "colab": {
          "base_uri": "https://localhost:8080/"
        },
        "id": "bDee3SSXUM8b",
        "outputId": "94af3947-74ef-4149-d04e-8578716072da"
      },
      "execution_count": 40,
      "outputs": [
        {
          "output_type": "stream",
          "name": "stdout",
          "text": [
            "Epoch [0] , val_loss: 0.6561 , vall_acc:: 0.8543\n",
            "Epoch [1] , val_loss: 0.6502 , vall_acc:: 0.8555\n",
            "Epoch [2] , val_loss: 0.6446 , vall_acc:: 0.8561\n",
            "Epoch [3] , val_loss: 0.6391 , vall_acc:: 0.8569\n",
            "Epoch [4] , val_loss: 0.6339 , vall_acc:: 0.8578\n",
            "Epoch [5] , val_loss: 0.6288 , vall_acc:: 0.8581\n",
            "Epoch [6] , val_loss: 0.6239 , vall_acc:: 0.8586\n",
            "Epoch [7] , val_loss: 0.6192 , vall_acc:: 0.8590\n",
            "Epoch [8] , val_loss: 0.6147 , vall_acc:: 0.8600\n",
            "Epoch [9] , val_loss: 0.6103 , vall_acc:: 0.8603\n"
          ]
        }
      ]
    },
    {
      "cell_type": "code",
      "source": [
        "history4 = fit(10, 0.0005, model, train_loader, val_loader)"
      ],
      "metadata": {
        "colab": {
          "base_uri": "https://localhost:8080/"
        },
        "id": "R3DDnZXoUh8B",
        "outputId": "8bbe2006-8bfc-4368-88cc-4051d3dadf36"
      },
      "execution_count": 41,
      "outputs": [
        {
          "output_type": "stream",
          "name": "stdout",
          "text": [
            "Epoch [0] , val_loss: 0.6060 , vall_acc:: 0.8611\n",
            "Epoch [1] , val_loss: 0.6019 , vall_acc:: 0.8614\n",
            "Epoch [2] , val_loss: 0.5979 , vall_acc:: 0.8620\n",
            "Epoch [3] , val_loss: 0.5941 , vall_acc:: 0.8627\n",
            "Epoch [4] , val_loss: 0.5903 , vall_acc:: 0.8631\n",
            "Epoch [5] , val_loss: 0.5867 , vall_acc:: 0.8636\n",
            "Epoch [6] , val_loss: 0.5832 , vall_acc:: 0.8643\n",
            "Epoch [7] , val_loss: 0.5798 , vall_acc:: 0.8645\n",
            "Epoch [8] , val_loss: 0.5764 , vall_acc:: 0.8649\n",
            "Epoch [9] , val_loss: 0.5732 , vall_acc:: 0.8654\n"
          ]
        }
      ]
    },
    {
      "cell_type": "code",
      "source": [
        "history5 = fit(5, 0.0004, model, train_loader, val_loader)"
      ],
      "metadata": {
        "colab": {
          "base_uri": "https://localhost:8080/"
        },
        "id": "vdxFYfvuVAwA",
        "outputId": "3c6de9ce-502a-4994-ed39-1563bffdd102"
      },
      "execution_count": 42,
      "outputs": [
        {
          "output_type": "stream",
          "name": "stdout",
          "text": [
            "Epoch [0] , val_loss: 0.5707 , vall_acc:: 0.8659\n",
            "Epoch [1] , val_loss: 0.5682 , vall_acc:: 0.8660\n",
            "Epoch [2] , val_loss: 0.5658 , vall_acc:: 0.8664\n",
            "Epoch [3] , val_loss: 0.5634 , vall_acc:: 0.8667\n",
            "Epoch [4] , val_loss: 0.5611 , vall_acc:: 0.8669\n"
          ]
        }
      ]
    },
    {
      "cell_type": "code",
      "source": [
        "#collecting accuarcies of validation runs and plotting\n",
        "history = [result0] + history1 + history2 + history3 + history4 + history5\n",
        "accuracies = [result['val_acc'] for result in history]\n",
        "plt.plot(accuracies, '-x')\n",
        "plt.xlabel('epoch')\n",
        "plt.ylabel('accuracy')\n",
        "plt.title('Accuracy vs. No of Epochs')"
      ],
      "metadata": {
        "colab": {
          "base_uri": "https://localhost:8080/",
          "height": 312
        },
        "id": "KBSlGz-RUk5b",
        "outputId": "e9a38802-173d-45af-e444-f73e6f851b6c"
      },
      "execution_count": 45,
      "outputs": [
        {
          "output_type": "execute_result",
          "data": {
            "text/plain": [
              "Text(0.5, 1.0, 'Accuracy vs. No of Epochs')"
            ]
          },
          "metadata": {},
          "execution_count": 45
        },
        {
          "output_type": "display_data",
          "data": {
            "image/png": "[encoded data removed]",
            "text/plain": [
              "<Figure size 432x288 with 1 Axes>"
            ]
          },
          "metadata": {
            "needs_background": "light"
          }
        }
      ]
    },
    {
      "cell_type": "markdown",
      "source": [
        "## Testing the model\n",
        "- using test dataset, which model has never seen so far.\n",
        "- will take tricky images to show model is not accurate.\n",
        "- Why model is not accurate? -> We just took pixel brightness in to account to predict the number, but pixel relation not accounted in this model."
      ],
      "metadata": {
        "id": "AOp2LwqkWTWH"
      }
    },
    {
      "cell_type": "code",
      "source": [
        "#defining test dataset\n",
        "test_dataset = MNIST(root = 'data/', train=False, transform = transforms.ToTensor())"
      ],
      "metadata": {
        "id": "r1ECYM8oV13-"
      },
      "execution_count": 46,
      "outputs": []
    },
    {
      "cell_type": "code",
      "source": [
        "#sample image from test dataset\n",
        "img, label = test_dataset[11]\n",
        "plt.imshow(img[0], cmap = 'gray')\n",
        "print('Shape:',img.shape)\n",
        "print(\"Label:\",label)"
      ],
      "metadata": {
        "colab": {
          "base_uri": "https://localhost:8080/",
          "height": 300
        },
        "id": "JCv8H8gWXAQE",
        "outputId": "3d218d00-d455-49d9-bda1-ffd822feaa3c"
      },
      "execution_count": 47,
      "outputs": [
        {
          "output_type": "stream",
          "name": "stdout",
          "text": [
            "Shape: torch.Size([1, 28, 28])\n",
            "Label: 6\n"
          ]
        },
        {
          "output_type": "display_data",
          "data": {
            "image/png": "[encoded data removed]",
            "text/plain": [
              "<Figure size 432x288 with 1 Axes>"
            ]
          },
          "metadata": {
            "needs_background": "light"
          }
        }
      ]
    },
    {
      "cell_type": "code",
      "source": [
        "#built model can work with batches only. unsqueeze will add one dimension to taken image.\n",
        "def predict_image(img, model):\n",
        "  xb = img.unsqueeze(0)\n",
        "  yb = model(xb)\n",
        "  _, preds = torch.max(yb, dim=1)\n",
        "  return preds[0].item()"
      ],
      "metadata": {
        "id": "7oWAdnv-Xhon"
      },
      "execution_count": 48,
      "outputs": []
    },
    {
      "cell_type": "code",
      "source": [
        "#doing first prediction\n",
        "img, label = test_dataset[0]\n",
        "plt.imshow(img[0], cmap='gray')\n",
        "print('Label:', label, ', Predicted Label:', predict_image(img,model))"
      ],
      "metadata": {
        "colab": {
          "base_uri": "https://localhost:8080/",
          "height": 282
        },
        "id": "SAMSxDs7X-xX",
        "outputId": "5ab6a120-cff7-4d5c-fb79-d34734830e75"
      },
      "execution_count": 49,
      "outputs": [
        {
          "output_type": "stream",
          "name": "stdout",
          "text": [
            "Label: 7 , Predicted Label: 7\n"
          ]
        },
        {
          "output_type": "display_data",
          "data": {
            "image/png": "[encoded data removed]",
            "text/plain": [
              "<Figure size 432x288 with 1 Axes>"
            ]
          },
          "metadata": {
            "needs_background": "light"
          }
        }
      ]
    },
    {
      "cell_type": "code",
      "source": [
        "img, label = test_dataset[11]\n",
        "plt.imshow(img[0], cmap='gray')\n",
        "print('Label:', label, ', Predicted Label:', predict_image(img,model))"
      ],
      "metadata": {
        "colab": {
          "base_uri": "https://localhost:8080/",
          "height": 282
        },
        "id": "h5LedUdzYyTJ",
        "outputId": "35935fe6-c844-4cf5-8751-996a74bdefc8"
      },
      "execution_count": 50,
      "outputs": [
        {
          "output_type": "stream",
          "name": "stdout",
          "text": [
            "Label: 6 , Predicted Label: 6\n"
          ]
        },
        {
          "output_type": "display_data",
          "data": {
            "image/png": "[encoded data removed]",
            "text/plain": [
              "<Figure size 432x288 with 1 Axes>"
            ]
          },
          "metadata": {
            "needs_background": "light"
          }
        }
      ]
    },
    {
      "cell_type": "code",
      "source": [
        "img, label = test_dataset[15]\n",
        "plt.imshow(img[0], cmap='gray')\n",
        "print('Label:', label, ', Predicted Label:', predict_image(img,model))"
      ],
      "metadata": {
        "colab": {
          "base_uri": "https://localhost:8080/",
          "height": 282
        },
        "id": "z_1P2XP7Z1K0",
        "outputId": "3b3d6930-51d2-415a-92db-8a5f27a74d03"
      },
      "execution_count": 51,
      "outputs": [
        {
          "output_type": "stream",
          "name": "stdout",
          "text": [
            "Label: 5 , Predicted Label: 5\n"
          ]
        },
        {
          "output_type": "display_data",
          "data": {
            "image/png": "[encoded data removed]",
            "text/plain": [
              "<Figure size 432x288 with 1 Axes>"
            ]
          },
          "metadata": {
            "needs_background": "light"
          }
        }
      ]
    },
    {
      "cell_type": "code",
      "source": [
        "img, label = test_dataset[155]\n",
        "plt.imshow(img[0], cmap='gray')\n",
        "print('Label:', label, ', Predicted Label:', predict_image(img,model))"
      ],
      "metadata": {
        "colab": {
          "base_uri": "https://localhost:8080/",
          "height": 282
        },
        "id": "WVwQXwqobmDT",
        "outputId": "289790af-daa4-4ecf-b169-ac54cc437d88"
      },
      "execution_count": 52,
      "outputs": [
        {
          "output_type": "stream",
          "name": "stdout",
          "text": [
            "Label: 5 , Predicted Label: 5\n"
          ]
        },
        {
          "output_type": "display_data",
          "data": {
            "image/png": "[encoded data removed]",
            "text/plain": [
              "<Figure size 432x288 with 1 Axes>"
            ]
          },
          "metadata": {
            "needs_background": "light"
          }
        }
      ]
    },
    {
      "cell_type": "code",
      "source": [
        "img, label = test_dataset[1775]\n",
        "plt.imshow(img[0], cmap='gray')\n",
        "print('Label:', label, ', Predicted Label:', predict_image(img,model))"
      ],
      "metadata": {
        "colab": {
          "base_uri": "https://localhost:8080/",
          "height": 282
        },
        "id": "9vkSiCDybq8y",
        "outputId": "a0a66b7c-0c5a-4752-8411-e6ef02ba2452"
      },
      "execution_count": 53,
      "outputs": [
        {
          "output_type": "stream",
          "name": "stdout",
          "text": [
            "Label: 0 , Predicted Label: 0\n"
          ]
        },
        {
          "output_type": "display_data",
          "data": {
            "image/png": "[encoded data removed]",
            "text/plain": [
              "<Figure size 432x288 with 1 Axes>"
            ]
          },
          "metadata": {
            "needs_background": "light"
          }
        }
      ]
    },
    {
      "cell_type": "code",
      "source": [
        "img, label = test_dataset[1000]\n",
        "plt.imshow(img[0], cmap='gray')\n",
        "print('Label:', label, ', Predicted Label:', predict_image(img,model))"
      ],
      "metadata": {
        "colab": {
          "base_uri": "https://localhost:8080/",
          "height": 282
        },
        "id": "ap-BLPJOdPmj",
        "outputId": "e86e1c28-9a4e-4bcf-efbd-83d888e7c8ce"
      },
      "execution_count": 54,
      "outputs": [
        {
          "output_type": "stream",
          "name": "stdout",
          "text": [
            "Label: 9 , Predicted Label: 7\n"
          ]
        },
        {
          "output_type": "display_data",
          "data": {
            "image/png": "[encoded data removed]",
            "text/plain": [
              "<Figure size 432x288 with 1 Axes>"
            ]
          },
          "metadata": {
            "needs_background": "light"
          }
        }
      ]
    },
    {
      "cell_type": "markdown",
      "source": [
        "- Prediction wrong."
      ],
      "metadata": {
        "id": "DuRAxPdmdXTR"
      }
    },
    {
      "cell_type": "code",
      "source": [
        "test_loader = DataLoader(test_dataset, batch_size = 255)\n",
        "result = evaluate(model, test_loader)\n",
        "result"
      ],
      "metadata": {
        "colab": {
          "base_uri": "https://localhost:8080/"
        },
        "id": "HGP3-lvfdS3l",
        "outputId": "fe8d668c-a057-4924-abe2-e8b659b488a7"
      },
      "execution_count": 55,
      "outputs": [
        {
          "output_type": "execute_result",
          "data": {
            "text/plain": [
              "{'val_acc': 0.8746702075004578, 'val_loss': 0.5392734408378601}"
            ]
          },
          "metadata": {},
          "execution_count": 55
        }
      ]
    },
    {
      "cell_type": "markdown",
      "source": [
        "- Very Good result on test dataset.\n",
        "- Model accracy on validation dataset = 86.69%\n",
        "- Model accracy on test dataset = 87.47%"
      ],
      "metadata": {
        "id": "lzT8Oe7ceGYD"
      }
    },
    {
      "cell_type": "markdown",
      "source": [
        "## Saving weights and biases to disc\n",
        "- colab shuts down also it will be with files"
      ],
      "metadata": {
        "id": "n4swHuIgeco9"
      }
    },
    {
      "cell_type": "code",
      "source": [
        "#seeing optimized wwights and biases\n",
        "model.state_dict()"
      ],
      "metadata": {
        "colab": {
          "base_uri": "https://localhost:8080/"
        },
        "id": "B5UPtaTEfjSQ",
        "outputId": "3b18940b-bbb0-4fb4-fbb9-dcb370714da5"
      },
      "execution_count": 56,
      "outputs": [
        {
          "output_type": "execute_result",
          "data": {
            "text/plain": [
              "OrderedDict([('linear.weight',\n",
              "              tensor([[-0.0139, -0.0119, -0.0129,  ..., -0.0192, -0.0041,  0.0287],\n",
              "                      [-0.0002, -0.0011,  0.0302,  ...,  0.0063,  0.0312,  0.0190],\n",
              "                      [-0.0246, -0.0200,  0.0189,  ...,  0.0309, -0.0196, -0.0121],\n",
              "                      ...,\n",
              "                      [-0.0261, -0.0342,  0.0293,  ...,  0.0325, -0.0297,  0.0092],\n",
              "                      [-0.0003, -0.0333, -0.0340,  ...,  0.0013,  0.0068,  0.0074],\n",
              "                      [-0.0052, -0.0221, -0.0163,  ..., -0.0015, -0.0252,  0.0115]])),\n",
              "             ('linear.bias',\n",
              "              tensor([-0.0518,  0.0995, -0.0058, -0.0048,  0.0304,  0.0812, -0.0403,  0.0221,\n",
              "                      -0.1455,  0.0028]))])"
            ]
          },
          "metadata": {},
          "execution_count": 56
        }
      ]
    },
    {
      "cell_type": "code",
      "source": [
        "torch.save(model.state_dict(), 'mnist-logistic.pth')"
      ],
      "metadata": {
        "id": "pLYG-UIId96A"
      },
      "execution_count": 57,
      "outputs": []
    },
    {
      "cell_type": "code",
      "source": [
        "model2 = MnistModel()"
      ],
      "metadata": {
        "id": "-R9OXlsmfcmR"
      },
      "execution_count": 58,
      "outputs": []
    },
    {
      "cell_type": "code",
      "source": [
        "#loading saved weights and biases to new model\n",
        "model2.load_state_dict(torch.load('mnist-logistic.pth'))\n",
        "#printing model2 initial weights and biases\n",
        "model2.state_dict()"
      ],
      "metadata": {
        "colab": {
          "base_uri": "https://localhost:8080/"
        },
        "id": "PLgWHTsGezcJ",
        "outputId": "754eb4be-ba15-495c-e204-0363e931e605"
      },
      "execution_count": 59,
      "outputs": [
        {
          "output_type": "execute_result",
          "data": {
            "text/plain": [
              "OrderedDict([('linear.weight',\n",
              "              tensor([[-0.0139, -0.0119, -0.0129,  ..., -0.0192, -0.0041,  0.0287],\n",
              "                      [-0.0002, -0.0011,  0.0302,  ...,  0.0063,  0.0312,  0.0190],\n",
              "                      [-0.0246, -0.0200,  0.0189,  ...,  0.0309, -0.0196, -0.0121],\n",
              "                      ...,\n",
              "                      [-0.0261, -0.0342,  0.0293,  ...,  0.0325, -0.0297,  0.0092],\n",
              "                      [-0.0003, -0.0333, -0.0340,  ...,  0.0013,  0.0068,  0.0074],\n",
              "                      [-0.0052, -0.0221, -0.0163,  ..., -0.0015, -0.0252,  0.0115]])),\n",
              "             ('linear.bias',\n",
              "              tensor([-0.0518,  0.0995, -0.0058, -0.0048,  0.0304,  0.0812, -0.0403,  0.0221,\n",
              "                      -0.1455,  0.0028]))])"
            ]
          },
          "metadata": {},
          "execution_count": 59
        }
      ]
    },
    {
      "cell_type": "code",
      "source": [
        ""
      ],
      "metadata": {
        "id": "Bq_73AfekOQP"
      },
      "execution_count": null,
      "outputs": []
    }
  ]
}