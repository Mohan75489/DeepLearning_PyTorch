{
  "nbformat": 4,
  "nbformat_minor": 0,
  "metadata": {
    "colab": {
      "name": "PyTorch Images and LR with MNIST",
      "provenance": [],
      "authorship_tag": "ABX9TyMmLK5HjZl4n1jQpSBYu29E",
      "include_colab_link": true
    },
    "kernelspec": {
      "name": "python3",
      "display_name": "Python 3"
    },
    "language_info": {
      "name": "python"
    }
  },
  "cells": [
    {
      "cell_type": "markdown",
      "metadata": {
        "id": "view-in-github",
        "colab_type": "text"
      },
      "source": [
        "<a href=\"https://colab.research.google.com/github/Mohan75489/DeepLearning_PyTorch/blob/main/PyTorch_Images_and_LR_with_MNIST.ipynb\" target=\"_parent\"><img src=\"https://colab.research.google.com/assets/colab-badge.svg\" alt=\"Open In Colab\"/></a>"
      ]
    },
    {
      "cell_type": "code",
      "execution_count": 22,
      "metadata": {
        "id": "Y3sKSxii9zmS"
      },
      "outputs": [],
      "source": [
        "#Import all required libraries\n",
        "import torch\n",
        "import torchvision\n",
        "from torchvision.datasets import MNIST"
      ]
    },
    {
      "cell_type": "code",
      "source": [
        "#downloading training dataset\n",
        "dataset = MNIST(root = 'data/', download=True)"
      ],
      "metadata": {
        "id": "e4Tb2sJ8-H_a"
      },
      "execution_count": 23,
      "outputs": []
    },
    {
      "cell_type": "code",
      "source": [
        "#to check the loaded dataset length\n",
        "len(dataset)"
      ],
      "metadata": {
        "colab": {
          "base_uri": "https://localhost:8080/"
        },
        "id": "yXQl0SRV-i1z",
        "outputId": "b43fd288-ed79-4908-ac57-283759a30298"
      },
      "execution_count": 24,
      "outputs": [
        {
          "output_type": "execute_result",
          "data": {
            "text/plain": [
              "60000"
            ]
          },
          "metadata": {},
          "execution_count": 24
        }
      ]
    },
    {
      "cell_type": "code",
      "source": [
        "#checking test data length and we don't want to train using this. This is only for showing efficiency of built model.\n",
        "test_dataset = MNIST(root='data/',train=False)\n",
        "len(test_dataset)"
      ],
      "metadata": {
        "colab": {
          "base_uri": "https://localhost:8080/"
        },
        "id": "fVbhaS_0-wpr",
        "outputId": "0e200d0c-f660-44aa-a7d4-4b0ff4fca06b"
      },
      "execution_count": 99,
      "outputs": [
        {
          "output_type": "execute_result",
          "data": {
            "text/plain": [
              "10000"
            ]
          },
          "metadata": {},
          "execution_count": 99
        }
      ]
    },
    {
      "cell_type": "code",
      "source": [
        "#checking a random sample\n",
        "dataset[5]"
      ],
      "metadata": {
        "colab": {
          "base_uri": "https://localhost:8080/"
        },
        "id": "cbfJidZk_L98",
        "outputId": "3db73514-bc2e-4d23-a4f0-2bcb691553da"
      },
      "execution_count": 26,
      "outputs": [
        {
          "output_type": "execute_result",
          "data": {
            "text/plain": [
              "(<PIL.Image.Image image mode=L size=28x28 at 0x7F2A6FDA1850>, 2)"
            ]
          },
          "metadata": {},
          "execution_count": 26
        }
      ]
    },
    {
      "cell_type": "markdown",
      "source": [
        "- First part is image. It's part of a python library is called Pillow (python interpreted of image)\n",
        "- Second part, is the size of the image.\n",
        "-Third part, is the label/value in the image."
      ],
      "metadata": {
        "id": "h5Zx3j696-Rg"
      }
    },
    {
      "cell_type": "code",
      "source": [
        "#to view the image, importing matplotlib\n",
        "import matplotlib.pyplot as plt\n",
        "#to show plots in the notebook, instead of pop-up (anything that begins with % sign is called magic command)\n",
        "%matplotlib inline "
      ],
      "metadata": {
        "id": "WkxSQuw6_YHW"
      },
      "execution_count": 27,
      "outputs": []
    },
    {
      "cell_type": "code",
      "source": [
        "#plotting an image from the dataset. Note image and lable properties of image in dataset.\n",
        "image, label = dataset[7]\n",
        "plt.imshow(image, cmap='gray')\n",
        "print('Label:',label)"
      ],
      "metadata": {
        "colab": {
          "base_uri": "https://localhost:8080/",
          "height": 282
        },
        "id": "TMkFumtz_6Xd",
        "outputId": "728a3f84-caff-4df1-e994-e02492a82f55"
      },
      "execution_count": 28,
      "outputs": [
        {
          "output_type": "stream",
          "name": "stdout",
          "text": [
            "Label: 3\n"
          ]
        },
        {
          "output_type": "display_data",
          "data": {
            "image/png": "[encoded data removed]",
            "text/plain": [
              "<Figure size 432x288 with 1 Axes>"
            ]
          },
          "metadata": {
            "needs_background": "light"
          }
        }
      ]
    },
    {
      "cell_type": "code",
      "source": [
        "#PyTorch operates in tensors, it doesn't know images. It requires transformation of images to tensors.\n",
        "import torchvision.transforms as transforms"
      ],
      "metadata": {
        "id": "HgfIMi1rAcKY"
      },
      "execution_count": 29,
      "outputs": []
    },
    {
      "cell_type": "code",
      "source": [
        "#tranforming dataset to tensors for training, and redefining it. and making it available for training.\n",
        "dataset = MNIST(root = 'data/', train=True, transform = transforms.ToTensor())"
      ],
      "metadata": {
        "id": "_UyiGBfnBA_3"
      },
      "execution_count": 30,
      "outputs": []
    },
    {
      "cell_type": "code",
      "source": [
        "#printing tranformed tensor to view shape\n",
        "img_tensor, label = dataset[0]\n",
        "print(img_tensor.shape,label)"
      ],
      "metadata": {
        "colab": {
          "base_uri": "https://localhost:8080/"
        },
        "id": "sCZVBdaQByTn",
        "outputId": "108b392d-0e2f-4295-f8b1-06ff456f86ea"
      },
      "execution_count": 31,
      "outputs": [
        {
          "output_type": "stream",
          "name": "stdout",
          "text": [
            "torch.Size([1, 28, 28]) 5\n"
          ]
        }
      ]
    },
    {
      "cell_type": "markdown",
      "source": [
        "- Image is converted into 3D tensor, 1 represents colour, 28 and 28 represent x and y dimension.\n",
        "- So, each pixel is conveted into an elelemtn of tensor.\n",
        "- First one is colour channel, for colured image it have 3 parts (Red, Green, Blue)."
      ],
      "metadata": {
        "id": "fdeAQommCswW"
      }
    },
    {
      "cell_type": "code",
      "source": [
        "#looking a some pixels from a specific image.\n",
        "print(img_tensor[:,10:15,10:15])\n",
        "#To understand colour variation. \n",
        "print(torch.max(img_tensor),torch.min(img_tensor))"
      ],
      "metadata": {
        "colab": {
          "base_uri": "https://localhost:8080/"
        },
        "id": "6FrHATieCqpX",
        "outputId": "909ab3df-4eee-4b7a-cfbc-5072fc982665"
      },
      "execution_count": 32,
      "outputs": [
        {
          "output_type": "stream",
          "name": "stdout",
          "text": [
            "tensor([[[0.0039, 0.6039, 0.9922, 0.3529, 0.0000],\n",
            "         [0.0000, 0.5451, 0.9922, 0.7451, 0.0078],\n",
            "         [0.0000, 0.0431, 0.7451, 0.9922, 0.2745],\n",
            "         [0.0000, 0.0000, 0.1373, 0.9451, 0.8824],\n",
            "         [0.0000, 0.0000, 0.0000, 0.3176, 0.9412]]])\n",
            "tensor(1.) tensor(0.)\n"
          ]
        }
      ]
    },
    {
      "cell_type": "markdown",
      "source": [
        "- Element represent colur of pixel.\n",
        "- 1 is for Black and 0 is for White, everything in between are shades of gray."
      ],
      "metadata": {
        "id": "1w7yZmJDDjgH"
      }
    },
    {
      "cell_type": "code",
      "source": [
        "#plotting a 10-15 vertical and horizontal elements of tensor\n",
        "plt.imshow(img_tensor[0,10:15,10:15],cmap='gray')"
      ],
      "metadata": {
        "colab": {
          "base_uri": "https://localhost:8080/",
          "height": 282
        },
        "id": "xZtCXOoVDhPc",
        "outputId": "07de43fb-3894-4d8d-c24b-1d6b9f2dc32b"
      },
      "execution_count": 33,
      "outputs": [
        {
          "output_type": "execute_result",
          "data": {
            "text/plain": [
              "<matplotlib.image.AxesImage at 0x7f2a6fe34710>"
            ]
          },
          "metadata": {},
          "execution_count": 33
        },
        {
          "output_type": "display_data",
          "data": {
            "image/png": "[encoded data removed]",
            "text/plain": [
              "<Figure size 432x288 with 1 Axes>"
            ]
          },
          "metadata": {
            "needs_background": "light"
          }
        }
      ]
    },
    {
      "cell_type": "code",
      "source": [
        "#splitting the data into 3 sets.\n",
        "#training dataset, some 50000 images of 60000.\n",
        "#validation dataset, remaining 10000 images of 60000.\n",
        "#test dataset, which is given separately in MNIST, 10000.\n",
        "\n",
        "#splitting 60000 between training and validation set randomly.\n",
        "from torch.utils.data import random_split\n",
        "train_ds, val_ds = random_split(dataset,[50000,10000])\n",
        "len(train_ds), len(val_ds)"
      ],
      "metadata": {
        "colab": {
          "base_uri": "https://localhost:8080/"
        },
        "id": "DDDDW3fwE32M",
        "outputId": "9cceb169-158e-46a1-9f00-5522e129df1c"
      },
      "execution_count": 34,
      "outputs": [
        {
          "output_type": "execute_result",
          "data": {
            "text/plain": [
              "(50000, 10000)"
            ]
          },
          "metadata": {},
          "execution_count": 34
        }
      ]
    },
    {
      "cell_type": "code",
      "source": [
        "#dataloding in batches, training dataset with shuffle on. Validation set no shuffling needed, at least for now.\n",
        "from torch.utils.data import DataLoader\n",
        "#smaller batches reduces time to calculate gradients.\n",
        "batch_size = 125\n",
        "train_loader = DataLoader(train_ds,batch_size,shuffle=True)\n",
        "val_loader = DataLoader(val_ds, batch_size)"
      ],
      "metadata": {
        "id": "r93HI9p9GKm7"
      },
      "execution_count": 35,
      "outputs": []
    },
    {
      "cell_type": "markdown",
      "source": [
        "- nn.linear expects vector as inout/2D tensor.\n",
        "- Each image is group of pixels/element in the tensor.\n",
        "- Other way of saying above point, number of inputs=number of pixels in image.\n",
        "- All images in MNIST are 28x28 pixels (or) 784 inputs.\n",
        "- We are prediction which class the image belongs to (0-9) (or) output would be a tensor with 10 elements (10 outputs)."
      ],
      "metadata": {
        "id": "XBg1IYY9BF5w"
      }
    },
    {
      "cell_type": "code",
      "source": [
        "#creating a model.\n",
        "import torch.nn as nn\n",
        "input_size = 28*28\n",
        "num_classes = 10\n",
        "#logestic-regression model for a image.\n",
        "model = nn.Linear(input_size, num_classes)"
      ],
      "metadata": {
        "id": "NkXh8PmEBEou"
      },
      "execution_count": 36,
      "outputs": []
    },
    {
      "cell_type": "code",
      "source": [
        "#printing model weight shape.\n",
        "print(model.weight.shape)\n",
        "#printing intial weight tensor.\n",
        "print(model.weight)\n",
        "#printing model bias shape.\n",
        "print(model.bias.shape)\n",
        "#printing initial bias tensor.\n",
        "model.bias"
      ],
      "metadata": {
        "id": "duAV_F2eCZ3Y",
        "outputId": "fa3034e5-2a00-4e47-cbc0-002292ebd988",
        "colab": {
          "base_uri": "https://localhost:8080/"
        }
      },
      "execution_count": 37,
      "outputs": [
        {
          "output_type": "stream",
          "name": "stdout",
          "text": [
            "torch.Size([10, 784])\n",
            "Parameter containing:\n",
            "tensor([[ 0.0316, -0.0280, -0.0195,  ...,  0.0014, -0.0317, -0.0258],\n",
            "        [ 0.0114, -0.0261,  0.0325,  ..., -0.0337, -0.0317, -0.0173],\n",
            "        [ 0.0067,  0.0051, -0.0205,  ...,  0.0217,  0.0063,  0.0301],\n",
            "        ...,\n",
            "        [-0.0250,  0.0165, -0.0228,  ..., -0.0250,  0.0149, -0.0087],\n",
            "        [-0.0273,  0.0281, -0.0342,  ...,  0.0075,  0.0125,  0.0067],\n",
            "        [-0.0246, -0.0294, -0.0141,  ..., -0.0124, -0.0131,  0.0296]],\n",
            "       requires_grad=True)\n",
            "torch.Size([10])\n"
          ]
        },
        {
          "output_type": "execute_result",
          "data": {
            "text/plain": [
              "Parameter containing:\n",
              "tensor([-0.0225, -0.0353, -0.0143,  0.0263,  0.0227,  0.0288, -0.0163, -0.0313,\n",
              "        -0.0342, -0.0356], requires_grad=True)"
            ]
          },
          "metadata": {},
          "execution_count": 37
        }
      ]
    },
    {
      "cell_type": "code",
      "source": [
        "#passing image to developed model in batches.\n",
        "for images, labels in train_loader:\n",
        "    print(labels)\n",
        "    print(images.shape)\n",
        "    outputs = model(images)\n",
        "    print(outputs)\n",
        "    break"
      ],
      "metadata": {
        "id": "GBl7pySdC-AS",
        "outputId": "98611225-a287-42e8-9a6a-8efb05184062",
        "colab": {
          "base_uri": "https://localhost:8080/",
          "height": 502
        }
      },
      "execution_count": 38,
      "outputs": [
        {
          "output_type": "stream",
          "name": "stdout",
          "text": [
            "tensor([3, 2, 3, 9, 4, 8, 0, 6, 4, 4, 3, 3, 8, 2, 7, 5, 2, 7, 1, 3, 1, 4, 5, 8,\n",
            "        3, 7, 6, 8, 8, 2, 4, 2, 9, 5, 9, 8, 4, 1, 0, 3, 5, 1, 9, 2, 4, 7, 2, 1,\n",
            "        5, 8, 1, 1, 3, 9, 2, 7, 3, 4, 8, 8, 0, 6, 9, 9, 6, 9, 8, 4, 8, 1, 5, 4,\n",
            "        0, 6, 6, 5, 6, 1, 1, 8, 6, 0, 3, 0, 1, 6, 7, 5, 8, 1, 8, 8, 6, 1, 0, 8,\n",
            "        3, 8, 8, 3, 2, 2, 4, 5, 3, 9, 7, 1, 4, 8, 2, 8, 7, 3, 4, 9, 0, 0, 6, 7,\n",
            "        8, 1, 7, 2, 4])\n",
            "torch.Size([125, 1, 28, 28])\n"
          ]
        },
        {
          "output_type": "error",
          "ename": "RuntimeError",
          "evalue": "ignored",
          "traceback": [
            "\u001b[0;31m---------------------------------------------------------------------------\u001b[0m",
            "\u001b[0;31mRuntimeError\u001b[0m                              Traceback (most recent call last)",
            "\u001b[0;32m<ipython-input-38-ddfa31222a83>\u001b[0m in \u001b[0;36m<module>\u001b[0;34m()\u001b[0m\n\u001b[1;32m      3\u001b[0m     \u001b[0mprint\u001b[0m\u001b[0;34m(\u001b[0m\u001b[0mlabels\u001b[0m\u001b[0;34m)\u001b[0m\u001b[0;34m\u001b[0m\u001b[0;34m\u001b[0m\u001b[0m\n\u001b[1;32m      4\u001b[0m     \u001b[0mprint\u001b[0m\u001b[0;34m(\u001b[0m\u001b[0mimages\u001b[0m\u001b[0;34m.\u001b[0m\u001b[0mshape\u001b[0m\u001b[0;34m)\u001b[0m\u001b[0;34m\u001b[0m\u001b[0;34m\u001b[0m\u001b[0m\n\u001b[0;32m----> 5\u001b[0;31m     \u001b[0moutputs\u001b[0m \u001b[0;34m=\u001b[0m \u001b[0mmodel\u001b[0m\u001b[0;34m(\u001b[0m\u001b[0mimages\u001b[0m\u001b[0;34m)\u001b[0m\u001b[0;34m\u001b[0m\u001b[0;34m\u001b[0m\u001b[0m\n\u001b[0m\u001b[1;32m      6\u001b[0m     \u001b[0mprint\u001b[0m\u001b[0;34m(\u001b[0m\u001b[0moutputs\u001b[0m\u001b[0;34m)\u001b[0m\u001b[0;34m\u001b[0m\u001b[0;34m\u001b[0m\u001b[0m\n\u001b[1;32m      7\u001b[0m     \u001b[0;32mbreak\u001b[0m\u001b[0;34m\u001b[0m\u001b[0;34m\u001b[0m\u001b[0m\n",
            "\u001b[0;32m/usr/local/lib/python3.7/dist-packages/torch/nn/modules/module.py\u001b[0m in \u001b[0;36m_call_impl\u001b[0;34m(self, *input, **kwargs)\u001b[0m\n\u001b[1;32m   1100\u001b[0m         if not (self._backward_hooks or self._forward_hooks or self._forward_pre_hooks or _global_backward_hooks\n\u001b[1;32m   1101\u001b[0m                 or _global_forward_hooks or _global_forward_pre_hooks):\n\u001b[0;32m-> 1102\u001b[0;31m             \u001b[0;32mreturn\u001b[0m \u001b[0mforward_call\u001b[0m\u001b[0;34m(\u001b[0m\u001b[0;34m*\u001b[0m\u001b[0minput\u001b[0m\u001b[0;34m,\u001b[0m \u001b[0;34m**\u001b[0m\u001b[0mkwargs\u001b[0m\u001b[0;34m)\u001b[0m\u001b[0;34m\u001b[0m\u001b[0;34m\u001b[0m\u001b[0m\n\u001b[0m\u001b[1;32m   1103\u001b[0m         \u001b[0;31m# Do not call functions when jit is used\u001b[0m\u001b[0;34m\u001b[0m\u001b[0;34m\u001b[0m\u001b[0;34m\u001b[0m\u001b[0m\n\u001b[1;32m   1104\u001b[0m         \u001b[0mfull_backward_hooks\u001b[0m\u001b[0;34m,\u001b[0m \u001b[0mnon_full_backward_hooks\u001b[0m \u001b[0;34m=\u001b[0m \u001b[0;34m[\u001b[0m\u001b[0;34m]\u001b[0m\u001b[0;34m,\u001b[0m \u001b[0;34m[\u001b[0m\u001b[0;34m]\u001b[0m\u001b[0;34m\u001b[0m\u001b[0;34m\u001b[0m\u001b[0m\n",
            "\u001b[0;32m/usr/local/lib/python3.7/dist-packages/torch/nn/modules/linear.py\u001b[0m in \u001b[0;36mforward\u001b[0;34m(self, input)\u001b[0m\n\u001b[1;32m    101\u001b[0m \u001b[0;34m\u001b[0m\u001b[0m\n\u001b[1;32m    102\u001b[0m     \u001b[0;32mdef\u001b[0m \u001b[0mforward\u001b[0m\u001b[0;34m(\u001b[0m\u001b[0mself\u001b[0m\u001b[0;34m,\u001b[0m \u001b[0minput\u001b[0m\u001b[0;34m:\u001b[0m \u001b[0mTensor\u001b[0m\u001b[0;34m)\u001b[0m \u001b[0;34m->\u001b[0m \u001b[0mTensor\u001b[0m\u001b[0;34m:\u001b[0m\u001b[0;34m\u001b[0m\u001b[0;34m\u001b[0m\u001b[0m\n\u001b[0;32m--> 103\u001b[0;31m         \u001b[0;32mreturn\u001b[0m \u001b[0mF\u001b[0m\u001b[0;34m.\u001b[0m\u001b[0mlinear\u001b[0m\u001b[0;34m(\u001b[0m\u001b[0minput\u001b[0m\u001b[0;34m,\u001b[0m \u001b[0mself\u001b[0m\u001b[0;34m.\u001b[0m\u001b[0mweight\u001b[0m\u001b[0;34m,\u001b[0m \u001b[0mself\u001b[0m\u001b[0;34m.\u001b[0m\u001b[0mbias\u001b[0m\u001b[0;34m)\u001b[0m\u001b[0;34m\u001b[0m\u001b[0;34m\u001b[0m\u001b[0m\n\u001b[0m\u001b[1;32m    104\u001b[0m \u001b[0;34m\u001b[0m\u001b[0m\n\u001b[1;32m    105\u001b[0m     \u001b[0;32mdef\u001b[0m \u001b[0mextra_repr\u001b[0m\u001b[0;34m(\u001b[0m\u001b[0mself\u001b[0m\u001b[0;34m)\u001b[0m \u001b[0;34m->\u001b[0m \u001b[0mstr\u001b[0m\u001b[0;34m:\u001b[0m\u001b[0;34m\u001b[0m\u001b[0;34m\u001b[0m\u001b[0m\n",
            "\u001b[0;32m/usr/local/lib/python3.7/dist-packages/torch/nn/functional.py\u001b[0m in \u001b[0;36mlinear\u001b[0;34m(input, weight, bias)\u001b[0m\n\u001b[1;32m   1846\u001b[0m     \u001b[0;32mif\u001b[0m \u001b[0mhas_torch_function_variadic\u001b[0m\u001b[0;34m(\u001b[0m\u001b[0minput\u001b[0m\u001b[0;34m,\u001b[0m \u001b[0mweight\u001b[0m\u001b[0;34m,\u001b[0m \u001b[0mbias\u001b[0m\u001b[0;34m)\u001b[0m\u001b[0;34m:\u001b[0m\u001b[0;34m\u001b[0m\u001b[0;34m\u001b[0m\u001b[0m\n\u001b[1;32m   1847\u001b[0m         \u001b[0;32mreturn\u001b[0m \u001b[0mhandle_torch_function\u001b[0m\u001b[0;34m(\u001b[0m\u001b[0mlinear\u001b[0m\u001b[0;34m,\u001b[0m \u001b[0;34m(\u001b[0m\u001b[0minput\u001b[0m\u001b[0;34m,\u001b[0m \u001b[0mweight\u001b[0m\u001b[0;34m,\u001b[0m \u001b[0mbias\u001b[0m\u001b[0;34m)\u001b[0m\u001b[0;34m,\u001b[0m \u001b[0minput\u001b[0m\u001b[0;34m,\u001b[0m \u001b[0mweight\u001b[0m\u001b[0;34m,\u001b[0m \u001b[0mbias\u001b[0m\u001b[0;34m=\u001b[0m\u001b[0mbias\u001b[0m\u001b[0;34m)\u001b[0m\u001b[0;34m\u001b[0m\u001b[0;34m\u001b[0m\u001b[0m\n\u001b[0;32m-> 1848\u001b[0;31m     \u001b[0;32mreturn\u001b[0m \u001b[0mtorch\u001b[0m\u001b[0;34m.\u001b[0m\u001b[0m_C\u001b[0m\u001b[0;34m.\u001b[0m\u001b[0m_nn\u001b[0m\u001b[0;34m.\u001b[0m\u001b[0mlinear\u001b[0m\u001b[0;34m(\u001b[0m\u001b[0minput\u001b[0m\u001b[0;34m,\u001b[0m \u001b[0mweight\u001b[0m\u001b[0;34m,\u001b[0m \u001b[0mbias\u001b[0m\u001b[0;34m)\u001b[0m\u001b[0;34m\u001b[0m\u001b[0;34m\u001b[0m\u001b[0m\n\u001b[0m\u001b[1;32m   1849\u001b[0m \u001b[0;34m\u001b[0m\u001b[0m\n\u001b[1;32m   1850\u001b[0m \u001b[0;34m\u001b[0m\u001b[0m\n",
            "\u001b[0;31mRuntimeError\u001b[0m: mat1 and mat2 shapes cannot be multiplied (3500x28 and 784x10)"
          ]
        }
      ]
    },
    {
      "cell_type": "markdown",
      "source": [
        "- We followed sma eprocedure as linear regression, but error occured because we are asking linear regression for \"125\"/batch size times.\n",
        "- We know each image has 784 inputs and 10 outputs.\n",
        "- We discussed nn.lineaar can handle 2D tensors only."
      ],
      "metadata": {
        "id": "TJ3gJu8DD07L"
      }
    },
    {
      "cell_type": "code",
      "source": [
        "#target is to rehape input/images to 2D tensor.\n",
        "#we can use rehspe operation of tensor.\n",
        "images.reshape(125,784).shape"
      ],
      "metadata": {
        "id": "N6PMucnlDuxx",
        "outputId": "a74c268d-c775-4ba1-be6d-a99b8dcbce7d",
        "colab": {
          "base_uri": "https://localhost:8080/"
        }
      },
      "execution_count": 39,
      "outputs": [
        {
          "output_type": "execute_result",
          "data": {
            "text/plain": [
              "torch.Size([125, 784])"
            ]
          },
          "metadata": {},
          "execution_count": 39
        }
      ]
    },
    {
      "cell_type": "markdown",
      "source": [
        "- It is not practical to do it/pass it for each different batch sizes. User can give any batch sie.\n",
        "- Technique is to extend existing nn.Module calss to add customized classes to work in this notebook."
      ],
      "metadata": {
        "id": "T7nsTMIfGL63"
      }
    },
    {
      "cell_type": "code",
      "source": [
        "#Adding customized class extension for nn.Module.\n",
        "class MnistModel(nn.Module):\n",
        "  #Constructor of class init\n",
        "  #self is current batch. default fuction.\n",
        "  #special line to make init is calss under nn.Module\n",
        "    def __init__(self): #double underscore structure is important.\n",
        "        super().__init__()\n",
        "        self.linear = nn.Linear(input_size,num_classes)\n",
        "    #init class function\n",
        "    def forward(self,xb):\n",
        "          #-1 is the key here, based on passed bacth size it can autocaculate it. \n",
        "          #limitation is we need to give inputs/should know image size.\n",
        "          xb = xb.reshape(-1,784)\n",
        "          out = self.linear(xb)\n",
        "          return out\n",
        "\n",
        "#redefining the model to this Mnistmodel\n",
        "model = MnistModel()"
      ],
      "metadata": {
        "id": "Y1wGD368FEnX"
      },
      "execution_count": 40,
      "outputs": []
    },
    {
      "cell_type": "code",
      "source": [
        "print(model.linear.weight.shape,model.linear.bias.shape)\n",
        "list(model.parameters())"
      ],
      "metadata": {
        "id": "BgcQwpgzt_rT",
        "outputId": "f2d35a34-753e-4593-b1df-058d2b048874",
        "colab": {
          "base_uri": "https://localhost:8080/"
        }
      },
      "execution_count": 41,
      "outputs": [
        {
          "output_type": "stream",
          "name": "stdout",
          "text": [
            "torch.Size([10, 784]) torch.Size([10])\n"
          ]
        },
        {
          "output_type": "execute_result",
          "data": {
            "text/plain": [
              "[Parameter containing:\n",
              " tensor([[ 0.0202, -0.0167, -0.0108,  ...,  0.0302, -0.0144,  0.0029],\n",
              "         [ 0.0312,  0.0084,  0.0306,  ...,  0.0352, -0.0124,  0.0118],\n",
              "         [ 0.0292, -0.0237,  0.0318,  ..., -0.0161,  0.0350, -0.0162],\n",
              "         ...,\n",
              "         [ 0.0033, -0.0156, -0.0127,  ...,  0.0223,  0.0211,  0.0329],\n",
              "         [ 0.0301, -0.0314, -0.0178,  ...,  0.0244, -0.0088,  0.0091],\n",
              "         [-0.0324, -0.0261,  0.0049,  ..., -0.0182, -0.0350, -0.0010]],\n",
              "        requires_grad=True), Parameter containing:\n",
              " tensor([-0.0186,  0.0182,  0.0235, -0.0200, -0.0089,  0.0169,  0.0043,  0.0233,\n",
              "         -0.0091, -0.0292], requires_grad=True)]"
            ]
          },
          "metadata": {},
          "execution_count": 41
        }
      ]
    },
    {
      "cell_type": "code",
      "source": [
        "#passing images to built model\n",
        "for images, labels in train_loader:\n",
        "    outputs = model(images) #prints probabilities of each class\n",
        "    print(images.shape)\n",
        "    break\n",
        "print('outputs.shape:',outputs.shape)\n",
        "print('Sample outputs:\\n',outputs[:2].data)"
      ],
      "metadata": {
        "id": "T9c3YxMJJ1i4",
        "outputId": "e4686eeb-06cb-49a5-d119-f543b6b8788a",
        "colab": {
          "base_uri": "https://localhost:8080/"
        }
      },
      "execution_count": 42,
      "outputs": [
        {
          "output_type": "stream",
          "name": "stdout",
          "text": [
            "torch.Size([125, 1, 28, 28])\n",
            "outputs.shape: torch.Size([125, 10])\n",
            "Sample outputs:\n",
            " tensor([[ 0.0396,  0.1329,  0.0117, -0.2557,  0.0637, -0.1710,  0.3838, -0.0218,\n",
            "         -0.0601, -0.1759],\n",
            "        [-0.1531,  0.1218,  0.0402,  0.1422,  0.1022,  0.0911,  0.1923,  0.1439,\n",
            "         -0.0995,  0.0268]])\n"
          ]
        }
      ]
    },
    {
      "cell_type": "markdown",
      "source": [
        "- These probabilities are not mathametically correct.\n",
        "- Probability cannot be -ve.\n",
        "- Sum of probabiliites is 1.\n",
        "- SoftMax function S = e^prob/sum(e^prob).\n",
        "- SoftMax also pushes highest probability towards 1."
      ],
      "metadata": {
        "id": "2rDD4GxDvWUI"
      }
    },
    {
      "cell_type": "code",
      "source": [
        "#importing functional module\n",
        "import torch.nn.functional as F"
      ],
      "metadata": {
        "id": "1rKrNOays6Go"
      },
      "execution_count": 43,
      "outputs": []
    },
    {
      "cell_type": "code",
      "source": [
        "#printing softmax values\n",
        "outputs[:3]"
      ],
      "metadata": {
        "id": "MYjtxxOxxlKk",
        "outputId": "fe3434d2-e86e-4582-e975-75067b3e0a61",
        "colab": {
          "base_uri": "https://localhost:8080/"
        }
      },
      "execution_count": 45,
      "outputs": [
        {
          "output_type": "execute_result",
          "data": {
            "text/plain": [
              "tensor([[ 0.0396,  0.1329,  0.0117, -0.2557,  0.0637, -0.1710,  0.3838, -0.0218,\n",
              "         -0.0601, -0.1759],\n",
              "        [-0.1531,  0.1218,  0.0402,  0.1422,  0.1022,  0.0911,  0.1923,  0.1439,\n",
              "         -0.0995,  0.0268],\n",
              "        [-0.1417,  0.0154, -0.2189,  0.0767, -0.0802, -0.0496, -0.0172, -0.0259,\n",
              "         -0.2775,  0.1031]], grad_fn=<SliceBackward0>)"
            ]
          },
          "metadata": {},
          "execution_count": 45
        }
      ]
    },
    {
      "cell_type": "code",
      "source": [
        "#Applying softmax for rach output row/image output\n",
        "probs = F.softmax(outputs,dim=1)\n",
        "#printing probabilities of first 3 image outputs\n",
        "print(\"Sample probabilities:\\n\",probs[:3].data)\n",
        "#for check: adding up probabilities of a image outputs\n",
        "print(\"Sum:\",torch.sum(probs[3]).item())"
      ],
      "metadata": {
        "id": "2oBQTMIqx41f",
        "outputId": "fbe66969-d876-4df1-ee8c-c7996e301660",
        "colab": {
          "base_uri": "https://localhost:8080/"
        }
      },
      "execution_count": 44,
      "outputs": [
        {
          "output_type": "stream",
          "name": "stdout",
          "text": [
            "Sample probabilities:\n",
            " tensor([[0.1030, 0.1130, 0.1001, 0.0766, 0.1055, 0.0834, 0.1453, 0.0968, 0.0932,\n",
            "         0.0830],\n",
            "        [0.0803, 0.1057, 0.0974, 0.1079, 0.1037, 0.1025, 0.1134, 0.1081, 0.0847,\n",
            "         0.0961],\n",
            "        [0.0917, 0.1073, 0.0849, 0.1141, 0.0975, 0.1005, 0.1039, 0.1030, 0.0801,\n",
            "         0.1171]])\n",
            "Sum: 1.0000001192092896\n"
          ]
        }
      ]
    },
    {
      "cell_type": "markdown",
      "source": [
        "- Softmax sum gives near values of 1, if not exact.\n",
        "- Note: model is only 12.73% sure that first image is 6. Not great!!!"
      ],
      "metadata": {
        "id": "UtO0AuTUz7Q0"
      }
    },
    {
      "cell_type": "code",
      "source": [
        "preds = torch.max(probs,dim=1)\n",
        "print(preds)"
      ],
      "metadata": {
        "id": "PmxqHvu5z4s-",
        "outputId": "4a1267b4-3279-4339-82c8-09ecd55a232d",
        "colab": {
          "base_uri": "https://localhost:8080/"
        }
      },
      "execution_count": 46,
      "outputs": [
        {
          "output_type": "stream",
          "name": "stdout",
          "text": [
            "torch.return_types.max(\n",
            "values=tensor([0.1453, 0.1134, 0.1171, 0.1130, 0.1312, 0.1429, 0.1204, 0.1477, 0.1178,\n",
            "        0.1311, 0.1185, 0.1298, 0.1262, 0.1193, 0.1263, 0.1147, 0.1245, 0.1142,\n",
            "        0.2029, 0.1351, 0.1291, 0.1458, 0.1229, 0.1406, 0.1234, 0.1254, 0.1127,\n",
            "        0.1465, 0.1170, 0.1520, 0.1331, 0.1353, 0.1474, 0.1277, 0.1402, 0.1197,\n",
            "        0.2080, 0.1097, 0.1203, 0.1248, 0.1409, 0.1206, 0.1286, 0.1470, 0.1445,\n",
            "        0.1209, 0.1687, 0.1303, 0.1246, 0.1190, 0.1422, 0.1300, 0.1363, 0.1281,\n",
            "        0.1324, 0.1251, 0.1443, 0.1721, 0.1313, 0.1680, 0.1484, 0.1203, 0.1117,\n",
            "        0.1315, 0.1359, 0.1142, 0.1649, 0.1371, 0.1140, 0.1391, 0.1581, 0.1147,\n",
            "        0.1204, 0.1265, 0.1292, 0.1376, 0.1240, 0.1336, 0.1112, 0.1421, 0.1273,\n",
            "        0.1209, 0.1437, 0.1393, 0.1240, 0.1262, 0.1433, 0.1215, 0.1427, 0.1320,\n",
            "        0.1156, 0.1301, 0.1212, 0.1231, 0.1211, 0.1788, 0.1438, 0.1345, 0.1205,\n",
            "        0.1512, 0.1551, 0.1192, 0.1564, 0.1143, 0.1383, 0.1697, 0.1199, 0.1356,\n",
            "        0.1244, 0.1109, 0.1321, 0.1144, 0.1194, 0.1652, 0.1200, 0.1517, 0.1463,\n",
            "        0.1160, 0.1448, 0.1161, 0.1442, 0.1481, 0.1597, 0.1246, 0.1295],\n",
            "       grad_fn=<MaxBackward0>),\n",
            "indices=tensor([6, 6, 9, 6, 6, 6, 5, 6, 0, 2, 6, 6, 6, 6, 6, 6, 5, 5, 6, 1, 6, 6, 1, 6,\n",
            "        9, 6, 5, 6, 5, 6, 5, 9, 6, 7, 6, 4, 6, 5, 7, 9, 5, 9, 5, 6, 4, 7, 6, 4,\n",
            "        3, 6, 7, 6, 6, 6, 5, 7, 6, 6, 6, 6, 6, 5, 0, 6, 6, 6, 6, 5, 7, 4, 6, 6,\n",
            "        6, 6, 5, 5, 9, 6, 4, 2, 4, 5, 6, 4, 6, 0, 2, 9, 4, 7, 6, 6, 9, 6, 9, 6,\n",
            "        6, 9, 9, 6, 9, 3, 6, 9, 6, 6, 2, 5, 7, 7, 6, 2, 9, 6, 4, 6, 6, 5, 5, 2,\n",
            "        4, 6, 6, 6, 6]))\n"
          ]
        }
      ]
    },
    {
      "cell_type": "code",
      "source": [
        "#auto-assigns values to max_probs and indices to preds\n",
        "max_probs, preds = torch.max(probs, dim=1)\n",
        "print(preds) #outputs of model\n",
        "print(max_probs)\n",
        "print(labels) #actual values"
      ],
      "metadata": {
        "id": "18lWkR8b1cDs",
        "outputId": "799114ce-f767-493a-fbf8-dd64c275ee52",
        "colab": {
          "base_uri": "https://localhost:8080/"
        }
      },
      "execution_count": 47,
      "outputs": [
        {
          "output_type": "stream",
          "name": "stdout",
          "text": [
            "tensor([6, 6, 9, 6, 6, 6, 5, 6, 0, 2, 6, 6, 6, 6, 6, 6, 5, 5, 6, 1, 6, 6, 1, 6,\n",
            "        9, 6, 5, 6, 5, 6, 5, 9, 6, 7, 6, 4, 6, 5, 7, 9, 5, 9, 5, 6, 4, 7, 6, 4,\n",
            "        3, 6, 7, 6, 6, 6, 5, 7, 6, 6, 6, 6, 6, 5, 0, 6, 6, 6, 6, 5, 7, 4, 6, 6,\n",
            "        6, 6, 5, 5, 9, 6, 4, 2, 4, 5, 6, 4, 6, 0, 2, 9, 4, 7, 6, 6, 9, 6, 9, 6,\n",
            "        6, 9, 9, 6, 9, 3, 6, 9, 6, 6, 2, 5, 7, 7, 6, 2, 9, 6, 4, 6, 6, 5, 5, 2,\n",
            "        4, 6, 6, 6, 6])\n",
            "tensor([0.1453, 0.1134, 0.1171, 0.1130, 0.1312, 0.1429, 0.1204, 0.1477, 0.1178,\n",
            "        0.1311, 0.1185, 0.1298, 0.1262, 0.1193, 0.1263, 0.1147, 0.1245, 0.1142,\n",
            "        0.2029, 0.1351, 0.1291, 0.1458, 0.1229, 0.1406, 0.1234, 0.1254, 0.1127,\n",
            "        0.1465, 0.1170, 0.1520, 0.1331, 0.1353, 0.1474, 0.1277, 0.1402, 0.1197,\n",
            "        0.2080, 0.1097, 0.1203, 0.1248, 0.1409, 0.1206, 0.1286, 0.1470, 0.1445,\n",
            "        0.1209, 0.1687, 0.1303, 0.1246, 0.1190, 0.1422, 0.1300, 0.1363, 0.1281,\n",
            "        0.1324, 0.1251, 0.1443, 0.1721, 0.1313, 0.1680, 0.1484, 0.1203, 0.1117,\n",
            "        0.1315, 0.1359, 0.1142, 0.1649, 0.1371, 0.1140, 0.1391, 0.1581, 0.1147,\n",
            "        0.1204, 0.1265, 0.1292, 0.1376, 0.1240, 0.1336, 0.1112, 0.1421, 0.1273,\n",
            "        0.1209, 0.1437, 0.1393, 0.1240, 0.1262, 0.1433, 0.1215, 0.1427, 0.1320,\n",
            "        0.1156, 0.1301, 0.1212, 0.1231, 0.1211, 0.1788, 0.1438, 0.1345, 0.1205,\n",
            "        0.1512, 0.1551, 0.1192, 0.1564, 0.1143, 0.1383, 0.1697, 0.1199, 0.1356,\n",
            "        0.1244, 0.1109, 0.1321, 0.1144, 0.1194, 0.1652, 0.1200, 0.1517, 0.1463,\n",
            "        0.1160, 0.1448, 0.1161, 0.1442, 0.1481, 0.1597, 0.1246, 0.1295],\n",
            "       grad_fn=<MaxBackward0>)\n",
            "tensor([7, 0, 3, 3, 7, 5, 6, 3, 1, 7, 1, 2, 9, 9, 8, 9, 6, 7, 0, 7, 4, 6, 0, 2,\n",
            "        7, 6, 1, 3, 1, 4, 4, 1, 8, 7, 3, 3, 6, 3, 4, 1, 2, 1, 5, 0, 2, 4, 0, 6,\n",
            "        3, 5, 8, 9, 7, 2, 4, 2, 6, 8, 4, 0, 5, 2, 1, 8, 2, 1, 4, 4, 7, 2, 0, 0,\n",
            "        6, 1, 2, 7, 1, 3, 3, 0, 2, 9, 4, 5, 5, 3, 3, 1, 2, 2, 2, 7, 7, 9, 1, 0,\n",
            "        6, 9, 9, 8, 4, 3, 8, 9, 0, 0, 9, 7, 6, 6, 6, 7, 1, 0, 6, 2, 5, 4, 4, 1,\n",
            "        0, 8, 0, 7, 9])\n"
          ]
        }
      ]
    },
    {
      "cell_type": "code",
      "source": [
        "#how many out of given batch correctly predicted\n",
        "torch.sum(preds==labels)"
      ],
      "metadata": {
        "id": "3_Uw3Rm62Wa2",
        "outputId": "3a912c78-d36a-4d1f-8f08-38279131ff3a",
        "colab": {
          "base_uri": "https://localhost:8080/"
        }
      },
      "execution_count": 48,
      "outputs": [
        {
          "output_type": "execute_result",
          "data": {
            "text/plain": [
              "tensor(15)"
            ]
          },
          "metadata": {},
          "execution_count": 48
        }
      ]
    },
    {
      "cell_type": "markdown",
      "source": [
        "- We need to evaluate model while it's training.\n",
        "- Finding accuracy (how many images are predicted correct) is good way to do that."
      ],
      "metadata": {
        "id": "a9zvy1aj3cZM"
      }
    },
    {
      "cell_type": "code",
      "source": [
        "#how much percentage accurate the model is predicting\n",
        "def accuracy(outputs,labels):\n",
        "  _,preds = torch.max(outputs, dim=1)\n",
        "  return torch.tensor(torch.sum(preds==labels).item()/len(preds))"
      ],
      "metadata": {
        "id": "dhOhbZJo3aFC"
      },
      "execution_count": 49,
      "outputs": []
    },
    {
      "cell_type": "code",
      "source": [
        "#current accuracy percentage\n",
        "accuracy(outputs,labels)"
      ],
      "metadata": {
        "id": "wI2uAcSB4B5E",
        "outputId": "a4898133-214e-458e-c10b-cf9e5aee5373",
        "colab": {
          "base_uri": "https://localhost:8080/"
        }
      },
      "execution_count": 50,
      "outputs": [
        {
          "output_type": "execute_result",
          "data": {
            "text/plain": [
              "tensor(0.1200)"
            ]
          },
          "metadata": {},
          "execution_count": 50
        }
      ]
    },
    {
      "cell_type": "markdown",
      "source": [
        "- Accuracy gives percpective about how many images are predicted correctly, but it disregards remaining images from the batch.\n",
        "- Even torch max picks only the highest prob value as prediction, but it is not always correct.\n",
        "- From above two points, it is clear that these two functions are helpful to give feedback to model.\n",
        "- But this is helpful metrics, to make user/human uderstand the model performance.\n",
        "- Since torch.max and accuracy disregards some values from outputs we can do gradient on those.\n",
        "\n",
        "We need to define a loss function which can be gradable and gives correct feedback to model."
      ],
      "metadata": {
        "id": "K4syakPL40AI"
      }
    },
    {
      "cell_type": "markdown",
      "source": [
        "## cross_entropy as loss fuction\n",
        "What it does is,\n",
        "- It picks max probability for each value and applies logerthm to it.\n",
        "- Then it multiplies the value with (-1).\n",
        "- from above 2 steps, We can get what is the loss for each image.\n",
        "- Average of the losses will be calculated for batch, to get model loss.\n",
        "How it works???\n",
        "- log(1) = 0 and log(decimal) is high negative values always. Best probability is 1 and worst is 0.\n",
        "- If model is confident loss will be zero otherwise huge negative value.\n",
        "- we multiply with (-1) to get it positive.\n",
        "\n",
        "Key Note: cross_entropy fuction of torch auto-calculates probability for outputs, so only outputs should be passed to it. (no need to do SoftMax)"
      ],
      "metadata": {
        "id": "byWaesIH7aSo"
      }
    },
    {
      "cell_type": "code",
      "source": [
        "loss_fn = F.cross_entropy"
      ],
      "metadata": {
        "id": "Jsz95Mc_7WIh"
      },
      "execution_count": 51,
      "outputs": []
    },
    {
      "cell_type": "code",
      "source": [
        "#defining and printing intial loss\n",
        "loss = loss_fn(outputs, labels)\n",
        "print(loss)"
      ],
      "metadata": {
        "id": "YHLJWnck4T4T",
        "outputId": "06df28ac-e437-474f-8640-e31358467fad",
        "colab": {
          "base_uri": "https://localhost:8080/"
        }
      },
      "execution_count": 52,
      "outputs": [
        {
          "output_type": "stream",
          "name": "stdout",
          "text": [
            "tensor(2.3384, grad_fn=<NllLossBackward0>)\n"
          ]
        }
      ]
    },
    {
      "cell_type": "markdown",
      "source": [
        "## Idea of generic 'fit' function.\n",
        "- Each time some steps are generic. We need to build a genric fuction to accomodate that.\n",
        "- Functions used in this fit functions are defined specifically for this model, susequently."
      ],
      "metadata": {
        "id": "NP0-S1VhVg9J"
      }
    },
    {
      "cell_type": "code",
      "source": [
        "def fit(epochs, lr, model, train_loader, val_loader, opt_func = torch.optim.SGD):\n",
        "    optimizer = opt_func(model.parameters(), lr) #updating weights and biases\n",
        "    history = [ ] #for collecting rpoch-wise results\n",
        "\n",
        "    for epoch in range(epochs):\n",
        "        #training phase\n",
        "        for batch in train_loader:\n",
        "            loss = model.training_step(batch)  #training_step is a function to be defined\n",
        "            loss.backward() #finding gradients\n",
        "            optimizer.step()\n",
        "            optimizer.zero_grad() #setting gradients to zero\n",
        "        #validation phase\n",
        "        result = evaluate(model, val_loader) #evaluate is a function to be defined\n",
        "        model.epoch_end(epoch, result)  #epoch_end to be defined\n",
        "        history.append(result)\n",
        "    return history"
      ],
      "metadata": {
        "id": "tIQBbwBu86jp"
      },
      "execution_count": 76,
      "outputs": []
    },
    {
      "cell_type": "markdown",
      "source": [
        "- epochs, lr, opt_func, batch_size are called hyper parameters, which developer need to choose.\n",
        "- Choosing correct hyper parameters itself an research."
      ],
      "metadata": {
        "id": "7Bvdo4GDKMy_"
      }
    },
    {
      "cell_type": "code",
      "source": [
        "#defining evaluate function\n",
        "def evaluate(model, val_loader):\n",
        "  #list comprehension -> modifying existing list\n",
        "    outputs = [model.validation_step(batch) for batch in val_loader] #validation_step function need to be defined\n",
        "    return model.validation_epoch_end(outputs) #validation_epoch_end function need to be deifned"
      ],
      "metadata": {
        "id": "sH1RtJ18KcCq"
      },
      "execution_count": 63,
      "outputs": []
    },
    {
      "cell_type": "code",
      "source": [
        "#re-defining MnistModel class\n",
        "class MnistModel(nn.Module):\n",
        "  #Constructor of class init\n",
        "  #self is current batch. default fuction.\n",
        "  #special line to make init is calss under nn.Module\n",
        "    def __init__(self): #double underscore structure is important.\n",
        "        super().__init__()\n",
        "        self.linear = nn.Linear(input_size, num_classes)\n",
        "    #init class function\n",
        "    def forward(self,xb):\n",
        "          #-1 is the key here, based on passed bacth size it can autocaculate it. \n",
        "          #limitation is we need to give inputs/should know image size.\n",
        "          xb = xb.reshape(-1,784)\n",
        "          out = self.linear(xb)\n",
        "          return out\n",
        "    def training_step(self, batch): #model and batch (training) is passed\n",
        "        images, labels = batch\n",
        "        out = self(images)\n",
        "        loss = F.cross_entropy(out, labels)\n",
        "        return loss\n",
        "    def validation_step(self, batch): #model and batch (validation) is passed\n",
        "        images, labels = batch\n",
        "        out = self(images)\n",
        "        loss = F.cross_entropy(out, labels)\n",
        "        acc = accuracy(out, labels)\n",
        "        return {'val_loss' : loss, 'val_acc' : acc} #dictionary of val_loss and val_acc for a batch\n",
        "\n",
        "    #gathering and finding mean for all batches validation set\n",
        "    def validation_epoch_end(self, outputs): #model and outputs of validation_step are passed\n",
        "        batch_losses = [x['val_loss'] for x in outputs]\n",
        "        epoch_loss = torch.stack(batch_losses).mean()\n",
        "        batch_acc = [x['val_acc'] for x in outputs]\n",
        "        epoch_acc = torch.stack(batch_acc).mean()\n",
        "        return {'val_loss':epoch_loss.item(),'val_acc': epoch_acc.item()}\n",
        "\n",
        "    def epoch_end(self, epoch, result): #modelf and results of validation_epoch_end are passed\n",
        "        print(\"Epoch [{}] , val_loss: {:.4f} , vall_acc:: {:.4f}\".format(epoch, result['val_loss'],result['val_acc']))\n",
        "\n",
        "#setting model as this MnistModel\n",
        "model = MnistModel()"
      ],
      "metadata": {
        "id": "cHx6JJwLLPqb"
      },
      "execution_count": 74,
      "outputs": []
    },
    {
      "cell_type": "code",
      "source": [
        "#evaluation model on validation set for the first time\n",
        "result0 = evaluate(model, val_loader)\n",
        "result0"
      ],
      "metadata": {
        "id": "bI88DnMqQpZ2",
        "outputId": "1d995967-38bd-4351-d912-a97af36a149c",
        "colab": {
          "base_uri": "https://localhost:8080/"
        }
      },
      "execution_count": 65,
      "outputs": [
        {
          "output_type": "execute_result",
          "data": {
            "text/plain": [
              "{'val_acc': 0.09789999574422836, 'val_loss': 2.313324451446533}"
            ]
          },
          "metadata": {},
          "execution_count": 65
        }
      ]
    },
    {
      "cell_type": "code",
      "source": [
        "history1 = fit(5, 0.002, model, train_loader, val_loader)"
      ],
      "metadata": {
        "id": "YkCwl1A3Qu8w",
        "outputId": "aeca1f2d-445b-498b-da7d-73a72daad869",
        "colab": {
          "base_uri": "https://localhost:8080/"
        }
      },
      "execution_count": 77,
      "outputs": [
        {
          "output_type": "stream",
          "name": "stdout",
          "text": [
            "Epoch [0] , val_loss: 1.6639 , vall_acc:: 0.7295\n",
            "Epoch [1] , val_loss: 1.3106 , vall_acc:: 0.7811\n",
            "Epoch [2] , val_loss: 1.1033 , vall_acc:: 0.8056\n",
            "Epoch [3] , val_loss: 0.9707 , vall_acc:: 0.8176\n",
            "Epoch [4] , val_loss: 0.8795 , vall_acc:: 0.8271\n"
          ]
        }
      ]
    },
    {
      "cell_type": "code",
      "source": [
        "history2 = fit(5, 0.001, model, train_loader, val_loader)"
      ],
      "metadata": {
        "id": "PTMc6V1USWHE",
        "outputId": "37bb0b5f-711d-4028-9b11-4a22a3f238b0",
        "colab": {
          "base_uri": "https://localhost:8080/"
        }
      },
      "execution_count": 78,
      "outputs": [
        {
          "output_type": "stream",
          "name": "stdout",
          "text": [
            "Epoch [0] , val_loss: 0.8436 , vall_acc:: 0.8312\n",
            "Epoch [1] , val_loss: 0.8126 , vall_acc:: 0.8357\n",
            "Epoch [2] , val_loss: 0.7855 , vall_acc:: 0.8387\n",
            "Epoch [3] , val_loss: 0.7615 , vall_acc:: 0.8423\n",
            "Epoch [4] , val_loss: 0.7402 , vall_acc:: 0.8444\n"
          ]
        }
      ]
    },
    {
      "cell_type": "code",
      "source": [
        "history3 = fit(5, 0.0005, model, train_loader, val_loader)"
      ],
      "metadata": {
        "id": "bDee3SSXUM8b",
        "outputId": "ab38574e-df35-461b-aae4-f12259bc8ad3",
        "colab": {
          "base_uri": "https://localhost:8080/"
        }
      },
      "execution_count": 79,
      "outputs": [
        {
          "output_type": "stream",
          "name": "stdout",
          "text": [
            "Epoch [0] , val_loss: 0.7304 , vall_acc:: 0.8456\n",
            "Epoch [1] , val_loss: 0.7210 , vall_acc:: 0.8461\n",
            "Epoch [2] , val_loss: 0.7122 , vall_acc:: 0.8474\n",
            "Epoch [3] , val_loss: 0.7038 , vall_acc:: 0.8479\n",
            "Epoch [4] , val_loss: 0.6957 , vall_acc:: 0.8484\n"
          ]
        }
      ]
    },
    {
      "cell_type": "code",
      "source": [
        "history4 = fit(10, 0.0005, model, train_loader, val_loader)"
      ],
      "metadata": {
        "id": "R3DDnZXoUh8B",
        "outputId": "4ffb04b7-ff9b-4f96-bac2-bd9afb41c49f",
        "colab": {
          "base_uri": "https://localhost:8080/"
        }
      },
      "execution_count": 80,
      "outputs": [
        {
          "output_type": "stream",
          "name": "stdout",
          "text": [
            "Epoch [0] , val_loss: 0.6881 , vall_acc:: 0.8489\n",
            "Epoch [1] , val_loss: 0.6808 , vall_acc:: 0.8494\n",
            "Epoch [2] , val_loss: 0.6738 , vall_acc:: 0.8505\n",
            "Epoch [3] , val_loss: 0.6671 , vall_acc:: 0.8509\n",
            "Epoch [4] , val_loss: 0.6607 , vall_acc:: 0.8523\n",
            "Epoch [5] , val_loss: 0.6545 , vall_acc:: 0.8537\n",
            "Epoch [6] , val_loss: 0.6486 , vall_acc:: 0.8542\n",
            "Epoch [7] , val_loss: 0.6429 , vall_acc:: 0.8555\n",
            "Epoch [8] , val_loss: 0.6374 , vall_acc:: 0.8558\n",
            "Epoch [9] , val_loss: 0.6322 , vall_acc:: 0.8568\n"
          ]
        }
      ]
    },
    {
      "cell_type": "code",
      "source": [
        "history5 = fit(5, 0.0003, model, train_loader, val_loader)"
      ],
      "metadata": {
        "id": "vdxFYfvuVAwA",
        "outputId": "bcf071eb-7145-4966-9fa2-8c13fc9f7449",
        "colab": {
          "base_uri": "https://localhost:8080/"
        }
      },
      "execution_count": 82,
      "outputs": [
        {
          "output_type": "stream",
          "name": "stdout",
          "text": [
            "Epoch [0] , val_loss: 0.6147 , vall_acc:: 0.8595\n",
            "Epoch [1] , val_loss: 0.6120 , vall_acc:: 0.8598\n",
            "Epoch [2] , val_loss: 0.6093 , vall_acc:: 0.8602\n",
            "Epoch [3] , val_loss: 0.6067 , vall_acc:: 0.8605\n",
            "Epoch [4] , val_loss: 0.6042 , vall_acc:: 0.8612\n"
          ]
        }
      ]
    },
    {
      "cell_type": "code",
      "source": [
        "#collecting accuarcies of validation runs and plotting\n",
        "history = [result0] + history1 + history2 + history3 + history4 + history5\n",
        "accuracies = [result['val_acc'] for result in history]\n",
        "plt.plot(accuracies, '-x')\n",
        "plt.xlabel('epoch')\n",
        "plt.ylabel('accuracy')\n",
        "plt.title('Accuracy vs. No of Epochs')"
      ],
      "metadata": {
        "id": "KBSlGz-RUk5b",
        "outputId": "a1598393-e61a-4740-eb47-70e02ef3a848",
        "colab": {
          "base_uri": "https://localhost:8080/",
          "height": 312
        }
      },
      "execution_count": 83,
      "outputs": [
        {
          "output_type": "execute_result",
          "data": {
            "text/plain": [
              "Text(0.5, 1.0, 'Accuracy vs. No of Epochs')"
            ]
          },
          "metadata": {},
          "execution_count": 83
        },
        {
          "output_type": "display_data",
          "data": {
            "image/png": "[encoded data removed]",
            "text/plain": [
              "<Figure size 432x288 with 1 Axes>"
            ]
          },
          "metadata": {
            "needs_background": "light"
          }
        }
      ]
    },
    {
      "cell_type": "markdown",
      "source": [
        "## Testing the model\n",
        "- using test dataset, which model has never seen so far.\n",
        "- will take tricky images to show model is not accurate.\n",
        "- Why model is not accurate? -> We just took pixel brightness in to account to predict the number, but pixel relation not accounted in this model."
      ],
      "metadata": {
        "id": "AOp2LwqkWTWH"
      }
    },
    {
      "cell_type": "code",
      "source": [
        "#defining test dataset\n",
        "test_dataset = MNIST(root = 'data/', train=False, transform = transforms.ToTensor())"
      ],
      "metadata": {
        "id": "r1ECYM8oV13-"
      },
      "execution_count": 100,
      "outputs": []
    },
    {
      "cell_type": "code",
      "source": [
        "#sample image from test dataset\n",
        "img, label = test_dataset[11]\n",
        "plt.imshow(img[0], cmap = 'gray')\n",
        "print('Shape:',img.shape)\n",
        "print(\"Label:\",label)"
      ],
      "metadata": {
        "id": "JCv8H8gWXAQE",
        "outputId": "9f9790e6-7f2a-465f-be18-c2e4d7271c90",
        "colab": {
          "base_uri": "https://localhost:8080/",
          "height": 300
        }
      },
      "execution_count": 105,
      "outputs": [
        {
          "output_type": "stream",
          "name": "stdout",
          "text": [
            "Shape: torch.Size([1, 28, 28])\n",
            "Label: 6\n"
          ]
        },
        {
          "output_type": "display_data",
          "data": {
            "image/png": "[encoded data removed]",
            "text/plain": [
              "<Figure size 432x288 with 1 Axes>"
            ]
          },
          "metadata": {
            "needs_background": "light"
          }
        }
      ]
    },
    {
      "cell_type": "code",
      "source": [
        "#built model can work with batches only. unsqueeze will add one dimension to taken image.\n",
        "def predict_image(img, model):\n",
        "  xb = img.unsqueeze(0)\n",
        "  yb = model(xb)\n",
        "  _, preds = torch.max(yb, dim=1)\n",
        "  return preds[0].item()"
      ],
      "metadata": {
        "id": "7oWAdnv-Xhon"
      },
      "execution_count": 104,
      "outputs": []
    },
    {
      "cell_type": "code",
      "source": [
        "#doing first prediction\n",
        "img, label = test_dataset[0]\n",
        "plt.imshow(img[0], cmap='gray')\n",
        "print('Label:', label, ', Predicted Label:', predict_image(img,model))"
      ],
      "metadata": {
        "id": "SAMSxDs7X-xX",
        "outputId": "8005209f-e6e9-4df9-ec53-fd198f2d4139",
        "colab": {
          "base_uri": "https://localhost:8080/",
          "height": 282
        }
      },
      "execution_count": 106,
      "outputs": [
        {
          "output_type": "stream",
          "name": "stdout",
          "text": [
            "Label: 7 , Predicted Label: 7\n"
          ]
        },
        {
          "output_type": "display_data",
          "data": {
            "image/png": "[encoded data removed]",
            "text/plain": [
              "<Figure size 432x288 with 1 Axes>"
            ]
          },
          "metadata": {
            "needs_background": "light"
          }
        }
      ]
    },
    {
      "cell_type": "code",
      "source": [
        "img, label = test_dataset[11]\n",
        "plt.imshow(img[0], cmap='gray')\n",
        "print('Label:', label, ', Predicted Label:', predict_image(img,model))"
      ],
      "metadata": {
        "id": "h5LedUdzYyTJ",
        "outputId": "e98b5ef6-0477-4d92-da8c-fd15cf94b0c3",
        "colab": {
          "base_uri": "https://localhost:8080/",
          "height": 282
        }
      },
      "execution_count": 107,
      "outputs": [
        {
          "output_type": "stream",
          "name": "stdout",
          "text": [
            "Label: 6 , Predicted Label: 6\n"
          ]
        },
        {
          "output_type": "display_data",
          "data": {
            "image/png": "[encoded data removed]",
            "text/plain": [
              "<Figure size 432x288 with 1 Axes>"
            ]
          },
          "metadata": {
            "needs_background": "light"
          }
        }
      ]
    },
    {
      "cell_type": "code",
      "source": [
        "img, label = test_dataset[15]\n",
        "plt.imshow(img[0], cmap='gray')\n",
        "print('Label:', label, ', Predicted Label:', predict_image(img,model))"
      ],
      "metadata": {
        "id": "z_1P2XP7Z1K0",
        "outputId": "c2b42a1d-9dca-4a95-9671-85f5b9f612cd",
        "colab": {
          "base_uri": "https://localhost:8080/",
          "height": 282
        }
      },
      "execution_count": 108,
      "outputs": [
        {
          "output_type": "stream",
          "name": "stdout",
          "text": [
            "Label: 5 , Predicted Label: 5\n"
          ]
        },
        {
          "output_type": "display_data",
          "data": {
            "image/png": "[encoded data removed]",
            "text/plain": [
              "<Figure size 432x288 with 1 Axes>"
            ]
          },
          "metadata": {
            "needs_background": "light"
          }
        }
      ]
    },
    {
      "cell_type": "code",
      "source": [
        "img, label = test_dataset[155]\n",
        "plt.imshow(img[0], cmap='gray')\n",
        "print('Label:', label, ', Predicted Label:', predict_image(img,model))"
      ],
      "metadata": {
        "id": "WVwQXwqobmDT",
        "outputId": "eaf83caa-799f-48a2-c729-8e0aa945a762",
        "colab": {
          "base_uri": "https://localhost:8080/",
          "height": 282
        }
      },
      "execution_count": 109,
      "outputs": [
        {
          "output_type": "stream",
          "name": "stdout",
          "text": [
            "Label: 5 , Predicted Label: 5\n"
          ]
        },
        {
          "output_type": "display_data",
          "data": {
            "image/png": "[encoded data removed]",
            "text/plain": [
              "<Figure size 432x288 with 1 Axes>"
            ]
          },
          "metadata": {
            "needs_background": "light"
          }
        }
      ]
    },
    {
      "cell_type": "code",
      "source": [
        "img, label = test_dataset[1775]\n",
        "plt.imshow(img[0], cmap='gray')\n",
        "print('Label:', label, ', Predicted Label:', predict_image(img,model))"
      ],
      "metadata": {
        "id": "9vkSiCDybq8y",
        "outputId": "7bfbaa48-f5fb-45b5-85f6-e6eeb372f6ba",
        "colab": {
          "base_uri": "https://localhost:8080/",
          "height": 282
        }
      },
      "execution_count": 110,
      "outputs": [
        {
          "output_type": "stream",
          "name": "stdout",
          "text": [
            "Label: 0 , Predicted Label: 0\n"
          ]
        },
        {
          "output_type": "display_data",
          "data": {
            "image/png": "[encoded data removed]",
            "text/plain": [
              "<Figure size 432x288 with 1 Axes>"
            ]
          },
          "metadata": {
            "needs_background": "light"
          }
        }
      ]
    },
    {
      "cell_type": "code",
      "source": [
        "img, label = test_dataset[1000]\n",
        "plt.imshow(img[0], cmap='gray')\n",
        "print('Label:', label, ', Predicted Label:', predict_image(img,model))"
      ],
      "metadata": {
        "id": "ap-BLPJOdPmj",
        "outputId": "dc027653-6409-4608-ebf8-30983510cac3",
        "colab": {
          "base_uri": "https://localhost:8080/",
          "height": 282
        }
      },
      "execution_count": 112,
      "outputs": [
        {
          "output_type": "stream",
          "name": "stdout",
          "text": [
            "Label: 9 , Predicted Label: 7\n"
          ]
        },
        {
          "output_type": "display_data",
          "data": {
            "image/png": "[encoded data removed]",
            "text/plain": [
              "<Figure size 432x288 with 1 Axes>"
            ]
          },
          "metadata": {
            "needs_background": "light"
          }
        }
      ]
    },
    {
      "cell_type": "markdown",
      "source": [
        "- Prediction wrong."
      ],
      "metadata": {
        "id": "DuRAxPdmdXTR"
      }
    },
    {
      "cell_type": "code",
      "source": [
        "test_loader = DataLoader(test_dataset, batch_size = 255)\n",
        "result = evaluate(model, test_loader)\n",
        "result"
      ],
      "metadata": {
        "id": "HGP3-lvfdS3l",
        "outputId": "88693d88-e363-4555-f032-8b84a0a11c0e",
        "colab": {
          "base_uri": "https://localhost:8080/"
        }
      },
      "execution_count": 113,
      "outputs": [
        {
          "output_type": "execute_result",
          "data": {
            "text/plain": [
              "{'val_acc': 0.8671924471855164, 'val_loss': 0.5841460227966309}"
            ]
          },
          "metadata": {},
          "execution_count": 113
        }
      ]
    },
    {
      "cell_type": "markdown",
      "source": [
        "- Very Good result on test dataset.\n",
        "- Model accracy on validation dataset = 86.12%\n",
        "- Model accracy on test dataset = 86.71%"
      ],
      "metadata": {
        "id": "lzT8Oe7ceGYD"
      }
    },
    {
      "cell_type": "markdown",
      "source": [
        "## Saving weights and biases to disc\n",
        "- colab shuts down also it will be with files"
      ],
      "metadata": {
        "id": "n4swHuIgeco9"
      }
    },
    {
      "cell_type": "code",
      "source": [
        "#seeing optimized wwights and biases\n",
        "model.state_dict()"
      ],
      "metadata": {
        "id": "B5UPtaTEfjSQ",
        "outputId": "dd489af3-3ec2-4d0e-fd6f-96498b0b2db8",
        "colab": {
          "base_uri": "https://localhost:8080/"
        }
      },
      "execution_count": 119,
      "outputs": [
        {
          "output_type": "execute_result",
          "data": {
            "text/plain": [
              "OrderedDict([('linear.weight',\n",
              "              tensor([[-0.0270, -0.0319, -0.0065,  ...,  0.0283, -0.0349,  0.0323],\n",
              "                      [ 0.0175, -0.0141,  0.0139,  ..., -0.0232, -0.0071,  0.0353],\n",
              "                      [-0.0170, -0.0021, -0.0327,  ...,  0.0061,  0.0234, -0.0130],\n",
              "                      ...,\n",
              "                      [ 0.0106, -0.0126, -0.0061,  ..., -0.0197,  0.0336, -0.0059],\n",
              "                      [ 0.0192, -0.0018,  0.0176,  ..., -0.0067, -0.0023, -0.0303],\n",
              "                      [-0.0352,  0.0185,  0.0082,  ...,  0.0301,  0.0072,  0.0264]])),\n",
              "             ('linear.bias',\n",
              "              tensor([-0.0561,  0.0953, -0.0377, -0.0518,  0.0032,  0.0864,  0.0167,  0.0167,\n",
              "                      -0.0944,  0.0219]))])"
            ]
          },
          "metadata": {},
          "execution_count": 119
        }
      ]
    },
    {
      "cell_type": "code",
      "source": [
        "torch.save(model.state_dict(), 'mnist-logistic.pth')"
      ],
      "metadata": {
        "id": "pLYG-UIId96A"
      },
      "execution_count": 115,
      "outputs": []
    },
    {
      "cell_type": "code",
      "source": [
        "model2 = MnistModel()"
      ],
      "metadata": {
        "id": "-R9OXlsmfcmR"
      },
      "execution_count": 117,
      "outputs": []
    },
    {
      "cell_type": "code",
      "source": [
        "#loading saved weights and biases to new model\n",
        "model2.load_state_dict(torch.load('mnist-logistic.pth'))\n",
        "#printing model2 initial weights and biases\n",
        "model2.state_dict()"
      ],
      "metadata": {
        "id": "PLgWHTsGezcJ",
        "outputId": "5cd1c845-50fd-4ac9-f8b9-2af4bb57e172",
        "colab": {
          "base_uri": "https://localhost:8080/"
        }
      },
      "execution_count": 118,
      "outputs": [
        {
          "output_type": "execute_result",
          "data": {
            "text/plain": [
              "OrderedDict([('linear.weight',\n",
              "              tensor([[-0.0270, -0.0319, -0.0065,  ...,  0.0283, -0.0349,  0.0323],\n",
              "                      [ 0.0175, -0.0141,  0.0139,  ..., -0.0232, -0.0071,  0.0353],\n",
              "                      [-0.0170, -0.0021, -0.0327,  ...,  0.0061,  0.0234, -0.0130],\n",
              "                      ...,\n",
              "                      [ 0.0106, -0.0126, -0.0061,  ..., -0.0197,  0.0336, -0.0059],\n",
              "                      [ 0.0192, -0.0018,  0.0176,  ..., -0.0067, -0.0023, -0.0303],\n",
              "                      [-0.0352,  0.0185,  0.0082,  ...,  0.0301,  0.0072,  0.0264]])),\n",
              "             ('linear.bias',\n",
              "              tensor([-0.0561,  0.0953, -0.0377, -0.0518,  0.0032,  0.0864,  0.0167,  0.0167,\n",
              "                      -0.0944,  0.0219]))])"
            ]
          },
          "metadata": {},
          "execution_count": 118
        }
      ]
    },
    {
      "cell_type": "code",
      "source": [
        ""
      ],
      "metadata": {
        "id": "aKzFOst-fWre"
      },
      "execution_count": null,
      "outputs": []
    }
  ]
}