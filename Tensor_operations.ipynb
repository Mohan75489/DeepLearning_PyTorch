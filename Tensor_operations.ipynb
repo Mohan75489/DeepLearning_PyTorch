{
  "cells": [
    {
      "cell_type": "markdown",
      "metadata": {
        "id": "view-in-github",
        "colab_type": "text"
      },
      "source": [
        "<a href=\"https://colab.research.google.com/github/Mohan75489/DeepLearning_PyTorch/blob/main/Tensor_operations.ipynb\" target=\"_parent\"><img src=\"https://colab.research.google.com/assets/colab-badge.svg\" alt=\"Open In Colab\"/></a>"
      ]
    },
    {
      "cell_type": "markdown",
      "metadata": {
        "id": "Ffq0DR5j3Rue"
      },
      "source": [
        "# PyTorch and Some operations of Tensors\n",
        "\n",
        "PyTorch is an tensor library that can run both on CPU and GPU. It can also do Autograd unlike numpy.\n",
        "\n",
        "- arange (from Creation operations)\n",
        "- tensor_split (from Slicing operation)\n",
        "- bernoulli (from Random sampling operation)\n",
        "- floor (from Math operations)\n",
        "- block_diag (from Other operations)\n",
        "\n",
        "Before we begin, let's install and import PyTorch"
      ]
    },
    {
      "cell_type": "code",
      "execution_count": null,
      "metadata": {
        "id": "qqvxS-SX3Ruf"
      },
      "outputs": [],
      "source": [
        "# Import torch and other required modules\n",
        "import torch"
      ]
    },
    {
      "cell_type": "markdown",
      "metadata": {
        "id": "eYNrJlI03Ruf"
      },
      "source": [
        "## arange operation\n",
        "- This operation allows us to create a **\"1-D\"** tensor with elements ranging from given *Start* to *End* (excluding End value) with custom *Step* (if not default step is 1).\n",
        "-Structure: torch.arange(Start,End,Step)\n"
      ]
    },
    {
      "cell_type": "code",
      "execution_count": null,
      "metadata": {
        "colab": {
          "base_uri": "https://localhost:8080/"
        },
        "id": "Dft_IOG73Rug",
        "outputId": "59c32a8f-f023-461a-81af-380b9d8b65c7"
      },
      "outputs": [
        {
          "data": {
            "text/plain": [
              "tensor([1, 3])"
            ]
          },
          "execution_count": 3,
          "metadata": {},
          "output_type": "execute_result"
        }
      ],
      "source": [
        "# Example 1 - working (change this)\n",
        "torch.arange(1,5,2)"
      ]
    },
    {
      "cell_type": "markdown",
      "metadata": {
        "id": "vgitv5D53Ruh"
      },
      "source": [
        "- Given Start is '1', End is '5', and step is 2.\n",
        "- So, first element should be Start, which is 1.\n",
        "-Second element should be Start+Step = 1+2 =3.\n",
        "-Next element should be 3+2=6, but is out of given range.\n"
      ]
    },
    {
      "cell_type": "code",
      "execution_count": null,
      "metadata": {
        "colab": {
          "base_uri": "https://localhost:8080/"
        },
        "id": "6mlAGXJA3Ruh",
        "outputId": "c5d71f15-ccf8-420c-8d1a-f2a2b579a940"
      },
      "outputs": [
        {
          "data": {
            "text/plain": [
              "tensor([1, 2, 3, 4, 5, 6, 7])"
            ]
          },
          "execution_count": 4,
          "metadata": {},
          "output_type": "execute_result"
        }
      ],
      "source": [
        "# Example 2 - working\n",
        "torch.arange(1,8,1)"
      ]
    },
    {
      "cell_type": "markdown",
      "metadata": {
        "id": "c0IoFBue3Ruh"
      },
      "source": [
        "- Given Start is '1', End is '8', and step is 1.\n",
        "- So, first element should be Start, which is 1.\n",
        "-Second element should be Start+Step = 1+1 =2.\n",
        "-It goes on till 7.\n",
        "-But for 8 is not included, because it is End value.\n"
      ]
    },
    {
      "cell_type": "code",
      "execution_count": null,
      "metadata": {
        "colab": {
          "base_uri": "https://localhost:8080/",
          "height": 183
        },
        "id": "VR3susPX3Rui",
        "outputId": "d0c121af-a38d-4651-e74e-a34f1f9ec5c1"
      },
      "outputs": [
        {
          "ename": "RuntimeError",
          "evalue": "ignored",
          "output_type": "error",
          "traceback": [
            "\u001b[0;31m---------------------------------------------------------------------------\u001b[0m",
            "\u001b[0;31mRuntimeError\u001b[0m                              Traceback (most recent call last)",
            "\u001b[0;32m<ipython-input-8-5b295b0c766b>\u001b[0m in \u001b[0;36m<module>\u001b[0;34m()\u001b[0m\n\u001b[1;32m      1\u001b[0m \u001b[0;31m# Example 3 - breaking (to illustrate when it breaks)\u001b[0m\u001b[0;34m\u001b[0m\u001b[0;34m\u001b[0m\u001b[0;34m\u001b[0m\u001b[0m\n\u001b[0;32m----> 2\u001b[0;31m \u001b[0mtorch\u001b[0m\u001b[0;34m.\u001b[0m\u001b[0marange\u001b[0m\u001b[0;34m(\u001b[0m\u001b[0;36m1\u001b[0m\u001b[0;34m,\u001b[0m\u001b[0;36m8\u001b[0m\u001b[0;34m,\u001b[0m\u001b[0;34m-\u001b[0m\u001b[0;36m1\u001b[0m\u001b[0;34m)\u001b[0m\u001b[0;34m\u001b[0m\u001b[0;34m\u001b[0m\u001b[0m\n\u001b[0m",
            "\u001b[0;31mRuntimeError\u001b[0m: upper bound and larger bound inconsistent with step sign"
          ]
        }
      ],
      "source": [
        "# Example 3 - breaking (to illustrate when it breaks)\n",
        "torch.arange(1,8,-1)"
      ]
    },
    {
      "cell_type": "markdown",
      "metadata": {
        "id": "tJKIZupC3Ruj"
      },
      "source": [
        "- Given Start is '1', End is '8', and step is -1.\n",
        "-It gives error not because Step = -1.\n",
        "-This error is result of End>Start **and** Step is negative\n"
      ]
    },
    {
      "cell_type": "markdown",
      "metadata": {
        "id": "Z48Cs7n_3Ruj"
      },
      "source": [
        "- It's clear from the function structure that, it's only helpul when we need to create tensors with equal space between elements.\n",
        "- Key point to note is we can increase/decrease elemets value.\n",
        "- Limitation: It can only create 1D tensors."
      ]
    },
    {
      "cell_type": "markdown",
      "metadata": {
        "id": "kxZpskuL3Ruk"
      },
      "source": [
        "## tensor_split operation\n",
        "\n",
        "- As name indicates, this operations splits a given tensor.\n",
        "-Structure: torch.tensor_split(tensor need to be splitted, intended elements in each output tensor, dimension)\n",
        "- if 'intended elements count in output tensor' not divisible by 'length of passed tensor', first quotient number of tensors with given indices length and remaining with quotient+1 tensor length."
      ]
    },
    {
      "cell_type": "code",
      "execution_count": null,
      "metadata": {
        "colab": {
          "base_uri": "https://localhost:8080/"
        },
        "id": "objkFYKe3Ruk",
        "outputId": "fe32d490-23f1-4286-eeb9-2820de31a6b8"
      },
      "outputs": [
        {
          "data": {
            "text/plain": [
              "(tensor([[2., 4., 7.],\n",
              "         [7., 8., 2.]]), tensor([[6., 2., 1.]]))"
            ]
          },
          "execution_count": 3,
          "metadata": {},
          "output_type": "execute_result"
        }
      ],
      "source": [
        "# Example 1 - working\n",
        "t1 = torch.tensor([[2,4.,7],[7,8.,2],[6,2,1.]])\n",
        "torch.tensor_split(t1,2)"
      ]
    },
    {
      "cell_type": "markdown",
      "metadata": {
        "id": "IVZgYznA3Ruk"
      },
      "source": [
        "- Given indices (intended element count in output tensor) = 2.\n",
        "- Input tensor has 3 elements which is not divisible by 2, but it's quotient is 1.\n",
        "- So, Output first tensor must has 2 (indices) elelemnts and Output next tensor must has Quotient+1=2 elements. But only 1 element is available for next tensor."
      ]
    },
    {
      "cell_type": "code",
      "execution_count": null,
      "metadata": {
        "colab": {
          "base_uri": "https://localhost:8080/"
        },
        "id": "Yd1y1YuE3Rul",
        "outputId": "7dd428f1-c887-478e-db36-aa1fd5919f88"
      },
      "outputs": [
        {
          "data": {
            "text/plain": [
              "(tensor([[1., 5.],\n",
              "         [7., 1.],\n",
              "         [3., 2.]]), tensor([[7.],\n",
              "         [1.],\n",
              "         [7.]]))"
            ]
          },
          "execution_count": 9,
          "metadata": {},
          "output_type": "execute_result"
        }
      ],
      "source": [
        "# Example 2 - working\n",
        "t2 = torch.tensor([[1,5.,7],[7,1.,1],[3,2,7.]])\n",
        "torch.tensor_split(t2,2,dim=1)"
      ]
    },
    {
      "cell_type": "markdown",
      "metadata": {
        "id": "G6EkYNNZ3Rul"
      },
      "source": [
        "- Given indices (intended element count in output tensor) = 2.\n",
        "- Input tensor has 3 elements which is not divisible by 2, but it's quotient is 1 and dimension is 1.\n",
        "- So, Output first tensor must has 2 (indices) elelemnts and Output next tensor must has Quotient+1=2 elements. But only 1 element is available for next tensor.\n",
        "- Interesting concept of dim is interesting, possible number of dime values are (type of tensor*2) always.\n",
        "- Eg: For 1D tensor, number of dims = 2 and these are 0,-1\n",
        "- Eg: For 3D tensor, number of dims = 6 and these are -3,-2,-1,0,1,2"
      ]
    },
    {
      "cell_type": "code",
      "execution_count": null,
      "metadata": {
        "colab": {
          "base_uri": "https://localhost:8080/",
          "height": 200
        },
        "id": "zTlznbRl3Rul",
        "outputId": "d1fb2757-34b8-43df-b4cd-0c053b52ee6e"
      },
      "outputs": [
        {
          "ename": "IndexError",
          "evalue": "ignored",
          "output_type": "error",
          "traceback": [
            "\u001b[0;31m---------------------------------------------------------------------------\u001b[0m",
            "\u001b[0;31mIndexError\u001b[0m                                Traceback (most recent call last)",
            "\u001b[0;32m<ipython-input-10-471d2f216ca7>\u001b[0m in \u001b[0;36m<module>\u001b[0;34m()\u001b[0m\n\u001b[1;32m      1\u001b[0m \u001b[0;31m# Example 3 - breaking (to illustrate when it breaks)\u001b[0m\u001b[0;34m\u001b[0m\u001b[0;34m\u001b[0m\u001b[0;34m\u001b[0m\u001b[0m\n\u001b[1;32m      2\u001b[0m \u001b[0mt3\u001b[0m \u001b[0;34m=\u001b[0m \u001b[0mtorch\u001b[0m\u001b[0;34m.\u001b[0m\u001b[0mtensor\u001b[0m\u001b[0;34m(\u001b[0m\u001b[0;34m[\u001b[0m\u001b[0;34m[\u001b[0m\u001b[0;34m[\u001b[0m\u001b[0;36m1\u001b[0m\u001b[0;34m,\u001b[0m\u001b[0;36m5.\u001b[0m\u001b[0;34m,\u001b[0m\u001b[0;36m7\u001b[0m\u001b[0;34m]\u001b[0m\u001b[0;34m,\u001b[0m\u001b[0;34m[\u001b[0m\u001b[0;36m7\u001b[0m\u001b[0;34m,\u001b[0m\u001b[0;36m1.\u001b[0m\u001b[0;34m,\u001b[0m\u001b[0;36m1\u001b[0m\u001b[0;34m]\u001b[0m\u001b[0;34m]\u001b[0m\u001b[0;34m,\u001b[0m\u001b[0;34m[\u001b[0m\u001b[0;34m[\u001b[0m\u001b[0;36m3\u001b[0m\u001b[0;34m,\u001b[0m\u001b[0;36m2\u001b[0m\u001b[0;34m,\u001b[0m\u001b[0;36m7.\u001b[0m\u001b[0;34m]\u001b[0m\u001b[0;34m,\u001b[0m\u001b[0;34m[\u001b[0m\u001b[0;36m7\u001b[0m\u001b[0;34m,\u001b[0m\u001b[0;36m1\u001b[0m\u001b[0;34m,\u001b[0m\u001b[0;36m2.\u001b[0m\u001b[0;34m]\u001b[0m\u001b[0;34m]\u001b[0m\u001b[0;34m]\u001b[0m\u001b[0;34m)\u001b[0m\u001b[0;34m\u001b[0m\u001b[0;34m\u001b[0m\u001b[0m\n\u001b[0;32m----> 3\u001b[0;31m \u001b[0mtorch\u001b[0m\u001b[0;34m.\u001b[0m\u001b[0mtensor_split\u001b[0m\u001b[0;34m(\u001b[0m\u001b[0mt3\u001b[0m\u001b[0;34m,\u001b[0m\u001b[0;36m2\u001b[0m\u001b[0;34m,\u001b[0m\u001b[0mdim\u001b[0m\u001b[0;34m=\u001b[0m\u001b[0;36m3\u001b[0m\u001b[0;34m)\u001b[0m\u001b[0;34m\u001b[0m\u001b[0;34m\u001b[0m\u001b[0m\n\u001b[0m",
            "\u001b[0;31mIndexError\u001b[0m: Dimension out of range (expected to be in range of [-3, 2], but got 3)"
          ]
        }
      ],
      "source": [
        "# Example 3 - breaking (to illustrate when it breaks)\n",
        "t3 = torch.tensor([[[1,5.,7],[7,1.,1]],[[3,2,7.],[7,1,2.]]])\n",
        "torch.tensor_split(t3,2,dim=3)"
      ]
    },
    {
      "cell_type": "markdown",
      "metadata": {
        "id": "8DvrcTFa3Rul"
      },
      "source": [
        "- It failed only because of given dim is out of possible range.\n",
        "- For 3D tensor, number of dims = 6 and these are -3,-2,-1,0,1,2"
      ]
    },
    {
      "cell_type": "markdown",
      "metadata": {
        "id": "W0leanlf3Rul"
      },
      "source": [
        "- It may the one of the most used tensor operation, because it involves altering of tensors as per desired need.\n",
        "- Slicing of tensors can be user to seperate inputs and outputs from large datasets."
      ]
    },
    {
      "cell_type": "markdown",
      "metadata": {
        "id": "hz_Q_CDE3Rul"
      },
      "source": [
        "# bernoulli\n",
        "- It always gives 0 or 1 for each element in input tensor probability values.\n",
        "- Input tensor should have values randing from 0 to 1 only.\n",
        "- Output tensor shape is same as input tensor.\n",
        "- Output dtype is int and Input dtype should be float."
      ]
    },
    {
      "cell_type": "code",
      "execution_count": null,
      "metadata": {
        "colab": {
          "base_uri": "https://localhost:8080/"
        },
        "id": "4L0QuPnN3Rum",
        "outputId": "40447308-80f4-44ca-89fe-91a6f225938f"
      },
      "outputs": [
        {
          "data": {
            "text/plain": [
              "tensor([[1., 1.],\n",
              "        [0., 0.]])"
            ]
          },
          "execution_count": 14,
          "metadata": {},
          "output_type": "execute_result"
        }
      ],
      "source": [
        "# Example 1 - working\n",
        "t4 = torch.tensor([[.54,.64],[.111,.23]])\n",
        "torch.bernoulli(t4)"
      ]
    },
    {
      "cell_type": "markdown",
      "metadata": {
        "id": "AYC18F0g3Rum"
      },
      "source": [
        "![Bernoulli.PNG](data:image/png;base64,iVBORw0KGgoAAAANSUhEUgAAA50AAABmCAYAAABIkfUNAAAAAXNSR0IArs4c6QAAAARnQU1BAACxjwv8YQUAAAAJcEhZcwAADsMAAA7DAcdvqGQAAClNSURBVHhe7Z3NaxtJu/bfv0Y7gReCgBeB8cpaRWQRkcUIAmMIjN4sRsxizEDQEwjCcJA30ZMhmIEgDIOzyCMfGDQQUMCgHE5QFkFZDAonBwWyEATE+4ajheE+9dmq7qruLslq+ev6QZO41R/1XffVVXXX/yEAAAAAAAAAACAjIDoBAAAAAAAAAGQGRKcPpzMavz2ixv0yHXxQ5wAAAAAALgHTjz06+LlMu39O1RkAAFgvEJ0RJu96NJioPxTjl1UqbRcol6tRF+01AAAAAC4ikwH13oWNmNmbJpVubVI+t0UtfDgHAJwTEJ0mp31q5HLUeKP+Npj+WaPc90c0Vn8DAAAAAFwk+o9zlHvcV38ZfGjRVq5B/VP1NwAArBmIThPRKO9QJzLSyeENeX5/oP4CAAAAALhIDKn1XY52XtpGzPiPCuXud8hh3gAAwFqA6DQQjfLtNo3U33NkQ15/PVN/AwAAAABcID4fUSVXovZH9XfAlLo/5aj03LZuAABgXUB0Moa/l6l0u0SbGznK3yyJ/9deGhNpRUNeptaLNu3+wK69VaTi/QMaQoMCAAAA4Dx5f0BlZreUbuYpt7EpbJjST535ciC1dKj+vEuNB2V2LbNh7tSp+0X9DgAAa+Caic4ZDfZLlM8VqGqKSo5ulB2jmWI9Zy5PO89H7AkcOfJZgxc4AAAALiZ96rxFHwFWC3dsWGD2SGl/oOyROWI958OedV4uHcpR8VGPJmJNpxz53Ho6FD8DAMA6uGaicyCEZY4fPxyF1zZ8bFMpZj3nYC8fuX5AzQ1MtwUAABBmNh3T4HCXSqyPyO3BDwBYJRM6+kHZMLkGs0RMRtS+7V7POXmxQ7nv2PWByTKhzn1MtwUArJfrN9L5tEyFjRLt/hVumCcveaPcIvu7n2rIXxjXK4F6hKkpAAAAGIM9JgT41MZ7Ndq9vyWFAUQnWDGT4xptbhSo8vswPKI56dCOc0uUGfUe5ihvlsVZj+q5PDXeqr8BAGANYE2nQDbKTjfjoiEPL8wfH5Ypd6e9uu1TpgNq7zeo87f6G9icTqj/ZEesu+WGXfnf+oSJa+AyMX3bpubjjuGobEzd/SYdnDimV6Qi762/gKixuADtqRhZusaiU5b1FvWWKdpgKWav62L0094SxZ6ZNTupU36jTv0LOVnrLO2ijd3u+nOWe8+byxx2cHXJUHQaU1lTDv21bfS8QqVfu+fg0jvsZnx20qDGiWyNRUO+0aBB0JCPqX1HjXyessZ8r2+vn1iUL0dM2M7TAdgERpw+XOtWUji/8gWuHV86tMMMvaKx7kqWYXNKnGwjQ7MovFHtK0bSbC5Ae3rdRaeMvzEbyFEfriLTV3Uq3T4w6vj6GD7dmm+JMutT47GyTayZWTPqP8qrkc8JHT2+aPuPn6VdtLHb3Rh82uxLVI69471uLmgazt41qch9tzimp4PVcaFEp5ieFF1rmRUzs7jLsIpwfGNC8lfWCCuRKRryn7rzUTUx8lmho8/sv8cNOrCmsiwBRGcKcv0JX5PS5xlxOqPJ18Wbq7WWL3C9geg8PyA6zx0Z/+snOtdq6IdsGNW/ifLGHSbuChuFIxwhhpYOyZHPxhv23/ctalw4h4gQnatgrWVxEa6Z6Px///9/wsd//EbV6v9lx2/0JvrbBTxWzRqn1+oF8PGVIFtREBHBkfdwj3CbN0tUfnBAw2/qpBA7+YiX2gl1fy1T8VaJqs8iayqWBaIzBdlJLjO6aQLRCc4T2wiA6MwEiM5zR8b/+vk9yNbQN50I8SPyns8dqt7cpNLdKh28n/eUg/08FUNeamc0/L1Cxe0SVR52gw/sF4dzEp0Oss3PbLnMYb9KWELuAorON7/Fh2fVXCPRqXjXFK7DL5T4uDKiU+Xxyg2tBQzshLS8nKIzIU1nYxqejMQo/OzzkPonfeq/ZX+fxYhYqCxmld9XE9sIWMy4CvKYHYOPXar71onrBkTn+jmd0uitLJv9E1ZOn1dY/M9bdGbVPsU/dy2G/oSJS1621iUosuhnEjHaRaNcDT8v98nZzJNFw++VnxfUfltLWQSpREXcRTwgOk/H1NubO43ZedJXe0sZfBtRZ69KxRv8mTnK3yxT/YXeRzMB1UCsVXxM+nTwc1nGh727sF2l1hvj7XGNVtp9LCUPbhepyhrn2d9HVL9TYNflafO+Hq2d0ehFncp8w+jQeRN2zXGDqtv8Xpne5YdHNDKum/y5S6WbTRqwDmDInyfSvBC+Tjj6qVCBP8M40gzqyUmLqrc2Ka/eXfqxRX3TUOHP3S/L383DZUh86VPrnopHcMwNn4XKl0e6xJEaJ4YIi6MuhM6npKnsVKpUf8z3njWuuVGl9t9GTVDly8qL6PmU9Avhk9+pdXRefsW778s0y9/ciZRzBnvW0UNdF1hZvluzHU1Mh+yaSvC+wnaFvW8YMS6MOvP+gHZE3WBl2emYSq59yuXq1DMblk9tKrPnbz0J+7oWU/GD9DLiprCNAE/RyeLefhDNF3UY9WBeT8fUZWnF84an5dEn9fvJAdXuzstl+ec2DXSkZ32q87SNzCYQTtO4R8z36oRAroFPbENZfs7bLplf7Xd2CmvkXsjR93Cm1HnAnnG7LR1isDw2yxRvExuvIivSrPZU9T1WeGPOL9u3GMi8ZvcvInh80yx0neoXWBqEwhdJJxGHw0G4nVtRfZm8bsjtYXh8Q4fZdjjqg0+/ohD9272iam8KVLxXo+azA6r/WKLir8byF41P++QV/whebTKr4yxOg8NaYpyW72PUR9gEW2qVePczHmXFt8zx+JUesrRR18kjT6XHep9RhUd7sEz4Na42O3RNbJ8pdz3IPejYZfO93DPV3udd7p0qpkJHy+BX+aEh2OLGO95G2H3tAE2q/elC2pwVXaZvFKnyc5MOntWpytJtV8TZTMMF4sxJC9OkS7vM9mqytn/6QdvE7Lo7dToK5bUD417N4BlrXx5wm5HX+zSb0U1UxF3E43qLzts12r3LGytZqPRRPjQq1DfWKG2Hf5eHx3xsVcHWJjo/s/c5O+QiNd+pSmAZSQyf+1hKisb5/g4VI9flfzpijVIxdE6eNzvoGUtz+xpxnXZIwJCN1y41XM97JJ0ViC1nIr/xI96gjn93bqNELRVH/+eqdZ/WtXPDx7t8eaaLjV+cOD6iMy3uMl/yVN7v03jKns3Xur5vy3Jj7snm1dmkp59Jar541VFZfiuPG46yXqa2EksybHaeBUKEE1tfWIfDOv55zOU7d560qGZcn993t0rSI2R4awGZ7uy+UEc5pqPv2bkgTOo9Rpq7DJjoNTYq7htlap4wYcHfx/J5fNIQwtcUNfr5radmGZR7Dw+exIjWoB1UHrxDTtN0mx0R2CytK+xc7B5/71qWUS4Pd1kSKNGr25MAVUZF/eQjPM483mL5Y9xltacLiM6z9C0GQRnxFZ2eaTZ724wReDXq6oadT7MMGev6MLbTWFF9keugclT85YiGX8UpZiwyYfGT+QGGE1cfkvsVwYeW1b+FDkdfnto+ecc/jF+bvEO7v6TEKaGvSO5jODItk2ypVSLj5NHPpJSVRctcbnuXjt4zAcvbo29j6j2S6RXkoWd7sHD4rTIa12Yn95nyg53Zj3HUh8wYz8HCqzALa105stTIcKhnLRRvI+xedoAiNq9M+9NmGOp77EO+I5zOXnHm+IRJxWV3r2G3GWnemq1+g4WU22PfN6jhsD/CNmM8Urz9N3XqXNgZx2//GRJ382u4+PtP+mdw7SPq/JdxnZqe+8//0GJRHaHnqWfV/50+Buf09ep5wTRf9/GPf/23uGfVXDzRyffQfDGkiSocs4+sceCZbBhHotLeaVD/k1GCvvapyb8sOTqgEKpgpV63EqSn2y0mAIc6QowZNwp4GLRBYhV2z/tU5c3fbVLvo7I4TqfUeyz3iCs8OKCBnpIy7Stjap7+srKXqaGNWQ67v79fYtfNDQZZ+QtUecIabf0V9muPGny0I7ZBTkF97cvfb8/jyI3pV3XZWIS2pJHP9TLg3jZCYTfxK1/+6WKxQJx8RKckPk3tDlHChRL/oht8SXV1KhzX+YT0s4kLm28dVeX3lmFcsPQaHfJ4Gc8VzruYODVEDt+Af/i3trLVaBjrfOp8xEfl2WwypLboLMwOTZUlboQ8Hcgv7OydU26MuJh2qcau3wrWRMl2bOunGguTIUbVdXMhZqeNnV/xeRvA8oPnZfV4/qlIouJhiU52jhlrnY8qPl+nwtCdvmpR69WIJrr+zkZ0JNJGilJOMNqohYkoH1tU+4k91xCj8rrwNlIhpj1qPenR6IsKA8/TP3ZEPJKE2/AJb7cM8cSQhluVOkLQsDDvtWnwicVJh4WJb163Qh8NrPbUV3SesW8xCPLCV3T6pNnpkFq8DTc/QHC+TWjEpwuKP/jIAc/XYqidYxWGxm8Hav3equqLSj/HKIWMv9mOxNWH9H6Fr0nkzzp4Py8YUz6Sxp93yOIdV3dj69ci8XcRX29947R0HyPQeWK3/Vkg42S/y+pngnC5ysriZc5K39ORsIvmTpH82oNFw2+XUfNeR9ji+kw1Uhf6YKc+rkVnyQTwOs7LSmhwQNqD81HTJePtbQf42p9RlO+NHw7mH6BYmR7+zsOxw/qLKcmqGklDrzgvZksX7rXmbbhhE5uC0sLqN1hIPW3GJOZCUB9KUMaKzkf0j7oeddTi0xiFVGLxH/VHQnia5+bP9BCdwXlT7Jrn5bFqLsGazohhIDY15s+JOdIKgipYixgQSyNclUfCZx6RihIUdt/7XA0gRzSCdgUbPecdmk5/NbJhPjd0zBvRuEZ7EYEURU5F1MZkmNHvsuPVxrB+rpcBlyY608rXAukSZZE42WknWSRN4/IlqCOR8mU9w3V+FaLTu47G3B8NFxN0u7wzu1Gm2uM2dd4bhhpHC0NXR/6tR7vst3lnLN+5pbcTSMWY/sP/FIYEnwY6FuVGj17IEVFDsDni5mXARJBlKizEJPJes07I57O8U14rU3nD8zpPzXfq74jAnh5XZbz5F+bAKFT1IzD8PDnti/CGxGEUNW15LrDlFDVr9DOEGmE2R4ei7alVxzUr7lsMZF6we3zarDiiafZBftRK/MKu8jAxzVZVXyLlxSQoi0E74lMfJNE2UIjODWa0OkSn691zYurXQvF3EV9v/eK0fB8jUXXf8Z4siIuT1c+ocCWWlQXKnCt9pQ2TlD52e7Bo+JPLqCNssX2m+ohlfJRJ/WDHCH9oYwh7MO1DiEe8fe0Ab/szihSd4qO7JTqT+8bUOC9rS2tibOIQjnv9bMZkoiLOR3SaotASilp0qpHI8L1aOEJ0MlRGJTSUXhmsCoZV6PSR5uFU37+AAbE0qqDHHcGoSLSw+97nagA5MRUs3Ajp/Ig75uvY4hrtRQRSFPteAxF+c1qKfG58Y2cg7nV3Sn4NiH+6RFkkTnHXLpKmsZ2puifaEFvPcJ1PSD+bmLB519Hk+0PnI+vY5NdHtc4uLn4ClZ9p70xAprM0FILtB5gRIc6rKTtCHIaEmP0eO7/SwxJfpuS9Zp2ILw+S6ccetR/XqHJbr42Tx7ydUGklpghLsS2NRHleChn5VTrZ2Gd8HVHvsEG1e6Vg3ZE4EuuwGg3RMwLEzAEu8MWPktmYBi/kWr6SWDOmnmvWa1UerHil1X3vcpuOzAt2j0+bpUlLs5h2PURiXVCsqr4kPEfG32xHfOqDxCrzcdOFmRBN/sASE/aF4u8iPk384qTeoeNhHfF9jETV/YS6vkri2xUVjqCMx6fLqsqcVa482oOzhN++1xG2pD5TtGFaPEXatzjUCKn+uCRmgBjCVbBMvOPyIHpetTNxR+yyCgbfBcK1TCB/f74NoTMN0+LsGyYVF6uNXKDtNK8R9Tat30ghKuLSRWdY/H3816OwUDSm187vjQpKiE6GbmjjG0qvDFZT7Uq/xxf8RFTB8i0wZ+JdU0zf2H2V2IPYhd33Plfl5cRUsHAjpNYj3D6gkdmYOYhrtC3jQH2Zt8LjILORTjF64+4A/BoQ/3SJssxIZz/yjkXSNLYzjY5AqPJV+SPS1anzoWcnpJ9FXNi862hM+XWFS8Ona30aUFusmVIifkVf0WMJwjM0hBhDdZT110M5Ihcqn/Z7vAyYCLJMmXVBY9eJ2PLAGB1WWJtSpN3DPo2+qGlOjnZCPoPl/weepnPBJ0Y9uTH8Xn6BTuy8P7apssHX+bWp/3GiptfZ4XUhR4ylwBeGh2mgfetTnYkPvpyAj3ZPxV69DgMg2p7qa76PboK/4r7FQKZjenwDfNLsHEc6nWVUv8sxKhiUo1WITu4Yi9X3wp1K4Jin6HDOZhHXPi0UfwdLtMnhOC3fx0hUuYip66smLk5BOgYfoNLLylnLXGjmh2d7cJbw2/c6wpbYZ6pponzqqGqX7KUSUdRIOP/4p6aehur8svFW70+1A7ztTwefu7S7XaDyPenIjjsSqlpOd1z5mxLnZW1pDUSn4xp9QHSmZLCqxNE1K8IYHdLIYfCHUAXLt8CcCe0RMroGh4V18nFIYx32aGH3vc9ZeRleolNPaVBOIMx58qH1co7GS2EZByoepWeqEWfhDU2DNNHrH1nD2dfrTtn141fKE+KSazplWEt0oKdyfJvHy7cB8U0XiwXiJDvPPNWO1Vv5dSctqgijyi9N4/Jl/Ac/b4wQqc41d6cVeCvla2mOfpXe/OxO1p1+FrFh862jMeVXPTc4fzqiPl+PKBeEiOfIdZ96mtJ8vRB/n/aEKNYLCa+vHuuFElHx+WGHhcsceVPv3S4S31Q6XN/s99j5lR4WufaLXRM1FNS9Zp2IKw9BGc/tUlen/Wyipj2xdoJvEq9RU1x3WFxDX5qVwC6yuIadDdnIcDADQa+VYvk1UdMhc4/78lwces3Tfosa7N+Q4aHaNV7edB2YfepSna8HMgVltD1Vo7b8I0VLe4Pl8X+xK+vlqvoWA50GvqLTK8302qeNkvBUGbStLC7mmk5ZFwpUPQzHwbWm82z1RaXXdw3qRzyuyvisRnSK9ngZgRbbPi0SfwdLtMnOOLFnLNzHCFTdd9b11RMXJ6ufUeFyl5UVlDkmtsTaWL3Oz7M9OEv47XvjronvM+UHuyo19liepzmzUch2f4uaT/iafnPWF2PZePvaAd72ZxTZHiz7sTkxzsva0porLzqj90J0MlYlOhkJXtBsN9QR2L3c86L91TsbZqywCycy1sEaO91IOQq7130xlddXdPIvyNKZiOM9xqLuuEY72pHy8IiF5MZz4vMjydMrM1ZC06ZkPL0MOPVFbP68+Xo47/LlmS42C8RJCdToNTtWHYlPU5kv3GkFd0AypenXMQ0Od0W5KbK0mvcNusMPH8X7O2KdRKj8JKSfTUJ+e9XRmPKr6kNwXo3wRJ8T8vKY8L5wWsS8MwW5log9LyK4pEHB3xOdEme/x65HHmHRzjO4sXbIRMPXKetke3TwoypnXqJzbuTOD2bkPW0JgRkWB8rVPzsfHrk1ylDaNFMlXM335R+2qCXikZ720qEQvzYya0AbHsZzuQHVeqjqqg6voz2d55NxbLP6FnUQdJa+xWD4TJWXRykiW+OZZvH9glH+YuNgrCVbUX3Rzlj4h7YeH6HlbdCLBpXFs1cjOsXfTNj2FhD9kuXap3D8XaS1yelxWr6PYaiRVv686EyZLPDvZ1LaswXLHHcw137LR/Jkm9fkXufNftSzPThL+O38dMQxrc80whluUxPQH5j48wJnOoqF4m2G3d8O8LM/o8i02XrcCz4quIkpJ0lxZixrSwtibOIQl0x0hgSlPmc8UwpMU5yq91qiU1/rJzr5rL38DeMD9oJcTtHJmQyobez3lL9ZoiprVAKPcRayoIcLa0IDuUJmn3rU+rFk7C1UCe+ZFlNRUu+Lq7y+opNzOmENsLGv0obcV7JneG903sewOlLGfH8unif8q1RC98kXmUf3Kfv5gPpWlqi882qwZ8zgU/spMcN6k486qiAsVL480sWJd5zkflah6WLsmsEe+//tA680lfnC7zcP6TnR2kNqYu6DqfYd5OWO1ZvdP83Axaefi8T8Tq2jMeVX1QfzvLXHpGs/O8f+hY3j6P6KMe9MQwlfy2jQX48tIWa/x8uAccHzLrQXHB/FOhBT0sw6EVdPBaxcDnS+3mD5f8w/uem8DgtmPQofbT+kEww+nTilDjCm73S54HsUdsQImy4rqfcrAeacIvqpE9qPWHyx/9wV5xLX9UT2WZPlh9V9VidKv3bP2LdI3PXROFLaL980m37oUONHvS6XpcOtKrWie9ZadcGxH+JK6gtvx9SIsQgPS69bDWrvV9j/VyM63ekq422HN0xi++QVfzfJbXJ6nAQL9zHahoocXv3i8rjT39XPeLRnC5S56DuFl/PoXose7cFZwm/npyuO6X3mYH+T/WaOqqYjPxTGjLp7xztS5rztABarVPszSkz5FOW6QZ0g7+LLSWKcGcva0ucvOrWgdB9SGC4mOv/5r3+nf5jPiRWx+viN/ukc6WTHf0WexY64LVMukegEAKwS3an0pvzrrTrcbTW4Asx0PiOPwUXjdKbaoNUXztknaSjnNvKRESV5JIoccGbOo5+ZqXI00+87S7maqfDyf9cU/jBqGnqaA6HLDmsD+BKhnU0maFldjdbT+HWvV5uQuFvFEbOmM6tj1UB0AnBJcX7JBACAK8LsXZOKuS1qvI4MHTFmE7X/ZcYjfdcd9DNnRC2lSXQAdumZ0WC/6J4Gz9ddvm6INEgcabyiuITcmQ6ITgDAeQBjAABwlZFt3BbVng/C05u/TWh0XBdrvK62MX/+oJ9ZgslYOrc5HVNbTDl1e7W/Oqgpp9/VxDrcwNEPY/ZlRJ1H3AdBxDnQNcEl5M50QHQCAM4DGAMAgCvN1y7tqrW1riN/t0XDlLW24Gygn1kcuS5+Xk6LafsaXwGmf+069+iUR57KLA3WOqsZXEggOgG4pEzftqm5373a60QAANeb6ZA6e1VjE/wCFe/VqHkccYwEMgH9zKJw51o16SRwY5PKe70E5ztXC+nkbO7oh+/TWfm5SZ0P9vR4cD2B6AQAAAAAAAAAkBkQnQAAAAAAAAAAMgOiEwAAAAAAAABAZkB0AgAAAAAAAADIDIhOAAAAAAAAAACZAdEJAAAAAAAAACAzIDoBAAAAAAAAAGQGRCcAAAAAAAAAgMyA6AQAAAAAAAAAkBkQnQAAAAAAAAAAMgOiEwAAAAAAAABAZkB0AgAAAAAAAADIDIhOAAAAAAAAAACZAdEJAAAAAAAAACAzIDoBAAAAAAAAAGQGRCcAAAAAAAAAgMyA6AQAAAAAAAAAkBkQnQAAAAAAAAAAMgOiEwAAAAAAAABAZkB0AgAAAAAAAADIDIhOAAAAAAAAAACZAdEJAAAAAAAAACAzIDoBAAAAAAAAAGQGRCcAAAAAAAAAgMyA6AQAAAAAAAAAkBkQnQAAAAAAAAAAMgOiEwAAAAAAAABAZkB0AgAAAAAAAADIDIhOAAAAAAAAAACZAdEJAAAAAAAAACAzIDoBAAAAAAAAAGQGRCcAAAAAAAAAgMyA6AQAAAAAAAAAkBkQnQAAAAAAAAAAMgOiEwAAAAAAAABAZkB0AgAAACCV8ZsuDafqD3DJmNHwzw6Nvqk/AQBgzUB0AgAAAFeE2Uz9J8rpjGan6v9LMH6xQ6W9AZMu4NLy6Yiqd5o0gPAEAJwDEJ0AAAAuDBMmbnK5XPpxo0iVnw+o/0XdeF152wily86LifrBTsvGW/WDYvyySoVcnkr7yWJyxt5R3GZi5dIrzhkN9kuUzxWo+nKszl0v+MeDwv0jGp/hAwQAACwDRCcAAFw5pjQ4bNPgMk+F/NajXS2W3qhzJl96VN/mv19fAWEyfLIl0soUnZIpdR64ROeEjn7QgrRBA3XWguVDfWOL3XsVxjgH1FBlKvfDEUuBS8inLjX/OkN5Px1R+06Oys9H6gQAAKwHiE4AALhycEGxQ0eXehRwLhCiI3QB71u0Ja4pUuuDOndN0aOatuhkKbnnTsfJcY02NwpU+X0YO9I5fFqk3J02XQ1ZP6PB0zIVNkq0+9ellJxyZHsv9hOBF7OTOuVzVep8VScAAGANQHQCAMBVY9ajeu4aiE52TXNDXpM/oyF+2VlGdKbytUNVdl/1GN6DLgqj56Uzi046HVLruxxtPRmqEwAAkD0QnQAAcMWY/lmj/LUQnSNq35bXXNrpkisiC9E5Pa6y+zAidmHgYpFPKV/BB5bBXp5y37VoiLWdAIA1AdEJAAAXnSTDMPLb9G2LymL07xqITjGiK6/ZerqCURtfA3wdhvoCec45k+h0urydUvcndt/tNpP2V5BYN7+MZfJ32TIRdx8/b/42G1Hnl6LIx1WIztnrOnvW1rWflg4AWB8QnQAAsE6mQ+rsVal4QwqBwnaVGsdDmoaMT9PJCz8MRy8Rb6WmAarFhetYeGrluZMuOsd/KO+sGzvUcQns0wn1n9WofDMvrsvfLFPtWZ8mQVrP3yGOvR6NDvk6R/53gcp7fSa9GJE05+GZ/d2hxo9FKohzBSr+2KJ+3FBrajg4y+W5ZjHRmfAuzWlfps3jvjrh4HOXdu9sUuHGJu08k+tCJ29aVN3m5wq0eb9BvU/y0vMnktfmyPhS+Rt53vdt6p8cUO1eSZUfWbdbJ5H8iLxrnl/RPDE+Gn05oh3jntCx7Aj/5yOqsPtd5QUAALIAohMAANbE7D0fhcxT+elgLjK/9Kl5N0/5uy0aRvfP+9imsjAubVEwel6WRqclQLTxeoVHOk+nNHyxS0X2W/7WLnVcwubbkFosXXPbdeqpdJh9ZMY7EwT56JYR2iERyxuxnQQzyKWRH07Dwb70ELu716DKLx0aqcGy6UlD3u9yuMOF2XaOisb1/MPDER+12t6l7md1TrNUni8qOhUTuWbTKTqV0Kn8EedCaEztOyx9WPjHf1TYM1i5vlem0qNeIKZFem3UqHuRpue+a8q8coi1pfL37wMqiTTMU+kxu0fHdTaio/v8IwNLFyXI58yo91B+gLDyS3gL5s9z1F8tWFcw0hl8VFjFswAAwAOITgAAWAdfu1TjxuSDjhw9M1EOW/IPexHjVAsvhyiINUCzFp0zGr2oq1G7PG3erdPRBw9HM+9a1Hqn/u9FZCTJOjZpZ79DQ+dAjTbqS3TwtzqlkOsUc1T70whzMJJUovZHfoLF8fiADo5HofzQwo6Lj1FolFI6ZuFp3jHDo9fgudbOKWcu9rOWyfMlRafHu3ZeOhOY6AMT6qq86ncXWbhC5Vc9o5S6Pcck2NZluaMaTvckdF47ROfC+cvRz/v+yBakgYC0vSvH51dC/V2l6NR5f83XQgMA1gdEJwAArIFgH0WnEa8NzWJEJGUrOmdMCJZuVOhogSmQfHP5PLunddyn/kmfOs9qVNrIU2m/H5kiHGb6Z33B9WNz0WmLJcZsTL1HfI0bH2Gaj64JtBDYaNrp9rEtR6bMaaP6ei4O1SkXWijYIsqd5lrg5vfdIkGKwTzt/mWK9oslOp1pzxgflqn+mktMLvD5MxzrA3V4rY8p54iH6PTNX0HC8zjDp7LeR9Pg/EWneg9EJwBgTUB0AgBA5sy9rLqN+Al17svfw9MZsxWd01d1Kv14QENfRcBHZLdZWKLTgKcDMZW1+Es3PG01YEqdB3XqLaQ8UkQn53Ss4hoeJebee0XaJB33O3NjO0U4aBYTClqMuYUgZ7Avp1iG101eDNHJ93J03xNFjQJusGdE8l5Ou2W/Ja0LXTceonMhIZhWdt6oPIt8AIHoBABcNyA6AQAgc9IFlBYGYYMyW9G5KJOXVaqfxChHLgAfFCh/t0n90HtnNHq+Y0+9TMVDdDKkF05+3XykTRv03gZ1JqJTn4sXne5wXgzRqd+VKjp12lmjmXPRnT69do2sW3TqPIuk8VLv8hadfLpygQpM7MfXOfUe3zoCAABnBKITAAAyR68JY0b8G3UqxNxAz2Skc9Kl3V+7ZzYuB3spo5WnUxo8q1BBePusU3O/TtVtJkRvNe3R0VT8ROfcqJ8b8IEQTZkuG5CJ6FRbjrDr45zxiI3++Xsv4Einfpe7vM7RaW2995Q9W6xnvGDbcqxZdMaVxVWJzsGzEh1Ya6VH1L5XofpfrhBpVJsE0QkAWBMQnQAAsAbEZuzMYHQLkDEdfc8NTWagv1enBPGiIDBmfUQnN4xN4/Jzl+p8a4ebVepEvacmMDru2M5SHEw/9qj9uEaVezVqvhhEtgbxxU90zkc6c2qNIUM5ZsrlatR1+TiajWnwbjwfBcpEdM6vj5te2n8sw1099lvTGZ/nSWHjZU++ZyHRyR0FxTzPRE4RtoUln56bZ/fnf+rajrMsLpYjoVWKTr2WO/8oPOoY/y49Fd9TdLK8TR2NdqLy/iKttwUAXGkgOgEAYB186YjtOhK915rrDAVxomBG/UdqPaAlQPQIm/bEyuB78gXG5Zjav3DvnHJ0tXzoIyPPAx/RydfCqnTYDnuIHT6VG+nvOEQ+d/ATindGopNmA2qmea/dbtIgZPUvk+dJYZPChP+2kOicsPLKftt6mjRWrD+WVMTWKQF6re0GS48FPmqshaxE50adetHRfO2xmt8XSYfYd33SW+Y43qU+BJhCsf/YqOeL4JW/AACwOiA6AQBgTUzfNKiYy9PO8+Hc0+vXIbWZcHJPQeUCkguNMh18UGYmE4uj413hMVYIkF/skQruSIePMpV/l2vpRs8r8y1C/j6gBv//rE/1jejI6gXilIVPGN9MLLmmeAbea9k1Nxwjtkz48HVt3CNw/dWYZiq9px/aVL3TCgs9ZujzjfKd214YjA+lY5xKVKizd7Vd4ovziYkSJjyKj3o01u/UYXeFe8k8D8LmENn9RzHpqPdqZKKzb41GK1GcNFI5ZaJK3M+3S1Hei0+n1N8vUZ4Jzvbf0VBeAPgHGB5mR14vlb+B6CzQ5j1WrvQ+nV961LjF84uVv9f2hwAuIMU+sw9Z+gZtAXfIVWBpx99lb/cTbMHDBS7PFL4lyy3zg8aMhs+qVNrepNJ+yhrqd03RRgSzAwAAIGMgOgEAYJ186dPBz2XaFIZljgrbFaofJkxB/Taio4fz63M3ilR90qfJyXwtIz9CIyZibWWVijfYbxubtGNtTi+FqXME7pzRI0A+B0+72rMejWJV0YzGrw6odndTGNgiLfY6NArE/Xw0NXxERpmMdaPm0XirR8CiR2TkcDqkzp7KD/Z7/maJ5WFCuBfJ89iwxaUlj1tMuCMjqGJKuMMrbQB7N0/X0u8DuZb3RoEKKo2HsXlyXrjzOjkNPfLXGDkds7rd+rFIBf43S4fyzwcRp1phJm9aYs2zfKbe83YYeWekLH3qUF2V58KdOnUNETxj5UOISLEtUPL6a+lZOGb6OQAAZABEJwAAXEbOJBb5FiaYWnfpWPcHAiEq4x0BaUdIac6GrjSeU7MXYql8nlL3sXRWxPdQdU7jD5D1P3EUGwAAVgxEJwAAXDfEGlK1Fux9i5px26CA683piNp3crT1xPVxQu8tu+PvxOcqkoXoPBNyWnTYOVUEUf+3qPEW9R4AsD4gOgEA4LrBpxPebtOIZtTbj6xvBMCAe8zNb9Soq9cqamY9uebWd1uaq8pFE53vubOh5GmzwsnWhRHJAIDrAkQnAABcN772qHGnSKXbVTp4D8UJkpCOjYpRxzRC3DCxdd233NBOqMRHnPNHbNEi8mRKnb227RhLeNG2vekCAEDWQHQCAAAAIJ5vA2psF+V0TL4NzG3lLEccedq8VaLG6+u2OjDGCZVjO5v1IR0faWdCjZeRsUy+lc39Taq+tD0cAwBA1kB0AgAAACAZJjybd6rUSfDGCs6f0WGFitslqjzs0jjkkGhGg/0K7f4JwQkAOB8gOgEAAAAAAAAAZAZEJwAAAAAAAACAzIDoBAAAAAAAAACQGRCdAAAAAAAAAAAyA6ITAAAAAAAAAEBmQHQCAAAAAAAAAMgMiE4AAAAAAAAAAJkB0QkAAAAAAAAAIDMgOgEAAAAAAAAAZAZEJwAAAAAAAACAzIDoBAAAAAAAAACQGRCdAAAAAAAAAAAyguh/AfQlOhtKHcZRAAAAAElFTkSuQmCC)\n",
        "\n"
      ]
    },
    {
      "cell_type": "code",
      "execution_count": null,
      "metadata": {
        "colab": {
          "base_uri": "https://localhost:8080/"
        },
        "id": "Qitcbfx03Rum",
        "outputId": "e250c942-e2d9-447e-fd0d-740ed0b80a11"
      },
      "outputs": [
        {
          "data": {
            "text/plain": [
              "tensor([[[0., 1., 0.],\n",
              "         [0., 0., 1.]],\n",
              "\n",
              "        [[1., 0., 1.],\n",
              "         [0., 1., 1.]]])"
            ]
          },
          "execution_count": 16,
          "metadata": {},
          "output_type": "execute_result"
        }
      ],
      "source": [
        "# Example 2 - working\n",
        "t5 = torch.tensor([[[.14,.67,.64],[.111,.23,.95]],[[.85,.15,.75],[.114,.89,.64]]])\n",
        "torch.bernoulli(t5)"
      ]
    },
    {
      "cell_type": "markdown",
      "metadata": {
        "id": "V-aTTmwA3Rum"
      },
      "source": [
        "- .64 has 0 and 1 also. Because the position also matters for bernoulli calculation."
      ]
    },
    {
      "cell_type": "code",
      "execution_count": null,
      "metadata": {
        "colab": {
          "base_uri": "https://localhost:8080/",
          "height": 200
        },
        "id": "o09yrP9v3Rum",
        "outputId": "06c566a3-ad6c-4b0e-d948-21462bdcf309"
      },
      "outputs": [
        {
          "ename": "RuntimeError",
          "evalue": "ignored",
          "output_type": "error",
          "traceback": [
            "\u001b[0;31m---------------------------------------------------------------------------\u001b[0m",
            "\u001b[0;31mRuntimeError\u001b[0m                              Traceback (most recent call last)",
            "\u001b[0;32m<ipython-input-17-66bca359d1c1>\u001b[0m in \u001b[0;36m<module>\u001b[0;34m()\u001b[0m\n\u001b[1;32m      1\u001b[0m \u001b[0;31m# Example 3 - breaking (to illustrate when it breaks)\u001b[0m\u001b[0;34m\u001b[0m\u001b[0;34m\u001b[0m\u001b[0;34m\u001b[0m\u001b[0m\n\u001b[1;32m      2\u001b[0m \u001b[0mt6\u001b[0m \u001b[0;34m=\u001b[0m \u001b[0mtorch\u001b[0m\u001b[0;34m.\u001b[0m\u001b[0mtensor\u001b[0m\u001b[0;34m(\u001b[0m\u001b[0;36m1\u001b[0m\u001b[0;34m)\u001b[0m\u001b[0;34m\u001b[0m\u001b[0;34m\u001b[0m\u001b[0m\n\u001b[0;32m----> 3\u001b[0;31m \u001b[0mtorch\u001b[0m\u001b[0;34m.\u001b[0m\u001b[0mbernoulli\u001b[0m\u001b[0;34m(\u001b[0m\u001b[0mt6\u001b[0m\u001b[0;34m)\u001b[0m\u001b[0;34m\u001b[0m\u001b[0;34m\u001b[0m\u001b[0m\n\u001b[0m",
            "\u001b[0;31mRuntimeError\u001b[0m: \"bernoulli_tensor_cpu_p_\" not implemented for 'Long'"
          ]
        }
      ],
      "source": [
        "# Example 3 - breaking (to illustrate when it breaks)\n",
        "t6 = torch.tensor(1)\n",
        "torch.bernoulli(t6)"
      ]
    },
    {
      "cell_type": "markdown",
      "metadata": {
        "id": "o0lAWLqy3Rum"
      },
      "source": [
        "- This is failed because 0 and 1 are not included/not acceptable as input elements."
      ]
    },
    {
      "cell_type": "markdown",
      "metadata": {
        "id": "BipMuGIY3Rum"
      },
      "source": [
        "- Whenever we required to use Bernoulli distribution in our models."
      ]
    },
    {
      "cell_type": "markdown",
      "metadata": {
        "id": "8ZVZanAW3Run"
      },
      "source": [
        "## floor\n",
        "- Input and Output tensor shapes will be same.\n",
        "- All element values inputs lowered to nearest integer."
      ]
    },
    {
      "cell_type": "code",
      "execution_count": null,
      "metadata": {
        "colab": {
          "base_uri": "https://localhost:8080/"
        },
        "id": "eoEgzC0L3Run",
        "outputId": "533d5530-eb5b-44cc-da21-f05587f4837d"
      },
      "outputs": [
        {
          "data": {
            "text/plain": [
              "tensor([[1., 3., 4.],\n",
              "        [2., 3., 4.]])"
            ]
          },
          "execution_count": 19,
          "metadata": {},
          "output_type": "execute_result"
        }
      ],
      "source": [
        "# Example 1 - working\n",
        "t7 = torch.tensor([[1.2,3.7877,4.0111],[2,3,4]])\n",
        "torch.floor(t7)"
      ]
    },
    {
      "cell_type": "markdown",
      "metadata": {
        "id": "vEOMYB0j3Run"
      },
      "source": [
        "- Key note from the above example is whenter it is near/far from the lower interger, it always gives lower integer.\n",
        "- 3.7877 to 3. & 4.0111 to 4."
      ]
    },
    {
      "cell_type": "code",
      "execution_count": null,
      "metadata": {
        "colab": {
          "base_uri": "https://localhost:8080/"
        },
        "id": "jFjhpeoU3Run",
        "outputId": "67b7c20b-9fb9-41ed-f17c-d7f7aa032363"
      },
      "outputs": [
        {
          "data": {
            "text/plain": [
              "tensor([-3.,  1., -1.,  0.])"
            ]
          },
          "execution_count": 20,
          "metadata": {},
          "output_type": "execute_result"
        }
      ],
      "source": [
        "# Example 2 - working\n",
        "t8 = torch.tensor([-2.63,1.999,-0.11,0.11])\n",
        "torch.floor(t8)"
      ]
    },
    {
      "cell_type": "markdown",
      "metadata": {
        "id": "8AlAGVRj3Run"
      },
      "source": [
        "- Observe for negative inputs also it is accepting and it's lowering.\n",
        "- Keep in mind, 0.11 and -0.11 gives different values. Small errors in dataset will be amplified while using floor."
      ]
    },
    {
      "cell_type": "code",
      "execution_count": null,
      "metadata": {
        "colab": {
          "base_uri": "https://localhost:8080/",
          "height": 200
        },
        "id": "GJK9c47Z3Run",
        "outputId": "14477ac0-0fba-4b26-94fe-3284550e54ab"
      },
      "outputs": [
        {
          "ename": "RuntimeError",
          "evalue": "ignored",
          "output_type": "error",
          "traceback": [
            "\u001b[0;31m---------------------------------------------------------------------------\u001b[0m",
            "\u001b[0;31mRuntimeError\u001b[0m                              Traceback (most recent call last)",
            "\u001b[0;32m<ipython-input-21-d0596ad22668>\u001b[0m in \u001b[0;36m<module>\u001b[0;34m()\u001b[0m\n\u001b[1;32m      1\u001b[0m \u001b[0;31m# Example 3 - breaking (to illustrate when it breaks)\u001b[0m\u001b[0;34m\u001b[0m\u001b[0;34m\u001b[0m\u001b[0;34m\u001b[0m\u001b[0m\n\u001b[1;32m      2\u001b[0m \u001b[0mt9\u001b[0m \u001b[0;34m=\u001b[0m \u001b[0mtorch\u001b[0m\u001b[0;34m.\u001b[0m\u001b[0mtensor\u001b[0m\u001b[0;34m(\u001b[0m\u001b[0;34m[\u001b[0m\u001b[0;34m[\u001b[0m\u001b[0;36m1\u001b[0m\u001b[0;34m,\u001b[0m\u001b[0;36m2\u001b[0m\u001b[0;34m]\u001b[0m\u001b[0;34m,\u001b[0m\u001b[0;34m[\u001b[0m\u001b[0;36m3\u001b[0m\u001b[0;34m,\u001b[0m\u001b[0;36m4\u001b[0m\u001b[0;34m]\u001b[0m\u001b[0;34m]\u001b[0m\u001b[0;34m)\u001b[0m\u001b[0;34m\u001b[0m\u001b[0;34m\u001b[0m\u001b[0m\n\u001b[0;32m----> 3\u001b[0;31m \u001b[0mtorch\u001b[0m\u001b[0;34m.\u001b[0m\u001b[0mfloor\u001b[0m\u001b[0;34m(\u001b[0m\u001b[0mt9\u001b[0m\u001b[0;34m)\u001b[0m\u001b[0;34m\u001b[0m\u001b[0;34m\u001b[0m\u001b[0m\n\u001b[0m",
            "\u001b[0;31mRuntimeError\u001b[0m: \"floor\" \"_vml_cpu\" not implemented for 'Long'"
          ]
        }
      ],
      "source": [
        "# Example 3 - breaking (to illustrate when it breaks)\n",
        "t9 = torch.tensor([[1,2],[3,4]])\n",
        "torch.floor(t9)"
      ]
    },
    {
      "cell_type": "markdown",
      "metadata": {
        "id": "M-b5nrK03Run"
      },
      "source": [
        "- Only floor input is accepted for floor operation and it always gives output in floor."
      ]
    },
    {
      "cell_type": "markdown",
      "metadata": {
        "id": "tMYL965R3Run"
      },
      "source": [
        "- Imagine your model predicting with 0 to 1 loss value, you can lower predictions to get exact answers."
      ]
    },
    {
      "cell_type": "markdown",
      "metadata": {
        "id": "hQtl1NS-3Ruo"
      },
      "source": [
        "## block_diag\n",
        "\n",
        "- It takes bucnch of tensors and gives a tensor as output.\n",
        "- All input tesnosrs are added as blocks and in diaglonal manner as the name.\n",
        "- All remaining elements are filled with value 0."
      ]
    },
    {
      "cell_type": "code",
      "execution_count": null,
      "metadata": {
        "colab": {
          "base_uri": "https://localhost:8080/"
        },
        "id": "5iLib75S3Ruo",
        "outputId": "45265fc4-edb9-4360-fa1c-e03e0ca1697e"
      },
      "outputs": [
        {
          "data": {
            "text/plain": [
              "tensor([[ 0.6683, -2.4404,  0.0000,  0.0000,  0.0000,  0.0000,  0.0000,  0.0000],\n",
              "        [ 0.0850, -1.3259,  0.0000,  0.0000,  0.0000,  0.0000,  0.0000,  0.0000],\n",
              "        [ 0.2563, -0.1471,  0.0000,  0.0000,  0.0000,  0.0000,  0.0000,  0.0000],\n",
              "        [ 0.0000,  0.0000,  0.6030,  0.3668,  0.0807,  0.0000,  0.0000,  0.0000],\n",
              "        [ 0.0000,  0.0000,  0.4894,  0.1515,  0.2370,  0.0000,  0.0000,  0.0000],\n",
              "        [ 0.0000,  0.0000,  0.0641,  0.8901,  0.2777,  0.0000,  0.0000,  0.0000],\n",
              "        [ 0.0000,  0.0000,  0.0000,  0.0000,  0.0000,  1.0000,  2.0000,  5.0000],\n",
              "        [ 0.0000,  0.0000,  0.0000,  0.0000,  0.0000,  5.0000,  0.2000,  6.0000]])"
            ]
          },
          "execution_count": 43,
          "metadata": {},
          "output_type": "execute_result"
        }
      ],
      "source": [
        "# Example 1 - working\n",
        "t10 = torch.randn(3,2)\n",
        "t11 = torch.rand(3,3)\n",
        "t12 = torch.tensor([[1.,2.,5],[5,.2,6]])\n",
        "torch.block_diag(t10,t11,t12)"
      ]
    },
    {
      "cell_type": "markdown",
      "metadata": {
        "id": "67I-kijW3Ruo"
      },
      "source": [
        "- All tensors are added to form the output tensor with shape(8,8)."
      ]
    },
    {
      "cell_type": "code",
      "execution_count": null,
      "metadata": {
        "colab": {
          "base_uri": "https://localhost:8080/"
        },
        "id": "Ur_xvQpL3Ruo",
        "outputId": "8b57654e-5f6a-45ee-cefd-75ff63bc5d9b"
      },
      "outputs": [
        {
          "data": {
            "text/plain": [
              "tensor([[1., 2., 0., 0.],\n",
              "        [5., 6., 0., 0.],\n",
              "        [0., 0., 5., 7.],\n",
              "        [0., 0., 6., 8.],\n",
              "        [0., 0., 7., 9.]])"
            ]
          },
          "execution_count": 41,
          "metadata": {},
          "output_type": "execute_result"
        }
      ],
      "source": [
        "# Example 2 - working\n",
        "t13 = torch.tensor([[1,2.],[5,6]])\n",
        "t14 = torch.tensor([[5,7],[6,8],[7,9]])\n",
        "torch.block_diag(t13,t14)"
      ]
    },
    {
      "cell_type": "markdown",
      "metadata": {
        "id": "LOkbudCx3Ruo"
      },
      "source": [
        "- If one input tensor is float type, Output tensor becomes of data type float.\n",
        "- Observe shape of t13 is 2,2 and t14 is 3,2. output tensor shape is 5,4. \n",
        "- Shape of output is sum of respective levels of tesnosr input shapes."
      ]
    },
    {
      "cell_type": "code",
      "execution_count": null,
      "metadata": {
        "colab": {
          "base_uri": "https://localhost:8080/",
          "height": 217
        },
        "id": "Jj_JucHe3Ruo",
        "outputId": "c53a9a21-4c8b-4525-cbee-ec0b7a8f6e7c"
      },
      "outputs": [
        {
          "ename": "RuntimeError",
          "evalue": "ignored",
          "output_type": "error",
          "traceback": [
            "\u001b[0;31m---------------------------------------------------------------------------\u001b[0m",
            "\u001b[0;31mRuntimeError\u001b[0m                              Traceback (most recent call last)",
            "\u001b[0;32m<ipython-input-58-2a9f76d4e4b8>\u001b[0m in \u001b[0;36m<module>\u001b[0;34m()\u001b[0m\n\u001b[1;32m      1\u001b[0m \u001b[0;31m# Example 3 - breaking (to illustrate when it breaks)\u001b[0m\u001b[0;34m\u001b[0m\u001b[0;34m\u001b[0m\u001b[0;34m\u001b[0m\u001b[0m\n\u001b[1;32m      2\u001b[0m \u001b[0mt15\u001b[0m \u001b[0;34m=\u001b[0m \u001b[0mtorch\u001b[0m\u001b[0;34m.\u001b[0m\u001b[0mrand\u001b[0m\u001b[0;34m(\u001b[0m\u001b[0;36m1\u001b[0m\u001b[0;34m,\u001b[0m\u001b[0;36m2\u001b[0m\u001b[0;34m)\u001b[0m\u001b[0;34m\u001b[0m\u001b[0;34m\u001b[0m\u001b[0m\n\u001b[0;32m----> 3\u001b[0;31m \u001b[0mt16\u001b[0m \u001b[0;34m=\u001b[0m \u001b[0mtorch\u001b[0m\u001b[0;34m.\u001b[0m\u001b[0mrandn\u001b[0m\u001b[0;34m(\u001b[0m\u001b[0;34m-\u001b[0m\u001b[0;36m1\u001b[0m\u001b[0;34m)\u001b[0m\u001b[0;34m\u001b[0m\u001b[0;34m\u001b[0m\u001b[0m\n\u001b[0m\u001b[1;32m      4\u001b[0m \u001b[0mtorch\u001b[0m\u001b[0;34m.\u001b[0m\u001b[0mblock_diag\u001b[0m\u001b[0;34m(\u001b[0m\u001b[0mt15\u001b[0m\u001b[0;34m,\u001b[0m\u001b[0mt16\u001b[0m\u001b[0;34m)\u001b[0m\u001b[0;34m\u001b[0m\u001b[0;34m\u001b[0m\u001b[0m\n",
            "\u001b[0;31mRuntimeError\u001b[0m: Trying to create tensor with negative dimension -1: [-1]"
          ]
        }
      ],
      "source": [
        "# Example 3 - breaking (to illustrate when it breaks)\n",
        "t15 = torch.rand(1,2)\n",
        "t16 = torch.randn(-1)\n",
        "torch.block_diag(t15,t16)"
      ]
    },
    {
      "cell_type": "markdown",
      "metadata": {
        "id": "y6Mf5Stk3Ruo"
      },
      "source": [
        "- It shouldn't produce output tensor with shape 2,1 for above example.\n",
        "- Shape of a tensor cant be negative, at base level."
      ]
    },
    {
      "cell_type": "markdown",
      "metadata": {
        "id": "jMSxJv3b3Ruo"
      },
      "source": [
        "- Literally, I can't find a application with my current knowledge, but thinking it would be useful during multiplication of tensor (matrix multiplication"
      ]
    },
    {
      "cell_type": "markdown",
      "metadata": {
        "id": "nkBxm8pM3Rup"
      },
      "source": [
        "## Conclusion\n",
        "\n",
        "Summarize what was covered in this notebook, and where to go next"
      ]
    },
    {
      "cell_type": "markdown",
      "metadata": {
        "id": "leaTeL833Rup"
      },
      "source": [
        "## Reference Links\n",
        "Provide links to your references and other interesting articles about tensors\n",
        "* Official documentation for tensor operations: https://pytorch.org/docs/stable/torch.html\n",
        "* ..."
      ]
    }
  ],
  "metadata": {
    "colab": {
      "name": "01-tensor-operations.ipynb",
      "provenance": [],
      "include_colab_link": true
    },
    "kernelspec": {
      "display_name": "Python 3",
      "language": "python",
      "name": "python3"
    },
    "language_info": {
      "codemirror_mode": {
        "name": "ipython",
        "version": 3
      },
      "file_extension": ".py",
      "mimetype": "text/x-python",
      "name": "python",
      "nbconvert_exporter": "python",
      "pygments_lexer": "ipython3",
      "version": "3.8.5"
    }
  },
  "nbformat": 4,
  "nbformat_minor": 0
}